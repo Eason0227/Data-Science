{
 "cells": [
  {
   "cell_type": "markdown",
   "metadata": {},
   "source": [
    "### Gaussian Naive Bayes Classification of Iris\n",
    "\n",
    "Earlier we looked at using discretizing bins of the input attributes to calculate the conditional probabilities. We do not need to do that. We can assume that the attributes are Gaussian. In that case we can estimate the probability directly from the Gaussian distribution.\n",
    "\n",
    "Using the Iris dataset:\n",
    "\n",
    "| Dataset             | Iris\n",
    "|---------------------|-----------------------------------|\n",
    "| Number of Instances | 150 (50 per class) |\n",
    "| Number of Attributes | 4 numeric                        |\n",
    "| Attribute            | Sepal length/cm               |\n",
    "| Attribute            | Sepal width/cm                |\n",
    "|  Attribute           | Petal length/cm               |\n",
    "|  Attribute           | Petal width/cm                |\n",
    "| class                | Iris-Setosa                      |\n",
    "| class                | Iris-Versicolour                 |\n",
    "| class                | Iris-Virginica                   |\n"
   ]
  },
  {
   "cell_type": "code",
   "execution_count": 7,
   "metadata": {},
   "outputs": [
    {
     "data": {
      "text/plain": [
       "array([0, 0, 0, 0, 0, 0, 0, 0, 0, 0, 0, 0, 0, 0, 0, 0, 0, 0, 0, 0])"
      ]
     },
     "execution_count": 7,
     "metadata": {},
     "output_type": "execute_result"
    }
   ],
   "source": [
    "import matplotlib.pyplot as plt\n",
    "from sklearn import datasets\n",
    "import numpy as np\n",
    "import seaborn as sns\n",
    "import pandas as pd\n",
    "\n",
    "# import iris data \n",
    "iris = datasets.load_iris()\n",
    "column_names = iris.feature_names\n",
    "\n",
    "iris.data[:20,:] #X\n",
    "iris.target[:20] #Y\n",
    "\n",
    "#put it in a dataframe\n",
    "#df=pd.DataFrame(iris.data,columns= column_names)\n",
    "#df.head()"
   ]
  },
  {
   "cell_type": "code",
   "execution_count": 8,
   "metadata": {},
   "outputs": [
    {
     "data": {
      "text/plain": [
       "array([[5.1, 3.5, 1.4, 0.2],\n",
       "       [4.9, 3. , 1.4, 0.2],\n",
       "       [4.7, 3.2, 1.3, 0.2],\n",
       "       [4.6, 3.1, 1.5, 0.2],\n",
       "       [5. , 3.6, 1.4, 0.2],\n",
       "       [5.4, 3.9, 1.7, 0.4],\n",
       "       [4.6, 3.4, 1.4, 0.3],\n",
       "       [5. , 3.4, 1.5, 0.2],\n",
       "       [4.4, 2.9, 1.4, 0.2],\n",
       "       [4.9, 3.1, 1.5, 0.1],\n",
       "       [5.4, 3.7, 1.5, 0.2],\n",
       "       [4.8, 3.4, 1.6, 0.2],\n",
       "       [4.8, 3. , 1.4, 0.1],\n",
       "       [4.3, 3. , 1.1, 0.1],\n",
       "       [5.8, 4. , 1.2, 0.2],\n",
       "       [5.7, 4.4, 1.5, 0.4],\n",
       "       [5.4, 3.9, 1.3, 0.4],\n",
       "       [5.1, 3.5, 1.4, 0.3],\n",
       "       [5.7, 3.8, 1.7, 0.3],\n",
       "       [5.1, 3.8, 1.5, 0.3],\n",
       "       [5.4, 3.4, 1.7, 0.2],\n",
       "       [5.1, 3.7, 1.5, 0.4],\n",
       "       [4.6, 3.6, 1. , 0.2],\n",
       "       [5.1, 3.3, 1.7, 0.5],\n",
       "       [4.8, 3.4, 1.9, 0.2],\n",
       "       [5. , 3. , 1.6, 0.2],\n",
       "       [5. , 3.4, 1.6, 0.4],\n",
       "       [5.2, 3.5, 1.5, 0.2],\n",
       "       [5.2, 3.4, 1.4, 0.2],\n",
       "       [4.7, 3.2, 1.6, 0.2],\n",
       "       [4.8, 3.1, 1.6, 0.2],\n",
       "       [5.4, 3.4, 1.5, 0.4],\n",
       "       [5.2, 4.1, 1.5, 0.1],\n",
       "       [5.5, 4.2, 1.4, 0.2],\n",
       "       [4.9, 3.1, 1.5, 0.2],\n",
       "       [5. , 3.2, 1.2, 0.2],\n",
       "       [5.5, 3.5, 1.3, 0.2],\n",
       "       [4.9, 3.6, 1.4, 0.1],\n",
       "       [4.4, 3. , 1.3, 0.2],\n",
       "       [5.1, 3.4, 1.5, 0.2],\n",
       "       [5. , 3.5, 1.3, 0.3],\n",
       "       [4.5, 2.3, 1.3, 0.3],\n",
       "       [4.4, 3.2, 1.3, 0.2],\n",
       "       [5. , 3.5, 1.6, 0.6],\n",
       "       [5.1, 3.8, 1.9, 0.4],\n",
       "       [4.8, 3. , 1.4, 0.3],\n",
       "       [5.1, 3.8, 1.6, 0.2],\n",
       "       [4.6, 3.2, 1.4, 0.2],\n",
       "       [5.3, 3.7, 1.5, 0.2],\n",
       "       [5. , 3.3, 1.4, 0.2]])"
      ]
     },
     "execution_count": 8,
     "metadata": {},
     "output_type": "execute_result"
    }
   ],
   "source": [
    "iris.data[iris.target==0]"
   ]
  },
  {
   "cell_type": "markdown",
   "metadata": {},
   "source": [
    "Calculate the mean and sd for all the 3 classes"
   ]
  },
  {
   "cell_type": "code",
   "execution_count": 9,
   "metadata": {},
   "outputs": [
    {
     "name": "stdout",
     "output_type": "stream",
     "text": [
      "[5.006 3.428 1.462 0.246]\n",
      "[5.936 2.77  4.26  1.326]\n",
      "[6.588 2.974 5.552 2.026]\n"
     ]
    }
   ],
   "source": [
    "#mean\n",
    "print(iris.data[iris.target==0].mean(axis=0))\n",
    "print(iris.data[iris.target==1].mean(axis=0))\n",
    "print(iris.data[iris.target==2].mean(axis=0))\n"
   ]
  },
  {
   "cell_type": "code",
   "execution_count": 10,
   "metadata": {},
   "outputs": [
    {
     "name": "stdout",
     "output_type": "stream",
     "text": [
      "[0.34894699 0.37525458 0.17191859 0.10432641]\n",
      "[0.51098337 0.31064449 0.46518813 0.19576517]\n",
      "[0.62948868 0.31925538 0.54634787 0.27188968]\n"
     ]
    }
   ],
   "source": [
    "#standard deviation\n",
    "print(iris.data[iris.target==0].std(axis=0))\n",
    "print(iris.data[iris.target==1].std(axis=0))\n",
    "print(iris.data[iris.target==2].std(axis=0))\n"
   ]
  },
  {
   "cell_type": "markdown",
   "metadata": {},
   "source": [
    "Plot the normal curves for sepal length for all classes"
   ]
  },
  {
   "cell_type": "code",
   "execution_count": 11,
   "metadata": {},
   "outputs": [
    {
     "data": {
      "image/png": "[encoded data removed]",
      "text/plain": [
       "<Figure size 432x288 with 1 Axes>"
      ]
     },
     "metadata": {
      "needs_background": "light"
     },
     "output_type": "display_data"
    }
   ],
   "source": [
    "#plot the gaussian given mean and sd - attribute 0 sepal length\n",
    "\n",
    "from scipy.stats import norm\n",
    "\n",
    "x_axis = np.arange(4,8, 0.001)\n",
    "fig,ax=plt.subplots()\n",
    "ax.plot(x_axis, norm.pdf(x_axis,5.006,0.349),label='0')\n",
    "#add here\n",
    "ax.legend()\n",
    "plt.show()"
   ]
  },
  {
   "cell_type": "markdown",
   "metadata": {},
   "source": [
    "Plot the normal curves for petal length for all classes"
   ]
  },
  {
   "cell_type": "code",
   "execution_count": 12,
   "metadata": {},
   "outputs": [
    {
     "data": {
      "image/png": "[encoded data removed]",
      "text/plain": [
       "<Figure size 432x288 with 1 Axes>"
      ]
     },
     "metadata": {
      "needs_background": "light"
     },
     "output_type": "display_data"
    }
   ],
   "source": [
    "#plot the gaussian given mean and sd - attribute 2 petal length\n",
    "x_axis = np.arange(0,7, 0.001)\n",
    "fig,ax=plt.subplots()\n",
    "ax.plot(x_axis, norm.pdf(x_axis,1.462,0.1719),label='0')\n",
    "#add here\n",
    "ax.legend()\n",
    "plt.show()"
   ]
  },
  {
   "cell_type": "markdown",
   "metadata": {},
   "source": [
    "Lets say now i have a new specimen with the sepal length=5.1 and petal length=3.0, what is the most probable class?\n",
    "\n",
    "To calculate $P(y|x_{1},..,x_{n}) \\propto P(y)\\prod_{i=1}^{n}{P(x_{i}|y)}$ \n",
    "\n",
    "Instead of looking up the counts in a table, we simply read of the probability from the Gaussian curve. \n",
    "\n",
    "$P(x_{i}|y) = \\frac{1}{\\sqrt{2\\pi\\sigma^2}} exp (-\\frac{(x_{i}-u)^2}{2\\sigma^2})$\n",
    "\n",
    "and\n",
    "\n",
    "$P(y|x_{1},..,x_{n}) \\propto P(y)P(x_{0}|y)P(x_{2}|y) $"
   ]
  },
  {
   "cell_type": "markdown",
   "metadata": {},
   "source": [
    "Define the $P(x_{i}|y)$ below: (20%)"
   ]
  },
  {
   "cell_type": "code",
   "execution_count": 13,
   "metadata": {},
   "outputs": [],
   "source": [
    "from math import *\n",
    "\n",
    "def px_y(x,mean,sigma):\n",
    "    return(1/sqrt(2*pi*sigma*sigma)) *exp(-1*((x-mean)*(x-mean))/(2*sigma*sigma))"
   ]
  },
  {
   "cell_type": "markdown",
   "metadata": {},
   "source": [
    "Calculate $P(x_{0}|y)P(x_{2}|y)$ for each class and determine which is the most probable class (80%)"
   ]
  },
  {
   "cell_type": "code",
   "execution_count": 14,
   "metadata": {},
   "outputs": [
    {
     "name": "stdout",
     "output_type": "stream",
     "text": [
      "1.1023811734871467\n",
      "0.20478110501968896\n",
      "0.0386392143583638\n"
     ]
    }
   ],
   "source": [
    "print(px_y(5.1,5.006,0.349))\n",
    "print(px_y(5.1,5.936,0.511))\n",
    "print(px_y(5.1,6.588,0.629))"
   ]
  },
  {
   "cell_type": "code",
   "execution_count": 15,
   "metadata": {},
   "outputs": [
    {
     "name": "stdout",
     "output_type": "stream",
     "text": [
      "9.616439626051536e-18\n",
      "0.021861393367156035\n",
      "1.3330422046823308e-05\n"
     ]
    }
   ],
   "source": [
    "print(px_y(3.0,1.462,0.1719))\n",
    "print(px_y(3.0,4.26,0.4651))\n",
    "print(px_y(3.0,5.552,0.5463))"
   ]
  },
  {
   "cell_type": "code",
   "execution_count": 16,
   "metadata": {},
   "outputs": [
    {
     "name": "stdout",
     "output_type": "stream",
     "text": [
      "class y=0 1.0597934000000002e-17\n",
      "class y=1 0.004488\n",
      "class y=2 5.1987e-07\n",
      "predict class = 1 \n",
      "class y=0 3.2024610000000003e-18\n",
      "class y=1 0.007326\n",
      "class y=2 4.43889e-06\n",
      "predict class = 1 \n"
     ]
    }
   ],
   "source": [
    "print('class y=0',1.102*9.617e-18)\n",
    "print('class y=1',0.204*0.022)\n",
    "print('class y=2',0.039*1.333e-05)\n",
    "\n",
    "print(\"predict class = 1 \")\n",
    "\n",
    "#alternative\n",
    "print('class y=0',.333*9.617e-18)\n",
    "print('class y=1',.333*0.022)\n",
    "print('class y=2',.333*1.333e-05)\n",
    "\n",
    "print(\"predict class = 1 \")"
   ]
  },
  {
   "cell_type": "markdown",
   "metadata": {},
   "source": [
    "### Scikit-Learn\n",
    "\n",
    "We can save all our troubles by using the Scikit-Learn Library"
   ]
  },
  {
   "cell_type": "code",
   "execution_count": 17,
   "metadata": {},
   "outputs": [
    {
     "data": {
      "text/plain": [
       "GaussianNB()"
      ]
     },
     "execution_count": 17,
     "metadata": {},
     "output_type": "execute_result"
    }
   ],
   "source": [
    "from sklearn.naive_bayes import GaussianNB\n",
    "gb=GaussianNB()\n",
    "gb.fit(iris.data[:,(0,2)], iris.target) #use only two attributes - 0 and 2"
   ]
  },
  {
   "cell_type": "code",
   "execution_count": 18,
   "metadata": {},
   "outputs": [
    {
     "name": "stdout",
     "output_type": "stream",
     "text": [
      "Predict Class= [1]\n"
     ]
    }
   ],
   "source": [
    "print('Predict Class=',gb.predict([[5.1, 3]]))\n"
   ]
  }
 ],
 "metadata": {
  "kernelspec": {
   "display_name": "Python 3.9.7 ('base')",
   "language": "python",
   "name": "python3"
  },
  "language_info": {
   "codemirror_mode": {
    "name": "ipython",
    "version": 3
   },
   "file_extension": ".py",
   "mimetype": "text/x-python",
   "name": "python",
   "nbconvert_exporter": "python",
   "pygments_lexer": "ipython3",
   "version": "3.9.7"
  },
  "vscode": {
   "interpreter": {
    "hash": "1db13ed87bb8965e4f3a2d3f13e8dfe37cf8727ab6c757d84791f40d0f5929ff"
   }
  }
 },
 "nbformat": 4,
 "nbformat_minor": 4
}
