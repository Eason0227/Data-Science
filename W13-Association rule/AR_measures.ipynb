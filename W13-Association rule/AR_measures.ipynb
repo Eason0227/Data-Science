{
 "cells": [
  {
   "cell_type": "markdown",
   "metadata": {},
   "source": [
    "### Understanding Association Rule Measures\n",
    "\n",
    "Testing conviction and confidence metrics\n",
    "\n",
    "    Confidence = S(X,Y)/S(X)\n",
    "    Conviction = S(X)S(-Y)/S(X,-Y)\n",
    "    Lift = S(X,Y)/S(X)S(Y)\n",
    "\n",
    "Write small functions that can calculate those measures. \n",
    "Play around with various X and Y values, see how they influence the measures."
   ]
  },
  {
   "cell_type": "code",
   "execution_count": 211,
   "metadata": {},
   "outputs": [],
   "source": [
    "def S(X):\n",
    "    L=len(X)\n",
    "    return X.count(1)/L\n",
    "\n",
    "def S_Not(X):\n",
    "    L=len(X)\n",
    "    return X.count(0)/L\n",
    "\n",
    "def S_X_Y(X,Y):\n",
    "    L=len(X)\n",
    "    Z=0\n",
    "    for i in range(L):\n",
    "        if (X[i] & Y[i])==1:\n",
    "            Z=Z+1\n",
    "    return Z/L\n",
    "\n",
    "def S_X_NotY(X,Y):\n",
    "    L=len(X)\n",
    "    A=0\n",
    "    for i in range(L):\n",
    "        if (X[i]==1) & (Y[i]==0):\n",
    "            A=A+1\n",
    "    return A/L\n",
    "    \n",
    "def Conv(X,Y):\n",
    "    if S_X_NotY(X,Y)!=0:\n",
    "        return S(X)*(1-S(Y)) / S_X_NotY(X,Y)\n",
    "    else:\n",
    "        return 9999 #divide by zero error\n",
    "\n",
    "def Conf(X,Y):\n",
    "    return S_X_Y(X,Y)/S(X)\n",
    "    \n",
    "def Lift(X,Y):\n",
    "    if(S(X)*S(Y))!=0:\n",
    "        return S_X_Y(X,Y)/(S(X)*S(Y))\n",
    "    else:\n",
    "        return 9999 #divide by zero error"
   ]
  },
  {
   "cell_type": "code",
   "execution_count": 303,
   "metadata": {},
   "outputs": [
    {
     "name": "stdout",
     "output_type": "stream",
     "text": [
      "Conviction: 1.25\n",
      "Confidence: 0.60\n",
      "Lift: 1.20\n"
     ]
    }
   ],
   "source": [
    "#try many other combinations\n",
    "#Only some X has Y\n",
    "X=[1,1,1,1,0,1]\n",
    "Y=[1,0,0,1,0,1]\n",
    "print('Conviction:{0:5.2f}'.format(Conv(X,Y)))\n",
    "print('Confidence:{0:5.2f}'.format(Conf(X,Y)))\n",
    "print('Lift:{0:5.2f}'.format(Lift(X,Y)))"
   ]
  },
  {
   "cell_type": "code",
   "execution_count": 304,
   "metadata": {},
   "outputs": [
    {
     "name": "stdout",
     "output_type": "stream",
     "text": [
      "Conviction:9999.00\n",
      "Confidence: 1.00\n",
      "Lift: 1.50\n"
     ]
    }
   ],
   "source": [
    "#All X has Y\n",
    "X=[1,0,1,0,0,0]\n",
    "Y=[1,0,1,1,1,0]\n",
    "\n",
    "print('Conviction:{0:5.2f}'.format(Conv(X,Y)))\n",
    "print('Confidence:{0:5.2f}'.format(Conf(X,Y)))\n",
    "print('Lift:{0:5.2f}'.format(Lift(X,Y)))"
   ]
  },
  {
   "cell_type": "code",
   "execution_count": 301,
   "metadata": {},
   "outputs": [
    {
     "name": "stdout",
     "output_type": "stream",
     "text": [
      "Conviction: 1.25\n",
      "Confidence: 0.50\n",
      "Lift: 1.33\n"
     ]
    }
   ],
   "source": [
    "#every Y has X\n",
    "X=[1,1,1,1,1,0,1,0]\n",
    "Y=[1,1,1,0,0,0,0,0]\n",
    "\n",
    "print('Conviction:{0:5.2f}'.format(Conv(X,Y)))\n",
    "print('Confidence:{0:5.2f}'.format(Conf(X,Y)))\n",
    "print('Lift:{0:5.2f}'.format(Lift(X,Y)))"
   ]
  },
  {
   "cell_type": "code",
   "execution_count": 300,
   "metadata": {},
   "outputs": [
    {
     "name": "stdout",
     "output_type": "stream",
     "text": [
      "Conviction: 0.67\n",
      "Confidence: 0.25\n",
      "Lift: 0.50\n"
     ]
    }
   ],
   "source": [
    "#lots of Y not related to X \n",
    "X=[1,0,1,1,0,0,0,0,1,0]\n",
    "Y=[1,1,0,0,1,1,0,0,0,1]\n",
    "print('Conviction:{0:5.2f}'.format(Conv(X,Y)))\n",
    "print('Confidence:{0:5.2f}'.format(Conf(X,Y)))\n",
    "print('Lift:{0:5.2f}'.format(Lift(X,Y)))"
   ]
  },
  {
   "cell_type": "code",
   "execution_count": 298,
   "metadata": {},
   "outputs": [
    {
     "name": "stdout",
     "output_type": "stream",
     "text": [
      "Conviction:9999.00\n",
      "Confidence: 1.00\n",
      "Lift: 2.00\n"
     ]
    }
   ],
   "source": [
    "#every Y has X and every X has Y\n",
    "#High conviction \n",
    "#High confidence\n",
    "\n",
    "X=[1,0,0,1,0,1]\n",
    "Y=[1,0,0,1,0,1]\n",
    "\n",
    "print('Conviction:{0:5.2f}'.format(Conv(X,Y)))\n",
    "print('Confidence:{0:5.2f}'.format(Conf(X,Y)))\n",
    "print('Lift:{0:5.2f}'.format(Lift(X,Y)))"
   ]
  },
  {
   "cell_type": "code",
   "execution_count": 299,
   "metadata": {},
   "outputs": [
    {
     "name": "stdout",
     "output_type": "stream",
     "text": [
      "Conviction: 3.75\n",
      "Confidence: 0.90\n",
      "Lift: 1.44\n"
     ]
    }
   ],
   "source": [
    "#X has not Y is low\n",
    "#High lift\n",
    "\n",
    "X=[1,1,0,1,0,1,0,1,0,1,1,1,1,0,1,0]\n",
    "Y=[1,1,0,1,0,1,1,0,0,1,1,1,1,0,1,0]\n",
    "\n",
    "print('Conviction:{0:5.2f}'.format(Conv(X,Y)))\n",
    "print('Confidence:{0:5.2f}'.format(Conf(X,Y)))\n",
    "print('Lift:{0:5.2f}'.format(Lift(X,Y)))"
   ]
  },
  {
   "cell_type": "markdown",
   "metadata": {},
   "source": [
    "### Question\n",
    "1. What can you conclude about them the measures for X->Y:\n",
    "\n",
    "    - High conviction is when  ....\n",
    "    - High confidence is when ....\n",
    "    - High lift is ..\n"
   ]
  },
  {
   "cell_type": "markdown",
   "metadata": {},
   "source": [
    "### Answer\n",
    "High conviction is when every Y has X and every X has Y  \n",
    "High confidence is when every X has Y but X -> Not Y is low  \n",
    "High lift is when X has not Y is low or Not X when Y is low"
   ]
  }
 ],
 "metadata": {
  "kernelspec": {
   "display_name": "Python 3",
   "language": "python",
   "name": "python3"
  },
  "language_info": {
   "codemirror_mode": {
    "name": "ipython",
    "version": 3
   },
   "file_extension": ".py",
   "mimetype": "text/x-python",
   "name": "python",
   "nbconvert_exporter": "python",
   "pygments_lexer": "ipython3",
   "version": "3.8.8"
  }
 },
 "nbformat": 4,
 "nbformat_minor": 4
}
