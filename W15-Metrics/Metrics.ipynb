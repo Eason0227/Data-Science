{
 "cells": [
  {
   "cell_type": "markdown",
   "metadata": {},
   "source": [
    "### Metrics"
   ]
  },
  {
   "cell_type": "code",
   "execution_count": 53,
   "metadata": {},
   "outputs": [],
   "source": [
    "import pandas as pd\n",
    "import numpy as np\n",
    "import matplotlib.pyplot as plt\n",
    "import seaborn as sns\n",
    "\n",
    "from sklearn.linear_model import LogisticRegression\n",
    "from sklearn.metrics import mean_squared_error\n",
    "from sklearn import metrics\n",
    "from sklearn.model_selection import train_test_split, LeaveOneOut, KFold, cross_val_score\n",
    "from sklearn.preprocessing import PolynomialFeatures\n",
    "\n",
    "%matplotlib inline\n",
    "plt.style.use('seaborn-white')"
   ]
  },
  {
   "cell_type": "markdown",
   "metadata": {},
   "source": [
    "Let's download a database"
   ]
  },
  {
   "cell_type": "code",
   "execution_count": 54,
   "metadata": {},
   "outputs": [],
   "source": [
    "col_names = ['num_preg', 'glucose', 'bp', 'thickness', 'insulin', 'bmi', 'pedigree', 'age','label']\n",
    "pima = pd.read_csv('./pima-data.csv', header=None, names=col_names)"
   ]
  },
  {
   "cell_type": "code",
   "execution_count": 55,
   "metadata": {},
   "outputs": [
    {
     "data": {
      "text/html": [
       "<div>\n",
       "<style scoped>\n",
       "    .dataframe tbody tr th:only-of-type {\n",
       "        vertical-align: middle;\n",
       "    }\n",
       "\n",
       "    .dataframe tbody tr th {\n",
       "        vertical-align: top;\n",
       "    }\n",
       "\n",
       "    .dataframe thead th {\n",
       "        text-align: right;\n",
       "    }\n",
       "</style>\n",
       "<table border=\"1\" class=\"dataframe\">\n",
       "  <thead>\n",
       "    <tr style=\"text-align: right;\">\n",
       "      <th></th>\n",
       "      <th>num_preg</th>\n",
       "      <th>glucose</th>\n",
       "      <th>bp</th>\n",
       "      <th>thickness</th>\n",
       "      <th>insulin</th>\n",
       "      <th>bmi</th>\n",
       "      <th>pedigree</th>\n",
       "      <th>age</th>\n",
       "      <th>label</th>\n",
       "    </tr>\n",
       "  </thead>\n",
       "  <tbody>\n",
       "    <tr>\n",
       "      <th>0</th>\n",
       "      <td>6</td>\n",
       "      <td>148</td>\n",
       "      <td>72</td>\n",
       "      <td>35</td>\n",
       "      <td>0</td>\n",
       "      <td>33.6</td>\n",
       "      <td>0.627</td>\n",
       "      <td>50</td>\n",
       "      <td>True</td>\n",
       "    </tr>\n",
       "    <tr>\n",
       "      <th>1</th>\n",
       "      <td>1</td>\n",
       "      <td>85</td>\n",
       "      <td>66</td>\n",
       "      <td>29</td>\n",
       "      <td>0</td>\n",
       "      <td>26.6</td>\n",
       "      <td>0.351</td>\n",
       "      <td>31</td>\n",
       "      <td>False</td>\n",
       "    </tr>\n",
       "    <tr>\n",
       "      <th>2</th>\n",
       "      <td>8</td>\n",
       "      <td>183</td>\n",
       "      <td>64</td>\n",
       "      <td>0</td>\n",
       "      <td>0</td>\n",
       "      <td>23.3</td>\n",
       "      <td>0.672</td>\n",
       "      <td>32</td>\n",
       "      <td>True</td>\n",
       "    </tr>\n",
       "    <tr>\n",
       "      <th>3</th>\n",
       "      <td>1</td>\n",
       "      <td>89</td>\n",
       "      <td>66</td>\n",
       "      <td>23</td>\n",
       "      <td>94</td>\n",
       "      <td>28.1</td>\n",
       "      <td>0.167</td>\n",
       "      <td>21</td>\n",
       "      <td>False</td>\n",
       "    </tr>\n",
       "    <tr>\n",
       "      <th>4</th>\n",
       "      <td>0</td>\n",
       "      <td>137</td>\n",
       "      <td>40</td>\n",
       "      <td>35</td>\n",
       "      <td>168</td>\n",
       "      <td>43.1</td>\n",
       "      <td>2.288</td>\n",
       "      <td>33</td>\n",
       "      <td>True</td>\n",
       "    </tr>\n",
       "  </tbody>\n",
       "</table>\n",
       "</div>"
      ],
      "text/plain": [
       "   num_preg  glucose  bp  thickness  insulin   bmi  pedigree  age  label\n",
       "0         6      148  72         35        0  33.6     0.627   50   True\n",
       "1         1       85  66         29        0  26.6     0.351   31  False\n",
       "2         8      183  64          0        0  23.3     0.672   32   True\n",
       "3         1       89  66         23       94  28.1     0.167   21  False\n",
       "4         0      137  40         35      168  43.1     2.288   33   True"
      ]
     },
     "execution_count": 55,
     "metadata": {},
     "output_type": "execute_result"
    }
   ],
   "source": [
    "pima.head()"
   ]
  },
  {
   "cell_type": "code",
   "execution_count": 56,
   "metadata": {},
   "outputs": [
    {
     "data": {
      "text/html": [
       "<div>\n",
       "<style scoped>\n",
       "    .dataframe tbody tr th:only-of-type {\n",
       "        vertical-align: middle;\n",
       "    }\n",
       "\n",
       "    .dataframe tbody tr th {\n",
       "        vertical-align: top;\n",
       "    }\n",
       "\n",
       "    .dataframe thead th {\n",
       "        text-align: right;\n",
       "    }\n",
       "</style>\n",
       "<table border=\"1\" class=\"dataframe\">\n",
       "  <thead>\n",
       "    <tr style=\"text-align: right;\">\n",
       "      <th></th>\n",
       "      <th>num_preg</th>\n",
       "      <th>glucose</th>\n",
       "      <th>bp</th>\n",
       "      <th>thickness</th>\n",
       "      <th>insulin</th>\n",
       "      <th>bmi</th>\n",
       "      <th>pedigree</th>\n",
       "      <th>age</th>\n",
       "      <th>label</th>\n",
       "    </tr>\n",
       "  </thead>\n",
       "  <tbody>\n",
       "    <tr>\n",
       "      <th>763</th>\n",
       "      <td>10</td>\n",
       "      <td>101</td>\n",
       "      <td>76</td>\n",
       "      <td>48</td>\n",
       "      <td>180</td>\n",
       "      <td>32.9</td>\n",
       "      <td>0.171</td>\n",
       "      <td>63</td>\n",
       "      <td>False</td>\n",
       "    </tr>\n",
       "    <tr>\n",
       "      <th>764</th>\n",
       "      <td>2</td>\n",
       "      <td>122</td>\n",
       "      <td>70</td>\n",
       "      <td>27</td>\n",
       "      <td>0</td>\n",
       "      <td>36.8</td>\n",
       "      <td>0.340</td>\n",
       "      <td>27</td>\n",
       "      <td>False</td>\n",
       "    </tr>\n",
       "    <tr>\n",
       "      <th>765</th>\n",
       "      <td>5</td>\n",
       "      <td>121</td>\n",
       "      <td>72</td>\n",
       "      <td>23</td>\n",
       "      <td>112</td>\n",
       "      <td>26.2</td>\n",
       "      <td>0.245</td>\n",
       "      <td>30</td>\n",
       "      <td>False</td>\n",
       "    </tr>\n",
       "    <tr>\n",
       "      <th>766</th>\n",
       "      <td>1</td>\n",
       "      <td>126</td>\n",
       "      <td>60</td>\n",
       "      <td>0</td>\n",
       "      <td>0</td>\n",
       "      <td>30.1</td>\n",
       "      <td>0.349</td>\n",
       "      <td>47</td>\n",
       "      <td>True</td>\n",
       "    </tr>\n",
       "    <tr>\n",
       "      <th>767</th>\n",
       "      <td>1</td>\n",
       "      <td>93</td>\n",
       "      <td>70</td>\n",
       "      <td>31</td>\n",
       "      <td>0</td>\n",
       "      <td>30.4</td>\n",
       "      <td>0.315</td>\n",
       "      <td>23</td>\n",
       "      <td>False</td>\n",
       "    </tr>\n",
       "  </tbody>\n",
       "</table>\n",
       "</div>"
      ],
      "text/plain": [
       "     num_preg  glucose  bp  thickness  insulin   bmi  pedigree  age  label\n",
       "763        10      101  76         48      180  32.9     0.171   63  False\n",
       "764         2      122  70         27        0  36.8     0.340   27  False\n",
       "765         5      121  72         23      112  26.2     0.245   30  False\n",
       "766         1      126  60          0        0  30.1     0.349   47   True\n",
       "767         1       93  70         31        0  30.4     0.315   23  False"
      ]
     },
     "execution_count": 56,
     "metadata": {},
     "output_type": "execute_result"
    }
   ],
   "source": [
    "pima.tail()"
   ]
  },
  {
   "cell_type": "code",
   "execution_count": 57,
   "metadata": {},
   "outputs": [
    {
     "data": {
      "text/plain": [
       "LogisticRegression()"
      ]
     },
     "execution_count": 57,
     "metadata": {},
     "output_type": "execute_result"
    }
   ],
   "source": [
    "# define X and y\n",
    "feature_cols = ['num_preg','insulin', 'bmi', 'age']\n",
    "\n",
    "# X is a matrix, hence we use [] to access the features we want in feature_cols\n",
    "X = pima[feature_cols]\n",
    "\n",
    "# y is a vector, hence we use dot to access 'label'\n",
    "y = pima.label\n",
    "\n",
    "# split X and y into training and testing sets\n",
    "X_train, X_test, y_train, y_test = train_test_split(X, y, random_state=0)\n",
    "\n",
    "# instantiate model\n",
    "logreg = LogisticRegression()\n",
    "\n",
    "# fit model\n",
    "logreg.fit(X_train, y_train)"
   ]
  },
  {
   "cell_type": "code",
   "execution_count": 58,
   "metadata": {},
   "outputs": [
    {
     "name": "stdout",
     "output_type": "stream",
     "text": [
      "0.6770833333333334\n"
     ]
    }
   ],
   "source": [
    "# make class predictions for the testing set\n",
    "y_pred_class = logreg.predict(X_test)\n",
    "\n",
    "print(metrics.accuracy_score(y_test, y_pred_class))"
   ]
  },
  {
   "cell_type": "code",
   "execution_count": 59,
   "metadata": {},
   "outputs": [
    {
     "name": "stdout",
     "output_type": "stream",
     "text": [
      "[[114  46]\n",
      " [ 16  16]]\n"
     ]
    }
   ],
   "source": [
    "# IMPORTANT: first argument is true values, second argument is predicted values\n",
    "# this produces a 2x2 numpy array (matrix)\n",
    "# print(metrics.confusion_matrix(y_test, y_pred_class))\n",
    "\n",
    "print(metrics.confusion_matrix(y_pred_class,y_test))"
   ]
  },
  {
   "cell_type": "markdown",
   "metadata": {},
   "source": [
    "### Question 1\n",
    "\n",
    "1. What is the accuracy if the model always just classify as False all the time?\n",
    "1. What is the number of true positive, true negative, false positive and false negative for the above confusion matrix"
   ]
  },
  {
   "cell_type": "code",
   "execution_count": 60,
   "metadata": {},
   "outputs": [
    {
     "data": {
      "text/plain": [
       "0.6770833333333334"
      ]
     },
     "execution_count": 60,
     "metadata": {},
     "output_type": "execute_result"
    }
   ],
   "source": [
    "( len(y_test) - sum(y_test)) / len(y_test)"
   ]
  },
  {
   "cell_type": "markdown",
   "metadata": {},
   "source": [
    "### Answer\n",
    "1. 0.677\n",
    "2. true positive=16  \n",
    "true negative=114  \n",
    "false positive=16  \n",
    "false negative=46  \n"
   ]
  },
  {
   "cell_type": "code",
   "execution_count": 61,
   "metadata": {},
   "outputs": [
    {
     "name": "stdout",
     "output_type": "stream",
     "text": [
      "precision:  [0.7125 0.5   ]\n",
      "recall:  [0.87692308 0.25806452]\n",
      "fscore:  [0.7862069  0.34042553]\n",
      "support:  [130  62]\n"
     ]
    }
   ],
   "source": [
    "from sklearn.metrics import precision_recall_fscore_support as score\n",
    "precision, recall, fscore, support = score(y_test, y_pred_class)\n",
    "print('precision: ',precision)\n",
    "print('recall: ', recall)\n",
    "print('fscore: ',fscore)\n",
    "print('support: ',support)"
   ]
  },
  {
   "cell_type": "markdown",
   "metadata": {},
   "source": [
    "### Question 2\n",
    "1. Fill in the table\n",
    "\n",
    "|Label|Precision|Recall|F-score|\n",
    "|-|-|-|-|\n",
    "|0|0.7125  |0.87692308 |0.7862069 |\n",
    "|1|0.5 |0.25806452 | 0.34042553|\n",
    "|-|-|-|-|"
   ]
  },
  {
   "cell_type": "markdown",
   "metadata": {},
   "source": [
    "### Notes:\n",
    "\n",
    "Sensitivity: When the actual value is positive, how often is the prediction correct?\n",
    "\n",
    "    Something we want to maximize\n",
    "    How \"sensitive\" is the classifier to detecting positive instances?\n",
    "    Also known as \"True Positive Rate\" or \"Recall\"\n",
    "    TP / all positive\n",
    "        all positive = TP + FN\n",
    "\n",
    "\n",
    "\n",
    "Specificity: When the actual value is negative, how often is the prediction correct?\n",
    "\n",
    "    Something we want to maximize\n",
    "    How \"specific\" (or \"selective\") is the classifier in predicting positive instances?\n",
    "    TN / all negative\n",
    "        all negative = TN + FP\n",
    "\n",
    "\n",
    "Precision: When a positive value is predicted, how often is the prediction correct?\n",
    "\n",
    "    How \"precise\" is the classifier when predicting positive instances?\n",
    "\n",
    "\n",
    "\n",
    "Conclusion:\n",
    "\n",
    "    Confusion matrix gives you a more complete picture of how your classifier is performing\n",
    "    Also allows you to compute various classification metrics, and these metrics can guide your model selection\n",
    "\n",
    "Which metrics should you focus on?\n",
    "\n",
    "    Choice of metric depends on your business objective\n",
    "        Identify if FP or FN is more important to reduce\n",
    "        Choose metric with relevant variable (FP or FN in the equation)\n"
   ]
  },
  {
   "cell_type": "code",
   "execution_count": 62,
   "metadata": {},
   "outputs": [
    {
     "name": "stdout",
     "output_type": "stream",
     "text": [
      "0.6770833333333334\n",
      "0.32291666666666663\n",
      "0.25806451612903225\n",
      "0.5\n"
     ]
    }
   ],
   "source": [
    "from sklearn import metrics\n",
    "print(metrics.accuracy_score(y_test, y_pred_class)) # Accuracy\n",
    "print(1 - metrics.accuracy_score(y_test, y_pred_class))#Classification error\n",
    "print(metrics.recall_score(y_test, y_pred_class))# sensitivity\n",
    "print(metrics.precision_score(y_test, y_pred_class))#precision"
   ]
  },
  {
   "cell_type": "markdown",
   "metadata": {},
   "source": [
    "### Question 3"
   ]
  },
  {
   "cell_type": "code",
   "execution_count": 63,
   "metadata": {},
   "outputs": [
    {
     "name": "stdout",
     "output_type": "stream",
     "text": [
      "0.6770833333333334\n",
      "0.3229166666666667\n",
      "0.25806451612903225\n",
      "0.5\n"
     ]
    }
   ],
   "source": [
    "### Fill in the correct value for FP,FN, TP, TN, etc\n",
    "TN=metrics.confusion_matrix(y_pred_class,y_test)[0,0]\n",
    "TP=metrics.confusion_matrix(y_pred_class,y_test)[1,1]\n",
    "FN=metrics.confusion_matrix(y_pred_class,y_test)[0,1]\n",
    "FP=metrics.confusion_matrix(y_pred_class,y_test)[1,0]\n",
    "\n",
    "classification_error = (FP + FN) / float(TP + TN + FP + FN)\n",
    "accuracy=(TP + TN) / float(TP + TN + FP + FN)\n",
    "sensitivity = TP / float(FN + TP)\n",
    "specificity = TN / (TN + FP)\n",
    "false_positive_rate = FP / float(TN + FP)\n",
    "precision = TP / float(TP + FP)\n",
    "\n",
    "###Question: verify that it is the same as above (those that have equivalent)\n",
    "\n",
    "print(accuracy)\n",
    "print(classification_error)\n",
    "print(sensitivity)\n",
    "print(precision)"
   ]
  },
  {
   "cell_type": "markdown",
   "metadata": {},
   "source": [
    "### Adjusting the classification threshold"
   ]
  },
  {
   "cell_type": "code",
   "execution_count": 64,
   "metadata": {},
   "outputs": [
    {
     "data": {
      "text/plain": [
       "array([False, False, False, False, False, False, False,  True, False,\n",
       "        True])"
      ]
     },
     "execution_count": 64,
     "metadata": {},
     "output_type": "execute_result"
    }
   ],
   "source": [
    "# print the first 10 predicted responses\n",
    "# 1D array (vector) of binary values (true,false)\n",
    "logreg.predict(X_test)[0:10]"
   ]
  },
  {
   "cell_type": "code",
   "execution_count": 65,
   "metadata": {},
   "outputs": [
    {
     "data": {
      "text/plain": [
       "array([[0.61405867, 0.38594133],\n",
       "       [0.7505398 , 0.2494602 ],\n",
       "       [0.74167648, 0.25832352],\n",
       "       [0.60291327, 0.39708673],\n",
       "       [0.88426611, 0.11573389],\n",
       "       [0.87695895, 0.12304105],\n",
       "       [0.50819992, 0.49180008],\n",
       "       [0.44582289, 0.55417711],\n",
       "       [0.77950769, 0.22049231],\n",
       "       [0.25853303, 0.74146697]])"
      ]
     },
     "execution_count": 65,
     "metadata": {},
     "output_type": "execute_result"
    }
   ],
   "source": [
    "# print the first 10 predicted probabilities of class membership\n",
    "logreg.predict_proba(X_test)[0:10]"
   ]
  },
  {
   "cell_type": "markdown",
   "metadata": {},
   "source": [
    "Output of logreg.predict_proba(X_test)[0:10] is\n",
    "\n",
    "Each Row: observation\n",
    "\n",
    "    Each row, numbers sum to 1\n",
    "\n",
    "Column: class\n",
    "\n",
    "    2 response classes there 2 columns\n",
    "        column 0: predicted probability that each observation is a member of class 0\n",
    "        column 1: predicted probability that each observation is a member of class 1\n",
    "\n",
    "predict_proba process\n",
    "\n",
    "    Predicts the probabilities\n",
    "    Choose the class with the highest probability\n",
    "\n",
    "There is a 0.5 classification threshold\n",
    "\n",
    "    Class 1 is predicted if probability > 0.5\n",
    "    Class 0 is predicted if probability < 0.5\n",
    "\n",
    "\n"
   ]
  },
  {
   "cell_type": "markdown",
   "metadata": {},
   "source": [
    "### We can change the threshold "
   ]
  },
  {
   "cell_type": "code",
   "execution_count": 66,
   "metadata": {},
   "outputs": [
    {
     "name": "stdout",
     "output_type": "stream",
     "text": [
      "[0.38594133 0.2494602  0.25832352 0.39708673 0.11573389 0.12304105\n",
      " 0.49180008 0.55417711 0.22049231 0.74146697]\n",
      "[1. 0. 0. 1. 0. 0. 1. 1. 0. 1.]\n"
     ]
    }
   ],
   "source": [
    "#predict diabetes if the predicted probability is greater than 0.3\n",
    "from sklearn.preprocessing import Binarizer,binarize\n",
    "\n",
    "# print the first 10 predicted probabilities for class 1\n",
    "print(logreg.predict_proba(X_test)[0:10, 1])\n",
    "\n",
    "# store the predicted probabilities for class 1\n",
    "y_pred_prob = logreg.predict_proba(X_test)\n",
    "y_pred_class = binarize(y_pred_prob, threshold=0.3)[:,1] # we only use the second column\n",
    "print(y_pred_class[0:10]) \n",
    "#check that the those values above the threshold are now listed as 1 in y_pred_class"
   ]
  },
  {
   "cell_type": "code",
   "execution_count": 67,
   "metadata": {},
   "outputs": [
    {
     "name": "stdout",
     "output_type": "stream",
     "text": [
      "[[82 48]\n",
      " [17 45]]\n"
     ]
    }
   ],
   "source": [
    "# new confusion matrix (threshold of 0.3)\n",
    "print(metrics.confusion_matrix(y_test, y_pred_class))"
   ]
  },
  {
   "cell_type": "markdown",
   "metadata": {},
   "source": [
    "The row totals are the same\n",
    "The rows represent actual response values\n",
    "\n",
    "    130 values top row\n",
    "    62 values bottom row\n",
    "\n",
    "Observations from the left column moving to the right column because we will have more TP and FP "
   ]
  },
  {
   "cell_type": "markdown",
   "metadata": {},
   "source": [
    "### Question 4\n",
    "1. Calculate the sensitivity and specificity"
   ]
  },
  {
   "cell_type": "code",
   "execution_count": 68,
   "metadata": {},
   "outputs": [
    {
     "name": "stdout",
     "output_type": "stream",
     "text": [
      "0.4838709677419355\n",
      "0.8282828282828283\n"
     ]
    }
   ],
   "source": [
    "#Q4\n",
    "TN=metrics.confusion_matrix(y_test,y_pred_class)[0,0]\n",
    "TP=metrics.confusion_matrix(y_test,y_pred_class)[1,1]\n",
    "FN=metrics.confusion_matrix(y_test,y_pred_class)[0,1]\n",
    "FP=metrics.confusion_matrix(y_test,y_pred_class)[1,0]\n",
    "\n",
    "sensitivity = TP / float(FN + TP)\n",
    "specificity = TN / (TN + FP)\n",
    "\n",
    "print(sensitivity)\n",
    "print(specificity)"
   ]
  },
  {
   "cell_type": "markdown",
   "metadata": {},
   "source": [
    "### Conclusion:\n",
    "\n",
    "   - Threshold of 0.5 is used by default (for binary problems) to convert predicted probabilities into class predictions\n",
    "   - Threshold can be adjusted to increase sensitivity or specificity\n",
    "   - Sensitivity and specificity have an inverse relationship\n",
    "        * Increasing one would always decrease the other\n",
    "   - Adjusting the threshold should be one of the last step you do in the model-building process\n",
    "        * The most important steps are\n",
    "           1. Building the models\n",
    "           1.  Selecting the best model\n",
    "\n"
   ]
  },
  {
   "cell_type": "markdown",
   "metadata": {},
   "source": [
    "### ROC Curve\n",
    "Question: Wouldn't it be nice if we could see how sensitivity and specificity are affected by various thresholds, without actually changing the threshold?\n",
    "\n",
    "Answer: Plot the ROC curve.\n",
    "\n",
    "    Receiver Operating Characteristic (ROC)\n"
   ]
  },
  {
   "cell_type": "code",
   "execution_count": 69,
   "metadata": {},
   "outputs": [
    {
     "data": {
      "image/png": "[encoded data removed]",
      "text/plain": [
       "<Figure size 432x288 with 1 Axes>"
      ]
     },
     "metadata": {},
     "output_type": "display_data"
    }
   ],
   "source": [
    "# IMPORTANT: first argument is true values, second argument is predicted probabilities\n",
    "\n",
    "# we pass y_test and y_pred_prob\n",
    "# roc_curve returns 3 objects fpr, tpr, thresholds\n",
    "# fpr: false positive rate\n",
    "# tpr: true positive rate\n",
    "y_pred_proba = logreg.predict_proba(X_test)\n",
    "fpr, tpr, thresholds = metrics.roc_curve(y_test, y_pred_proba[:,1])\n",
    "\n",
    "plt.plot(fpr, tpr)\n",
    "plt.xlim([0.0, 1.0])\n",
    "plt.ylim([0.0, 1.0])\n",
    "plt.rcParams['font.size'] = 12\n",
    "plt.title('ROC curve for diabetes classifier')\n",
    "plt.xlabel('False Positive Rate (1 - Specificity)')\n",
    "plt.ylabel('True Positive Rate (Sensitivity)')\n",
    "plt.grid(True)"
   ]
  },
  {
   "cell_type": "code",
   "execution_count": 70,
   "metadata": {},
   "outputs": [],
   "source": [
    "# define a function that accepts a threshold and prints sensitivity and specificity\n",
    "def evaluate_threshold(threshold):\n",
    "    print('Sensitivity:', tpr[thresholds > threshold][-1])\n",
    "    print('Specificity:', 1 - fpr[thresholds > threshold][-1])"
   ]
  },
  {
   "cell_type": "code",
   "execution_count": 71,
   "metadata": {},
   "outputs": [
    {
     "name": "stdout",
     "output_type": "stream",
     "text": [
      "Sensitivity: 0.25806451612903225\n",
      "Specificity: 0.8769230769230769\n"
     ]
    }
   ],
   "source": [
    "evaluate_threshold(0.5)"
   ]
  },
  {
   "cell_type": "code",
   "execution_count": 72,
   "metadata": {},
   "outputs": [
    {
     "name": "stdout",
     "output_type": "stream",
     "text": [
      "Sensitivity: 0.7258064516129032\n",
      "Specificity: 0.6307692307692307\n"
     ]
    }
   ],
   "source": [
    "evaluate_threshold(0.3)"
   ]
  },
  {
   "cell_type": "code",
   "execution_count": 73,
   "metadata": {},
   "outputs": [
    {
     "name": "stdout",
     "output_type": "stream",
     "text": [
      "0.7227047146401985\n"
     ]
    }
   ],
   "source": [
    "# IMPORTANT: first argument is true values, second argument is predicted probabilities\n",
    "print(metrics.roc_auc_score(y_test, y_pred_proba[:,1]))"
   ]
  },
  {
   "cell_type": "markdown",
   "metadata": {},
   "source": [
    "### Try it again : Question 5\n",
    "1. Add more features into X. Print the accuracy and confusion matrix. Did you get better accuracy?\n",
    "2. Plot the ROC curve. Comment on the results. "
   ]
  },
  {
   "cell_type": "markdown",
   "metadata": {},
   "source": [
    "source: [1] www.ritchieng.com/machine-learning-evaluate-classification-model"
   ]
  },
  {
   "cell_type": "markdown",
   "metadata": {},
   "source": [
    "Marking : Each question 1-4 (1 mark), 5 (2 mark)"
   ]
  },
  {
   "cell_type": "code",
   "execution_count": 74,
   "metadata": {},
   "outputs": [
    {
     "name": "stdout",
     "output_type": "stream",
     "text": [
      "accuracy= 0.796875\n",
      "[[118  27]\n",
      " [ 12  35]]\n"
     ]
    }
   ],
   "source": [
    "#Q1\n",
    "#add 'glucose','bp'\n",
    "# define X and y\n",
    "feature_cols = ['num_preg','insulin', 'bmi', 'age','glucose','bp']\n",
    "\n",
    "# X is a matrix, hence we use [] to access the features we want in feature_cols\n",
    "X = pima[feature_cols]\n",
    "\n",
    "# y is a vector, hence we use dot to access 'label'\n",
    "y = pima.label\n",
    "\n",
    "# split X and y into training and testing sets\n",
    "X_train, X_test, y_train, y_test = train_test_split(X, y, random_state=0)\n",
    "\n",
    "# instantiate model\n",
    "logreg = LogisticRegression()\n",
    "\n",
    "# fit model\n",
    "logreg.fit(X_train, y_train)\n",
    "\n",
    "y_pred_class = logreg.predict(X_test)\n",
    "print('accuracy=',metrics.accuracy_score(y_test, y_pred_class))\n",
    "print(metrics.confusion_matrix(y_pred_class,y_test))\n",
    "\n",
    "#get better accuracy"
   ]
  },
  {
   "cell_type": "code",
   "execution_count": 75,
   "metadata": {},
   "outputs": [
    {
     "name": "stdout",
     "output_type": "stream",
     "text": [
      "0.8495037220843673\n"
     ]
    },
    {
     "data": {
      "image/png": "[encoded data removed]",
      "text/plain": [
       "<Figure size 432x288 with 1 Axes>"
      ]
     },
     "metadata": {},
     "output_type": "display_data"
    }
   ],
   "source": [
    "#Q2\n",
    "y_pred_proba = logreg.predict_proba(X_test)\n",
    "fpr, tpr, thresholds = metrics.roc_curve(y_test, y_pred_proba[:,1])\n",
    "\n",
    "plt.plot(fpr, tpr)\n",
    "plt.xlim([0.0, 1.0])\n",
    "plt.ylim([0.0, 1.0])\n",
    "plt.rcParams['font.size'] = 12\n",
    "plt.title('ROC curve for diabetes classifier')\n",
    "plt.xlabel('False Positive Rate (1 - Specificity)')\n",
    "plt.ylabel('True Positive Rate (Sensitivity)')\n",
    "plt.grid(True)\n",
    "\n",
    "#New model's AUC is better than original model's AUS.\n",
    "#The new model is better.\n",
    "\n",
    "print(metrics.roc_auc_score(y_test, y_pred_proba[:,1]))"
   ]
  }
 ],
 "metadata": {
  "kernelspec": {
   "display_name": "Python 3",
   "language": "python",
   "name": "python3"
  },
  "language_info": {
   "codemirror_mode": {
    "name": "ipython",
    "version": 3
   },
   "file_extension": ".py",
   "mimetype": "text/x-python",
   "name": "python",
   "nbconvert_exporter": "python",
   "pygments_lexer": "ipython3",
   "version": "3.8.8"
  }
 },
 "nbformat": 4,
 "nbformat_minor": 2
}
