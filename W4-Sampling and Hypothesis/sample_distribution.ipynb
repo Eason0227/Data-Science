{
 "cells": [
  {
   "cell_type": "markdown",
   "metadata": {},
   "source": [
    "### Sample Distribution\n",
    "\n",
    "We have 100 ping pong balls, the balls are marked 1 to 5 in equal proportion, that is for each number 1 to 5, twenty balls are marked with each numeral. We sample 2 balls from the population. What can we learn from the sample distribution about the population? \n",
    "\n",
    "Let us sample 2 balls for a total of 25 times. What is the sample mean?\n",
    "\n",
    "For example: (showing only 4 samples)\n",
    "\n",
    "| sample | 1st |  2nd |  sample mean |\n",
    "|--------|-----|------|--------------|\n",
    "|  1     | 1   |   3  |   2.0        |\n",
    "|  2     | 1   |   1  |   1.0        |\n",
    "|  3     | 2   |   4  |   3.0        |\n",
    "|  4     | 2   |   5  |   3.5        |\n"
   ]
  },
  {
   "cell_type": "code",
   "execution_count": 1,
   "metadata": {},
   "outputs": [
    {
     "name": "stdout",
     "output_type": "stream",
     "text": [
      "Population =\n",
      " [[1 1 1 1 1 1 1 1 1 1 1 1 1 1 1 1 1 1 1 1]\n",
      " [2 2 2 2 2 2 2 2 2 2 2 2 2 2 2 2 2 2 2 2]\n",
      " [3 3 3 3 3 3 3 3 3 3 3 3 3 3 3 3 3 3 3 3]\n",
      " [4 4 4 4 4 4 4 4 4 4 4 4 4 4 4 4 4 4 4 4]\n",
      " [5 5 5 5 5 5 5 5 5 5 5 5 5 5 5 5 5 5 5 5]]\n"
     ]
    }
   ],
   "source": [
    "import numpy as np\n",
    "ping_pong=np.array([[1]*20,[2]*20,[3]*20,[4]*20,[5]*20])\n",
    "print(\"Population =\\n\",ping_pong)"
   ]
  },
  {
   "cell_type": "code",
   "execution_count": 2,
   "metadata": {},
   "outputs": [
    {
     "name": "stdout",
     "output_type": "stream",
     "text": [
      "[2.5, 2.5, 4.5, 2.5, 4.5, 3.0, 3.0, 2.5, 3.0, 3.0, 2.5, 4.5, 2.0, 3.0, 3.0, 2.5, 2.5, 5.0, 3.0, 3.0, 3.0, 3.0, 5.0, 4.5, 1.5]\n"
     ]
    },
    {
     "name": "stderr",
     "output_type": "stream",
     "text": [
      "C:\\Users\\Eason\\Anaconda3\\lib\\site-packages\\seaborn\\distributions.py:2557: FutureWarning: `distplot` is a deprecated function and will be removed in a future version. Please adapt your code to use either `displot` (a figure-level function with similar flexibility) or `histplot` (an axes-level function for histograms).\n",
      "  warnings.warn(msg, FutureWarning)\n"
     ]
    },
    {
     "name": "stdout",
     "output_type": "stream",
     "text": [
      "sample mean = 3.16\n"
     ]
    },
    {
     "data": {
      "image/png": "[encoded data removed]",
      "text/plain": [
       "<Figure size 432x288 with 1 Axes>"
      ]
     },
     "metadata": {
      "needs_background": "light"
     },
     "output_type": "display_data"
    }
   ],
   "source": [
    "import numpy as np\n",
    "import seaborn as sns\n",
    "import matplotlib\n",
    "\n",
    "estimates=[]\n",
    "for x in range(25):  #number of samples\n",
    "    sample=np.random.choice(a=[1,2,3,4,5],size=2)\n",
    "    estimates.append(sample.mean())\n",
    "print (estimates)\n",
    "\n",
    "%matplotlib inline\n",
    "sns.distplot(estimates)\n",
    "mean=np.array(estimates).mean()#convert to numpy object to get mean\n",
    "print('sample mean =',mean)"
   ]
  },
  {
   "cell_type": "markdown",
   "metadata": {},
   "source": [
    "Try increasing the number of samples and the sample size (currently is 2). What is your estimate of the sample mean?"
   ]
  },
  {
   "cell_type": "code",
   "execution_count": 3,
   "metadata": {},
   "outputs": [
    {
     "name": "stderr",
     "output_type": "stream",
     "text": [
      "C:\\Users\\Eason\\Anaconda3\\lib\\site-packages\\seaborn\\distributions.py:2557: FutureWarning: `distplot` is a deprecated function and will be removed in a future version. Please adapt your code to use either `displot` (a figure-level function with similar flexibility) or `histplot` (an axes-level function for histograms).\n",
      "  warnings.warn(msg, FutureWarning)\n"
     ]
    },
    {
     "name": "stdout",
     "output_type": "stream",
     "text": [
      "sample mean = 2.978999999999999\n",
      "sample std = 0.408973104250145\n"
     ]
    },
    {
     "data": {
      "image/png": "[encoded data removed]",
      "text/plain": [
       "<Figure size 432x288 with 1 Axes>"
      ]
     },
     "metadata": {
      "needs_background": "light"
     },
     "output_type": "display_data"
    }
   ],
   "source": [
    "import numpy as np\n",
    "%matplotlib inline\n",
    "estimates=[]\n",
    "for x in range(100):  #100 samples\n",
    "    sample=np.random.choice(a=[1,2,3,4,5],size=10)\n",
    "    estimates.append(sample.mean())\n",
    "sns.distplot(estimates)\n",
    "mean=np.array(estimates).mean()#convert to numpy object to get mean\n",
    "print('sample mean =',mean)\n",
    "print('sample std =',np.array(estimates).std())"
   ]
  },
  {
   "cell_type": "code",
   "execution_count": 4,
   "metadata": {},
   "outputs": [
    {
     "name": "stdout",
     "output_type": "stream",
     "text": [
      "Population =\n",
      " [[1 1 1 1 1 1 1 1 1 1 1 1 1 1 1 1 1 1 1 1]\n",
      " [2 2 2 2 2 2 2 2 2 2 2 2 2 2 2 2 2 2 2 2]\n",
      " [3 3 3 3 3 3 3 3 3 3 3 3 3 3 3 3 3 3 3 3]\n",
      " [4 4 4 4 4 4 4 4 4 4 4 4 4 4 4 4 4 4 4 4]\n",
      " [5 5 5 5 5 5 5 5 5 5 5 5 5 5 5 5 5 5 5 5]]\n",
      "Actual Population Mean= 3.0\n",
      "Actual Population Mean= 3.0\n",
      "Population Std Deviation= 1.4142135623730951\n"
     ]
    }
   ],
   "source": [
    "ping_pong=np.array([[1]*20,[2]*20,[3]*20,[4]*20,[5]*20])\n",
    "print(\"Population =\\n\",ping_pong)\n",
    "print(\"Actual Population Mean=\",ping_pong.mean())\n",
    "print(\"Actual Population Mean=\",np.array([1,2,3,4,5]).mean()) # same answer\n",
    "print(\"Population Std Deviation=\",ping_pong.std())"
   ]
  },
  {
   "cell_type": "markdown",
   "metadata": {},
   "source": [
    "### Central Limit Theorem\n",
    "\n",
    "As the sample size increases, the sampling distribution tends to resemble a normal probability distribution. The sample mean will also approach the population mean. However the standard deviation is related by:\n",
    "\n",
    "$$ \\sigma_x=\\frac{\\sigma}{\\sqrt{n}} $$\n",
    "\n",
    "$\\sigma_x$ is the sample standard deviation and \n",
    "$\\sigma$ is the population standard deviation. \n",
    "\n",
    "The sampling distribution of the mean refers to the pattern of sample means that will occur as samples are drawn from the population at large. According to the central limit theorem, as the sample size, n, gets larger, the sample means tend to follow a normal probability distribution. According to the central limit theorem, as the sample size, n, gets larger, the sample means tend to cluster around the true population mean.\n"
   ]
  },
  {
   "cell_type": "markdown",
   "metadata": {},
   "source": [
    "### Your Turn\n",
    "Calculate the sample standard deviation and population for n=20 (sample size). Test that is it approximately equal the above formula\n"
   ]
  },
  {
   "cell_type": "code",
   "execution_count": 29,
   "metadata": {},
   "outputs": [
    {
     "name": "stdout",
     "output_type": "stream",
     "text": [
      "Population Std Deviation= 1.4142135623730951\n",
      "sample std deviation = 0.29279856557025685\n",
      "𝜎𝑥=𝜎𝑛/√n =  0.31622776601683794\n"
     ]
    }
   ],
   "source": [
    "import math\n",
    "ping_pong=np.array([[1]*20,[2]*20,[3]*20,[4]*20,[5]*20])\n",
    "#print(\"Population =\\n\",ping_pong)\n",
    "print(\"Population Std Deviation=\",ping_pong.std())\n",
    "\n",
    "estimates=[]\n",
    "for x in range(100):  #100 samples\n",
    "    sample=np.random.choice(a=[1,2,3,4,5],size=20)\n",
    "    estimates.append(sample.mean())\n",
    "print('sample std deviation =',np.array(estimates).std())\n",
    "\n",
    "print('𝜎𝑥=𝜎𝑛/√n = ',ping_pong.std()/math.sqrt(20))"
   ]
  },
  {
   "cell_type": "markdown",
   "metadata": {},
   "source": [
    "### Central Limit Theorem \n",
    "!['sample-2-ball'](lab4-img/sample_pp_2.png)\n",
    "From the above experiments using 2 ball sample size (diagram above) you can see the most common sample average is 3.0, whereas sample averages of 1.0 and 5.0 occur the least number of times. This is because there are more possible combinations of twoball samples that average to 3.0 (5 to be exact) than two-ball samples that average to 1.0 or 5.0 (1 to be exact). In other words, we have five times the likelihood of drawing a two-ball sample that averages 3.0 when compared to sample averages of 1.0 or 5.0. \n",
    "\n",
    "As we increase our sample size to 5, 10, and 20, the probability of drawing a sample with an average of 1.0 or 5.0 decreases while the probability of drawing a sample with an average of 3.0 increases. This explains why as sample size grows, more sample averages center around 3.0 and fewer around 1.0 and 5.0. From the central limit theorem, we know the sample distribution follow a normal distribution with the mean equals to the population mean, and the standard deviation equal to:\n",
    "\n",
    "$$\\sigma_x=\\frac{\\sigma}{\\sqrt{n}}\n",
    "$$\n",
    "\n",
    "\n",
    "If we know the sample means follow the normal probability distribution and we also know the mean and standard deviation of that distribution, we can predict the likelihood that the sample means will be greater or less than certain values. What is the probability that our next sample of 20 ping-pong balls will have a sample average of 3.5 or less? "
   ]
  },
  {
   "cell_type": "markdown",
   "metadata": {},
   "source": [
    "### Z-Score\n",
    "\n",
    "The z-score is the standardized normal distribution with mean=0 and standard deviation=1.0. The z is the number of standard deviations between x and $\\mu$ otherwise knowns as the standard z-score.The z-score is given by:\n",
    "\n",
    "$$ z=\\frac{x-\\mu}{\\sigma}\n",
    "$$\n",
    "\n",
    "If we know the population standard deviation and the sample mean (which is equal to population mean=3.0, std=1.414) we calculate the z-score using the sample standard deviation:\n",
    "$$ z=\\frac{3.5-3.0}{\\frac{1.414}{\\sqrt{20}}}\n",
    "$$\n",
    "\n",
    "From the z-score, the probability that our next sample of 20 ping-pong balls will have a sample mean of 3.5 or less is approximately 94 percent.\n",
    "\n",
    "![](lab2-img\\sampling_dist_1.png)"
   ]
  },
  {
   "cell_type": "code",
   "execution_count": 13,
   "metadata": {},
   "outputs": [
    {
     "name": "stdout",
     "output_type": "stream",
     "text": [
      "1.5813776361384653\n"
     ]
    },
    {
     "data": {
      "text/plain": [
       "0.9431041411077377"
      ]
     },
     "execution_count": 13,
     "metadata": {},
     "output_type": "execute_result"
    }
   ],
   "source": [
    "import math\n",
    "from scipy import stats\n",
    "def zscore(xtest,mean,std,size):\n",
    "    return (xtest-mean)/(std/math.sqrt(size))\n",
    "zx=zscore(3.5,3.0,1.414,20)\n",
    "print (zx)\n",
    "#to obtain 1-tail probability (confidence) from z-score\n",
    "stats.norm.cdf(zx)\n",
    "#stats.norm.ppf(.95) #to obtain z-score from 1-tail probability\n",
    "#stats.zcore(values) this calculates from raw values as a list"
   ]
  },
  {
   "cell_type": "markdown",
   "metadata": {},
   "source": [
    "### Your Turn\n",
    "\n",
    "A population has a mean value of 16.0 and a standard deviation of 7.5. Calculate\n",
    "the following with a sample size of 9.\n",
    "1. Calculate the probability of the sample mean is above 18. We can write this as:\n",
    "    $P[\\bar{x}>18] $\n",
    "2.  $P[14.5\\leq \\bar{x}\\leq 16.5] $ "
   ]
  },
  {
   "cell_type": "code",
   "execution_count": 70,
   "metadata": {},
   "outputs": [
    {
     "name": "stdout",
     "output_type": "stream",
     "text": [
      "𝑃[𝑥¯>18]= 0.21185539858339664\n",
      "𝑃[14.5≤𝑥¯≤16.5]= 0.3050065916890294\n"
     ]
    }
   ],
   "source": [
    "def zscore(xtest,mean,std,size):\n",
    "    return (xtest-mean)/(std/math.sqrt(size))\n",
    "zx=zscore(18,16,7.5,9)\n",
    "print(\"𝑃[𝑥¯>18]=\",1-stats.norm.cdf(zx))\n",
    "\n",
    "zy=zscore(16.5,16,7.5,9)\n",
    "zz=zscore(14.5,16,7.5,9)\n",
    "print(\"𝑃[14.5≤𝑥¯≤16.5]=\",stats.norm.cdf(zy)-stats.norm.cdf(zz))"
   ]
  },
  {
   "cell_type": "markdown",
   "metadata": {},
   "source": [
    "### Confidence Level and Point Estimate\n",
    "\n",
    "let’s say we have a sample of 32 customers shopping with the average order of \\\\$78.25 and the population standard deviation is \\\\$37.50. What is the 90% confidence interval of the mean?\n",
    "\n",
    "To obtain the range for 90% confidence level, first we obtain the z-score. See image\n",
    "\n",
    "![](lab4-img\\sampling_dist_2.png)"
   ]
  },
  {
   "cell_type": "code",
   "execution_count": 19,
   "metadata": {},
   "outputs": [
    {
     "data": {
      "text/plain": [
       "1.6448536269514722"
      ]
     },
     "execution_count": 19,
     "metadata": {},
     "output_type": "execute_result"
    }
   ],
   "source": [
    "from scipy import stats\n",
    "stats.norm.ppf(1.9/2) "
   ]
  },
  {
   "cell_type": "code",
   "execution_count": 20,
   "metadata": {},
   "outputs": [
    {
     "name": "stdout",
     "output_type": "stream",
     "text": [
      "(67.34605793428118, 89.15394206571881)\n"
     ]
    }
   ],
   "source": [
    "from scipy import stats\n",
    "import math\n",
    "cf=stats.norm.interval(.9,loc=78.25,scale=37.5/math.sqrt(32))\n",
    "print(cf)"
   ]
  },
  {
   "cell_type": "markdown",
   "metadata": {},
   "source": [
    "According to these results, our 90 percent confidence interval for this random sample of shoppers is between \\\\$67.35 and \\\\$89.15 or (\\\\$67.35, \\\\$89.15).  A confidence interval is a range of values used to estimate a population parameter and is associated with a specific confidence level. A confidence interval needs to be described in the context of several samples. If we select 10 samples from our home shopping population and construct 90 percent confidence intervals around each of the sample means, then theoretically 9 of the 10 intervals will contain the true population mean, which remains unknown.\n",
    "\n",
    "![](lab4-img/sampling_dist_3.png)\n",
    "\n",
    "\n",
    "When the population standard deviation is unknown, we can use the sample standard deviation as along as n>=30.\n",
    "\n",
    "When n<30, then we use the Student t-distribution instead of z-distribution."
   ]
  },
  {
   "cell_type": "markdown",
   "metadata": {},
   "source": [
    "#### Calculating confidence level for n<30 from a normal distribution\n",
    "Data:\n",
    "    \n",
    "29 70 89 100 48 40 137 75 39 88\n",
    "\n",
    "With X unknown, we will construct a 95 percent confidence interval around the sample mean. We next need to calculate the sample mean and sample standard deviation, which is \n",
    "\n",
    "$$ \\bar{x}=71.50$$\n",
    "$$ s=33.50 $$\n",
    "\n",
    "Degrees of freedom is equal to n-1=9."
   ]
  },
  {
   "cell_type": "code",
   "execution_count": 21,
   "metadata": {},
   "outputs": [
    {
     "name": "stdout",
     "output_type": "stream",
     "text": [
      "(47.535543650588835, 95.46445634941117)\n"
     ]
    }
   ],
   "source": [
    "#example t-distribution interval\n",
    "cf=stats.t.interval(0.95,9, 71.5,33.50/math.sqrt(10))\n",
    "print(cf)"
   ]
  },
  {
   "cell_type": "markdown",
   "metadata": {},
   "source": [
    "### Your Turn\n",
    "\n",
    "The following sample of size 12 was taken from a population that is normally distributed and that has a population standard deviation of 12.7:\n",
    "\n",
    "    37 48 30 55 50 46 40 62 50 43 36 66\n",
    "\n",
    "Construct a 94 percent confidence interval around the mean."
   ]
  },
  {
   "cell_type": "code",
   "execution_count": 73,
   "metadata": {},
   "outputs": [
    {
     "name": "stdout",
     "output_type": "stream",
     "text": [
      "46.916666666666664\n",
      "94 percent confidence interva is (39.231856515670586, 54.60147681766274)\n"
     ]
    }
   ],
   "source": [
    "#example t-distribution interval\n",
    "mean=(37+48+30+55+50+46+40+62+50+43+36+66)/12\n",
    "\n",
    "cf1=stats.t.interval(0.94,11,mean ,12.7/math.sqrt(12))\n",
    "print(\"94 percent confidence interva is\",cf1)"
   ]
  }
 ],
 "metadata": {
  "kernelspec": {
   "display_name": "Python 3",
   "language": "python",
   "name": "python3"
  },
  "language_info": {
   "codemirror_mode": {
    "name": "ipython",
    "version": 3
   },
   "file_extension": ".py",
   "mimetype": "text/x-python",
   "name": "python",
   "nbconvert_exporter": "python",
   "pygments_lexer": "ipython3",
   "version": "3.8.8"
  }
 },
 "nbformat": 4,
 "nbformat_minor": 2
}
