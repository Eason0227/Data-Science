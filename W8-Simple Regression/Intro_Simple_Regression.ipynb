{
 "cells": [
  {
   "cell_type": "markdown",
   "metadata": {},
   "source": [
    "# Simple Linear Regression\n",
    "\n",
    "[Linear regression](https://en.wikipedia.org/wiki/Linear_regression) is perhaps the most simple of all of the models. Do you remember the linear formula where `m` is the slope and `b` is where the line starts on the y-axis?"
   ]
  },
  {
   "cell_type": "markdown",
   "metadata": {},
   "source": [
    "$$y=mx+b$$"
   ]
  },
  {
   "cell_type": "markdown",
   "metadata": {},
   "source": [
    "This is a simple linear model since there is only one coefficient - `mx`."
   ]
  },
  {
   "cell_type": "markdown",
   "metadata": {},
   "source": [
    "## Imports and load data"
   ]
  },
  {
   "cell_type": "code",
   "execution_count": 35,
   "metadata": {},
   "outputs": [],
   "source": [
    "import pandas as pd\n",
    "import numpy as np\n",
    "import matplotlib.pyplot as plt\n",
    "import seaborn as sns\n",
    "from sklearn.model_selection import train_test_split\n",
    "from sklearn.linear_model import LinearRegression\n",
    "from sklearn.metrics import r2_score\n",
    "\n",
    "sns.set()\n",
    "%matplotlib inline"
   ]
  },
  {
   "cell_type": "code",
   "execution_count": 43,
   "metadata": {
    "scrolled": true
   },
   "outputs": [],
   "source": [
    "df = pd.read_csv(\"./SalaryData.txt\")"
   ]
  },
  {
   "cell_type": "code",
   "execution_count": 44,
   "metadata": {},
   "outputs": [
    {
     "data": {
      "text/html": [
       "<div>\n",
       "<style scoped>\n",
       "    .dataframe tbody tr th:only-of-type {\n",
       "        vertical-align: middle;\n",
       "    }\n",
       "\n",
       "    .dataframe tbody tr th {\n",
       "        vertical-align: top;\n",
       "    }\n",
       "\n",
       "    .dataframe thead th {\n",
       "        text-align: right;\n",
       "    }\n",
       "</style>\n",
       "<table border=\"1\" class=\"dataframe\">\n",
       "  <thead>\n",
       "    <tr style=\"text-align: right;\">\n",
       "      <th></th>\n",
       "      <th>YearsExperience</th>\n",
       "      <th>Salary</th>\n",
       "    </tr>\n",
       "  </thead>\n",
       "  <tbody>\n",
       "    <tr>\n",
       "      <th>0</th>\n",
       "      <td>1.1</td>\n",
       "      <td>39343.0</td>\n",
       "    </tr>\n",
       "    <tr>\n",
       "      <th>1</th>\n",
       "      <td>1.3</td>\n",
       "      <td>46205.0</td>\n",
       "    </tr>\n",
       "    <tr>\n",
       "      <th>2</th>\n",
       "      <td>1.5</td>\n",
       "      <td>37731.0</td>\n",
       "    </tr>\n",
       "    <tr>\n",
       "      <th>3</th>\n",
       "      <td>2.0</td>\n",
       "      <td>43525.0</td>\n",
       "    </tr>\n",
       "    <tr>\n",
       "      <th>4</th>\n",
       "      <td>2.2</td>\n",
       "      <td>39891.0</td>\n",
       "    </tr>\n",
       "  </tbody>\n",
       "</table>\n",
       "</div>"
      ],
      "text/plain": [
       "   YearsExperience   Salary\n",
       "0              1.1  39343.0\n",
       "1              1.3  46205.0\n",
       "2              1.5  37731.0\n",
       "3              2.0  43525.0\n",
       "4              2.2  39891.0"
      ]
     },
     "execution_count": 44,
     "metadata": {},
     "output_type": "execute_result"
    }
   ],
   "source": [
    "df.head()"
   ]
  },
  {
   "cell_type": "code",
   "execution_count": 45,
   "metadata": {},
   "outputs": [
    {
     "data": {
      "text/plain": [
       "(33, 2)"
      ]
     },
     "execution_count": 45,
     "metadata": {},
     "output_type": "execute_result"
    }
   ],
   "source": [
    "df.shape"
   ]
  },
  {
   "cell_type": "markdown",
   "metadata": {},
   "source": [
    "Before continuing, check if there are any missing data in the data set."
   ]
  },
  {
   "cell_type": "code",
   "execution_count": 17,
   "metadata": {},
   "outputs": [
    {
     "data": {
      "text/plain": [
       "False"
      ]
     },
     "execution_count": 17,
     "metadata": {},
     "output_type": "execute_result"
    }
   ],
   "source": [
    "df.isnull().values.any()"
   ]
  },
  {
   "cell_type": "markdown",
   "metadata": {},
   "source": [
    "## Splitting data into Test and Train\n",
    "\n",
    "Splitting the depedent variable (`Salary`) out from the indepedent variable (`YearsExperience`) so we can build our model.\n",
    "\n",
    "We use the `train_test_split` method from `scikit-learn` to split our data. The `test_size` is used to tell it what percentage of the data to use for our testing data set and the `random_state` is used as a seed for the random splitting of the data. The seed will randomize the split in the same way each time for reproducability."
   ]
  },
  {
   "cell_type": "code",
   "execution_count": 46,
   "metadata": {},
   "outputs": [],
   "source": [
    "train_set, test_set = train_test_split(df, test_size=0.2, random_state=42)"
   ]
  },
  {
   "cell_type": "code",
   "execution_count": 47,
   "metadata": {},
   "outputs": [
    {
     "data": {
      "text/plain": [
       "(26, 2)"
      ]
     },
     "execution_count": 47,
     "metadata": {},
     "output_type": "execute_result"
    }
   ],
   "source": [
    "train_set.shape"
   ]
  },
  {
   "cell_type": "code",
   "execution_count": 48,
   "metadata": {},
   "outputs": [
    {
     "data": {
      "text/html": [
       "<div>\n",
       "<style scoped>\n",
       "    .dataframe tbody tr th:only-of-type {\n",
       "        vertical-align: middle;\n",
       "    }\n",
       "\n",
       "    .dataframe tbody tr th {\n",
       "        vertical-align: top;\n",
       "    }\n",
       "\n",
       "    .dataframe thead th {\n",
       "        text-align: right;\n",
       "    }\n",
       "</style>\n",
       "<table border=\"1\" class=\"dataframe\">\n",
       "  <thead>\n",
       "    <tr style=\"text-align: right;\">\n",
       "      <th></th>\n",
       "      <th>YearsExperience</th>\n",
       "      <th>Salary</th>\n",
       "    </tr>\n",
       "  </thead>\n",
       "  <tbody>\n",
       "    <tr>\n",
       "      <th>21</th>\n",
       "      <td>6.0</td>\n",
       "      <td>93940.0</td>\n",
       "    </tr>\n",
       "    <tr>\n",
       "      <th>12</th>\n",
       "      <td>4.0</td>\n",
       "      <td>56957.0</td>\n",
       "    </tr>\n",
       "    <tr>\n",
       "      <th>0</th>\n",
       "      <td>1.1</td>\n",
       "      <td>39343.0</td>\n",
       "    </tr>\n",
       "    <tr>\n",
       "      <th>4</th>\n",
       "      <td>2.2</td>\n",
       "      <td>39891.0</td>\n",
       "    </tr>\n",
       "    <tr>\n",
       "      <th>16</th>\n",
       "      <td>4.9</td>\n",
       "      <td>67938.0</td>\n",
       "    </tr>\n",
       "  </tbody>\n",
       "</table>\n",
       "</div>"
      ],
      "text/plain": [
       "    YearsExperience   Salary\n",
       "21              6.0  93940.0\n",
       "12              4.0  56957.0\n",
       "0               1.1  39343.0\n",
       "4               2.2  39891.0\n",
       "16              4.9  67938.0"
      ]
     },
     "execution_count": 48,
     "metadata": {},
     "output_type": "execute_result"
    }
   ],
   "source": [
    "train_set.head()"
   ]
  },
  {
   "cell_type": "code",
   "execution_count": 49,
   "metadata": {},
   "outputs": [
    {
     "data": {
      "text/html": [
       "<div>\n",
       "<style scoped>\n",
       "    .dataframe tbody tr th:only-of-type {\n",
       "        vertical-align: middle;\n",
       "    }\n",
       "\n",
       "    .dataframe tbody tr th {\n",
       "        vertical-align: top;\n",
       "    }\n",
       "\n",
       "    .dataframe thead th {\n",
       "        text-align: right;\n",
       "    }\n",
       "</style>\n",
       "<table border=\"1\" class=\"dataframe\">\n",
       "  <thead>\n",
       "    <tr style=\"text-align: right;\">\n",
       "      <th></th>\n",
       "      <th>YearsExperience</th>\n",
       "      <th>Salary</th>\n",
       "    </tr>\n",
       "  </thead>\n",
       "  <tbody>\n",
       "    <tr>\n",
       "      <th>31</th>\n",
       "      <td>10.5</td>\n",
       "      <td>121872.0</td>\n",
       "    </tr>\n",
       "    <tr>\n",
       "      <th>15</th>\n",
       "      <td>4.5</td>\n",
       "      <td>61111.0</td>\n",
       "    </tr>\n",
       "    <tr>\n",
       "      <th>26</th>\n",
       "      <td>8.7</td>\n",
       "      <td>109431.0</td>\n",
       "    </tr>\n",
       "    <tr>\n",
       "      <th>17</th>\n",
       "      <td>5.1</td>\n",
       "      <td>66029.0</td>\n",
       "    </tr>\n",
       "    <tr>\n",
       "      <th>8</th>\n",
       "      <td>3.2</td>\n",
       "      <td>64445.0</td>\n",
       "    </tr>\n",
       "  </tbody>\n",
       "</table>\n",
       "</div>"
      ],
      "text/plain": [
       "    YearsExperience    Salary\n",
       "31             10.5  121872.0\n",
       "15              4.5   61111.0\n",
       "26              8.7  109431.0\n",
       "17              5.1   66029.0\n",
       "8               3.2   64445.0"
      ]
     },
     "execution_count": 49,
     "metadata": {},
     "output_type": "execute_result"
    }
   ],
   "source": [
    "test_set.head()"
   ]
  },
  {
   "cell_type": "markdown",
   "metadata": {},
   "source": [
    "## Exploratory Data Analysis\n",
    "\n",
    "Explore the data to find trends. Using the `describe` method to get descriptive statistics on numerical columns of our data. The `corr` method to calculate correlations between the columns of our data. And plotting with `matplotlib` via the `plot` method to get a visual of the data. Also using `seaborn`'s `regplot` to give us what a linear regression line of our data may look like and to verify that our data looks linear."
   ]
  },
  {
   "cell_type": "code",
   "execution_count": 50,
   "metadata": {},
   "outputs": [
    {
     "data": {
      "text/html": [
       "<div>\n",
       "<style scoped>\n",
       "    .dataframe tbody tr th:only-of-type {\n",
       "        vertical-align: middle;\n",
       "    }\n",
       "\n",
       "    .dataframe tbody tr th {\n",
       "        vertical-align: top;\n",
       "    }\n",
       "\n",
       "    .dataframe thead th {\n",
       "        text-align: right;\n",
       "    }\n",
       "</style>\n",
       "<table border=\"1\" class=\"dataframe\">\n",
       "  <thead>\n",
       "    <tr style=\"text-align: right;\">\n",
       "      <th></th>\n",
       "      <th>YearsExperience</th>\n",
       "      <th>Salary</th>\n",
       "    </tr>\n",
       "  </thead>\n",
       "  <tbody>\n",
       "    <tr>\n",
       "      <th>count</th>\n",
       "      <td>26.000000</td>\n",
       "      <td>26.000000</td>\n",
       "    </tr>\n",
       "    <tr>\n",
       "      <th>mean</th>\n",
       "      <td>5.319231</td>\n",
       "      <td>76046.269231</td>\n",
       "    </tr>\n",
       "    <tr>\n",
       "      <th>std</th>\n",
       "      <td>2.929303</td>\n",
       "      <td>28339.605860</td>\n",
       "    </tr>\n",
       "    <tr>\n",
       "      <th>min</th>\n",
       "      <td>1.100000</td>\n",
       "      <td>37731.000000</td>\n",
       "    </tr>\n",
       "    <tr>\n",
       "      <th>25%</th>\n",
       "      <td>3.050000</td>\n",
       "      <td>56006.000000</td>\n",
       "    </tr>\n",
       "    <tr>\n",
       "      <th>50%</th>\n",
       "      <td>4.550000</td>\n",
       "      <td>65578.000000</td>\n",
       "    </tr>\n",
       "    <tr>\n",
       "      <th>75%</th>\n",
       "      <td>7.700000</td>\n",
       "      <td>100544.750000</td>\n",
       "    </tr>\n",
       "    <tr>\n",
       "      <th>max</th>\n",
       "      <td>10.400000</td>\n",
       "      <td>122391.000000</td>\n",
       "    </tr>\n",
       "  </tbody>\n",
       "</table>\n",
       "</div>"
      ],
      "text/plain": [
       "       YearsExperience         Salary\n",
       "count        26.000000      26.000000\n",
       "mean          5.319231   76046.269231\n",
       "std           2.929303   28339.605860\n",
       "min           1.100000   37731.000000\n",
       "25%           3.050000   56006.000000\n",
       "50%           4.550000   65578.000000\n",
       "75%           7.700000  100544.750000\n",
       "max          10.400000  122391.000000"
      ]
     },
     "execution_count": 50,
     "metadata": {},
     "output_type": "execute_result"
    }
   ],
   "source": [
    "train_set.describe()"
   ]
  },
  {
   "cell_type": "code",
   "execution_count": 51,
   "metadata": {},
   "outputs": [
    {
     "data": {
      "text/plain": [
       "<AxesSubplot:xlabel='YearsExperience', ylabel='Salary'>"
      ]
     },
     "execution_count": 51,
     "metadata": {},
     "output_type": "execute_result"
    },
    {
     "data": {
      "image/png": "[encoded data removed]",
      "text/plain": [
       "<Figure size 432x288 with 1 Axes>"
      ]
     },
     "metadata": {
      "needs_background": "light"
     },
     "output_type": "display_data"
    }
   ],
   "source": [
    "train_set.plot.scatter(x='YearsExperience', y='Salary',c=['r'])"
   ]
  },
  {
   "cell_type": "code",
   "execution_count": 52,
   "metadata": {},
   "outputs": [
    {
     "name": "stderr",
     "output_type": "stream",
     "text": [
      "C:\\Users\\user\\anaconda3\\lib\\site-packages\\seaborn\\_decorators.py:36: FutureWarning: Pass the following variables as keyword args: x, y. From version 0.12, the only valid positional argument will be `data`, and passing other arguments without an explicit keyword will result in an error or misinterpretation.\n",
      "  warnings.warn(\n"
     ]
    },
    {
     "data": {
      "text/plain": [
       "<AxesSubplot:xlabel='YearsExperience', ylabel='Salary'>"
      ]
     },
     "execution_count": 52,
     "metadata": {},
     "output_type": "execute_result"
    },
    {
     "data": {
      "image/png": "[encoded data removed]",
      "text/plain": [
       "<Figure size 432x288 with 1 Axes>"
      ]
     },
     "metadata": {
      "needs_background": "light"
     },
     "output_type": "display_data"
    }
   ],
   "source": [
    "# Regression plot\n",
    "sns.regplot('YearsExperience', # Horizontal axis\n",
    "           'Salary', # Vertical axis\n",
    "           data=train_set)"
   ]
  },
  {
   "cell_type": "markdown",
   "metadata": {},
   "source": [
    "## Predict\n",
    "\n",
    "We're making three other data sets for the `LinearRegression` model:\n",
    "- `test_` that is just the `YearsExperience` column (dropping the `Salary` column) that will be used for analyzing and scoring our model. `test_set` is the full data set after split.\n",
    "- `train_labels` that is just the `Salary` column to train the `LinearRegression` model what the answers are when passing in the years of experience input.\n",
    "- `train_set` that is also just the `YearsExperience` column (dropping the `Salary` column) that will be passed into the `LinearRegression`'s `fit` method as the `x` parameter."
   ]
  },
  {
   "cell_type": "code",
   "execution_count": 53,
   "metadata": {},
   "outputs": [],
   "source": [
    "test_ = test_set.drop([\"Salary\"], axis=1)"
   ]
  },
  {
   "cell_type": "code",
   "execution_count": 54,
   "metadata": {},
   "outputs": [
    {
     "data": {
      "text/html": [
       "<div>\n",
       "<style scoped>\n",
       "    .dataframe tbody tr th:only-of-type {\n",
       "        vertical-align: middle;\n",
       "    }\n",
       "\n",
       "    .dataframe tbody tr th {\n",
       "        vertical-align: top;\n",
       "    }\n",
       "\n",
       "    .dataframe thead th {\n",
       "        text-align: right;\n",
       "    }\n",
       "</style>\n",
       "<table border=\"1\" class=\"dataframe\">\n",
       "  <thead>\n",
       "    <tr style=\"text-align: right;\">\n",
       "      <th></th>\n",
       "      <th>YearsExperience</th>\n",
       "    </tr>\n",
       "  </thead>\n",
       "  <tbody>\n",
       "    <tr>\n",
       "      <th>31</th>\n",
       "      <td>10.5</td>\n",
       "    </tr>\n",
       "    <tr>\n",
       "      <th>15</th>\n",
       "      <td>4.5</td>\n",
       "    </tr>\n",
       "    <tr>\n",
       "      <th>26</th>\n",
       "      <td>8.7</td>\n",
       "    </tr>\n",
       "    <tr>\n",
       "      <th>17</th>\n",
       "      <td>5.1</td>\n",
       "    </tr>\n",
       "    <tr>\n",
       "      <th>8</th>\n",
       "      <td>3.2</td>\n",
       "    </tr>\n",
       "  </tbody>\n",
       "</table>\n",
       "</div>"
      ],
      "text/plain": [
       "    YearsExperience\n",
       "31             10.5\n",
       "15              4.5\n",
       "26              8.7\n",
       "17              5.1\n",
       "8               3.2"
      ]
     },
     "execution_count": 54,
     "metadata": {},
     "output_type": "execute_result"
    }
   ],
   "source": [
    "test_.head()"
   ]
  },
  {
   "cell_type": "code",
   "execution_count": 55,
   "metadata": {},
   "outputs": [],
   "source": [
    "train_labels = train_set[\"Salary\"]  #set as regression response value"
   ]
  },
  {
   "cell_type": "code",
   "execution_count": 56,
   "metadata": {},
   "outputs": [
    {
     "data": {
      "text/plain": [
       "21    93940.0\n",
       "12    56957.0\n",
       "0     39343.0\n",
       "4     39891.0\n",
       "16    67938.0\n",
       "Name: Salary, dtype: float64"
      ]
     },
     "execution_count": 56,
     "metadata": {},
     "output_type": "execute_result"
    }
   ],
   "source": [
    "train_labels.head()"
   ]
  },
  {
   "cell_type": "code",
   "execution_count": 57,
   "metadata": {},
   "outputs": [],
   "source": [
    "train_set = train_set.drop([\"Salary\"], axis=1)"
   ]
  },
  {
   "cell_type": "code",
   "execution_count": 58,
   "metadata": {},
   "outputs": [
    {
     "data": {
      "text/html": [
       "<div>\n",
       "<style scoped>\n",
       "    .dataframe tbody tr th:only-of-type {\n",
       "        vertical-align: middle;\n",
       "    }\n",
       "\n",
       "    .dataframe tbody tr th {\n",
       "        vertical-align: top;\n",
       "    }\n",
       "\n",
       "    .dataframe thead th {\n",
       "        text-align: right;\n",
       "    }\n",
       "</style>\n",
       "<table border=\"1\" class=\"dataframe\">\n",
       "  <thead>\n",
       "    <tr style=\"text-align: right;\">\n",
       "      <th></th>\n",
       "      <th>YearsExperience</th>\n",
       "    </tr>\n",
       "  </thead>\n",
       "  <tbody>\n",
       "    <tr>\n",
       "      <th>21</th>\n",
       "      <td>6.0</td>\n",
       "    </tr>\n",
       "    <tr>\n",
       "      <th>12</th>\n",
       "      <td>4.0</td>\n",
       "    </tr>\n",
       "    <tr>\n",
       "      <th>0</th>\n",
       "      <td>1.1</td>\n",
       "    </tr>\n",
       "    <tr>\n",
       "      <th>4</th>\n",
       "      <td>2.2</td>\n",
       "    </tr>\n",
       "    <tr>\n",
       "      <th>16</th>\n",
       "      <td>4.9</td>\n",
       "    </tr>\n",
       "  </tbody>\n",
       "</table>\n",
       "</div>"
      ],
      "text/plain": [
       "    YearsExperience\n",
       "21              6.0\n",
       "12              4.0\n",
       "0               1.1\n",
       "4               2.2\n",
       "16              4.9"
      ]
     },
     "execution_count": 58,
     "metadata": {},
     "output_type": "execute_result"
    }
   ],
   "source": [
    "train_set.head()"
   ]
  },
  {
   "cell_type": "markdown",
   "metadata": {},
   "source": [
    "Now that we have our data in the correct form, we pass in the `train_set` and `train_labels` into the `fit` method to train the model."
   ]
  },
  {
   "cell_type": "code",
   "execution_count": 59,
   "metadata": {},
   "outputs": [
    {
     "data": {
      "text/plain": [
       "LinearRegression()"
      ]
     },
     "execution_count": 59,
     "metadata": {},
     "output_type": "execute_result"
    }
   ],
   "source": [
    "lin_reg = LinearRegression()\n",
    "\n",
    "lin_reg.fit(train_set, train_labels)"
   ]
  },
  {
   "cell_type": "markdown",
   "metadata": {},
   "source": [
    "Now we have a model and can call the `predict` function on it with inputs. "
   ]
  },
  {
   "cell_type": "code",
   "execution_count": 60,
   "metadata": {},
   "outputs": [
    {
     "data": {
      "text/plain": [
       "array([125140.84207167,  68282.98488399, 108083.48491537,  73968.77060276,\n",
       "        55963.78249333,  60701.93725897,  76811.66346214])"
      ]
     },
     "execution_count": 60,
     "metadata": {},
     "output_type": "execute_result"
    }
   ],
   "source": [
    "salary_pred = lin_reg.predict(test_)\n",
    "\n",
    "salary_pred"
   ]
  },
  {
   "cell_type": "markdown",
   "metadata": {},
   "source": [
    "## Analyze Results"
   ]
  },
  {
   "cell_type": "markdown",
   "metadata": {},
   "source": [
    "We can get the coefficients and intercept from our model."
   ]
  },
  {
   "cell_type": "code",
   "execution_count": 61,
   "metadata": {},
   "outputs": [
    {
     "name": "stdout",
     "output_type": "stream",
     "text": [
      "Coefficients:  [9476.30953128]\n",
      "Intercept:  25639.591993229988\n"
     ]
    }
   ],
   "source": [
    "print(\"Coefficients: \", lin_reg.coef_)\n",
    "print(\"Intercept: \", lin_reg.intercept_)"
   ]
  },
  {
   "cell_type": "markdown",
   "metadata": {},
   "source": [
    "With that information we can build our line formula - $y=9476.309x + 25639.591$\n",
    "\n",
    "We can compare our predictions to our testing set label columns."
   ]
  },
  {
   "cell_type": "code",
   "execution_count": 62,
   "metadata": {},
   "outputs": [
    {
     "name": "stdout",
     "output_type": "stream",
     "text": [
      "[125140.84207167  68282.98488399 108083.48491537  73968.77060276\n",
      "  55963.78249333  60701.93725897  76811.66346214]\n",
      "31    121872.0\n",
      "15     61111.0\n",
      "26    109431.0\n",
      "17     66029.0\n",
      "8      64445.0\n",
      "9      57189.0\n",
      "19     82090.0\n",
      "Name: Salary, dtype: float64\n"
     ]
    }
   ],
   "source": [
    "#compare predicted and actual salary\n",
    "print(salary_pred)\n",
    "print(test_set[\"Salary\"])"
   ]
  },
  {
   "cell_type": "markdown",
   "metadata": {},
   "source": [
    "### Simple Model Evaluation\n",
    "\n",
    "We can also evaluate it using `MAE` (mean absolute error), `MSE` (mean squared error), `RMSE` (root mean square error).\n",
    "\n",
    "`MAE` represents average error. \n",
    "`MSE` is similar to `MAE` but larger errors are exaggerated more due the square function. The squared values make it much larger than the original units.\n",
    "`RMSE` is the square root of `MSE`. \n",
    "\n",
    "Models in `scikit-learn` have a `score` method. Depending on the model, this method will do a different calculation. For `LinearRegression` it calculates the $r^2$."
   ]
  },
  {
   "cell_type": "code",
   "execution_count": 63,
   "metadata": {},
   "outputs": [
    {
     "name": "stdout",
     "output_type": "stream",
     "text": [
      "5285.800563792832\n",
      "34158723.5687523\n",
      "5844.54648101564\n"
     ]
    }
   ],
   "source": [
    "from sklearn import metrics\n",
    "\n",
    "print(metrics.mean_absolute_error(test_set[\"Salary\"],salary_pred))\n",
    "print(metrics.mean_squared_error(test_set[\"Salary\"],salary_pred))\n",
    "print(np.sqrt(metrics.mean_squared_error(test_set[\"Salary\"],salary_pred)))"
   ]
  },
  {
   "cell_type": "code",
   "execution_count": 64,
   "metadata": {},
   "outputs": [
    {
     "data": {
      "text/plain": [
       "0.9392722746799265"
      ]
     },
     "execution_count": 64,
     "metadata": {},
     "output_type": "execute_result"
    }
   ],
   "source": [
    "lin_reg.score(test_, test_set[\"Salary\"])"
   ]
  },
  {
   "cell_type": "markdown",
   "metadata": {},
   "source": [
    "There's also a separate `r2_score` method that will calculate the $r^2$. It is a goodness of fit measure. Higher value is generally better. We will discuss this later. "
   ]
  },
  {
   "cell_type": "code",
   "execution_count": 65,
   "metadata": {},
   "outputs": [
    {
     "data": {
      "text/plain": [
       "0.9392722746799265"
      ]
     },
     "execution_count": 65,
     "metadata": {},
     "output_type": "execute_result"
    }
   ],
   "source": [
    "r2_score(test_set[\"Salary\"], salary_pred)"
   ]
  },
  {
   "cell_type": "markdown",
   "metadata": {},
   "source": [
    "### Plot Prediction\n",
    "\n",
    "We can also plot our test data as a scatter plot and, with our predicted salary that we got from our model, plot a line to see how well it fits the data."
   ]
  },
  {
   "cell_type": "code",
   "execution_count": 66,
   "metadata": {},
   "outputs": [
    {
     "data": {
      "text/plain": [
       "[<matplotlib.lines.Line2D at 0x247a0861c40>]"
      ]
     },
     "execution_count": 66,
     "metadata": {},
     "output_type": "execute_result"
    },
    {
     "data": {
      "image/png": "[encoded data removed]",
      "text/plain": [
       "<Figure size 432x288 with 1 Axes>"
      ]
     },
     "metadata": {
      "needs_background": "light"
     },
     "output_type": "display_data"
    }
   ],
   "source": [
    "plt.scatter(test_set[\"YearsExperience\"], test_set[\"Salary\"], color='blue')\n",
    "plt.plot(test_set[\"YearsExperience\"], salary_pred, color='red', linewidth=2)"
   ]
  },
  {
   "cell_type": "markdown",
   "metadata": {},
   "source": [
    "We can also plot the regression line directly from the equation obtained earlier: $y=9476.309x + 25639.591$"
   ]
  },
  {
   "cell_type": "code",
   "execution_count": 27,
   "metadata": {},
   "outputs": [
    {
     "data": {
      "image/png": "[encoded data removed]",
      "text/plain": [
       "<Figure size 432x288 with 1 Axes>"
      ]
     },
     "metadata": {
      "needs_background": "light"
     },
     "output_type": "display_data"
    }
   ],
   "source": [
    "x = np.linspace(3,11,40)\n",
    "y = 9476.309*x+25639.7\n",
    "plt.scatter(test_set[\"YearsExperience\"], test_set[\"Salary\"], color='blue')\n",
    "plt.plot(x, y, '-r', label='Reg Line')\n",
    "plt.title('Predicted Regression')\n",
    "plt.xlabel('Exp', color='#1C2833')\n",
    "plt.ylabel('sal', color='#1C2833')\n",
    "plt.show()"
   ]
  },
  {
   "cell_type": "markdown",
   "metadata": {},
   "source": [
    "### Question\n",
    "1. What is the predicted salary of somebody with 8 years of experience? Where did you obtain the prediction from?\n",
    "\n",
    "Re-run the regression 2 more times with different train-test split. Plot the 3 linear regression line together. \n",
    "1. What can say about the 3 regression lines?\n",
    "1. What is predicted salary for 8 years of experience for all 3 regression?\n",
    "1. Are the predicted values similar?\n",
    "1. Can you explain your answer in question (1&2) above? That is explain why the answers are similar (or not similar) after doing a separate train-test split. What can you say about the model variance and bias?\n",
    "1. Redo the regression with SalaryData2.txt. What can you say about model variance and bias?\n"
   ]
  },
  {
   "cell_type": "markdown",
   "metadata": {},
   "source": [
    "### ANS\n",
    "1. The regression equation is y = 9476.309*x+25639.7, x=8帶入, y=101450.172  \n",
    "predicted salary of somebody with 8 years of experience is 101450.172  \n",
    "figure of three model is below\n",
    "\n",
    "2.  \n",
    "regression model 1  \n",
    "The equation is y = 9476.309*x+25639.7,x=8帶入, y=101450.172   \n",
    "regression model 2  \n",
    "The equation is y = 9491.602*x+25749.221,x=8帶入, y=101682.037  \n",
    "regression model 3  \n",
    "The equation is y = 9517.0478*x+25094.774,x=8帶入, y=101231.1564  \n",
    "3.these predicted values are not similar  \n",
    "4.  \n",
    "Because the training set and the test set of each of these three models are different. That is, the training set of Model 1 is different from Model 2 and Model 3, so different regression models will be produced, which will naturally produce different results in prediction.  \n",
    "  \n",
    "model 1  \n",
    "bias= 34848479.56704019   \n",
    "variance= 2532515.1263304492  \n",
    "  \n",
    "model 2    \n",
    "bias= 21769036.833809275  \n",
    "variance= 2532800.116539496   \n",
    "  \n",
    "model 3  \n",
    "bias= 29421384.43087751  \n",
    "variance= 2149566.4497910733  \n",
    "  \n",
    "model1 has the biggest bias,it has lower Accuracy in three model.    \n",
    "model2 has the smallest bias and biggest variance,it has low precision and high Accuracy   \n",
    "model3 has the smallest variance,it has higher precision in three model.  \n",
    "and MSE=bias^2 + variance. the MSE of model2 is smallest,it is best model of three models  \n",
    "  \n",
    "5.  \n",
    "The equation is y=24441.527076976636+8360.266324*x  \n",
    "R-square= 0.4999483733198046  \n",
    "bias= 818633107.0180297  \n",
    "variance= 35851775.38924304  \n",
    "The bias and variance of the model are a bit large, so compared to the previous model, the performance of model 3 is not so good.  "
   ]
  },
  {
   "cell_type": "code",
   "execution_count": 106,
   "metadata": {},
   "outputs": [
    {
     "name": "stdout",
     "output_type": "stream",
     "text": [
      "R-square= 0.9392722746799265\n"
     ]
    },
    {
     "data": {
      "text/plain": [
       "[<matplotlib.lines.Line2D at 0x247a1f51d90>]"
      ]
     },
     "execution_count": 106,
     "metadata": {},
     "output_type": "execute_result"
    },
    {
     "data": {
      "image/png": "[encoded data removed]",
      "text/plain": [
       "<Figure size 432x288 with 1 Axes>"
      ]
     },
     "metadata": {
      "needs_background": "light"
     },
     "output_type": "display_data"
    }
   ],
   "source": [
    "#Model 1\n",
    "train_set, test_set = train_test_split(df, test_size=0.2,random_state=42)\n",
    "\n",
    "train_labels=train_set.drop([\"YearsExperience\"], axis=1)\n",
    "train_labels = train_set[\"Salary\"]  #set as regression response value\n",
    "train_set =train_set.drop([\"Salary\"], axis=1)\n",
    "test_ = test_set.drop([\"Salary\"], axis=1)\n",
    "\n",
    "\n",
    "lin_reg = LinearRegression()\n",
    "lin_reg.fit(train_set, train_labels)\n",
    "\n",
    "salary_pred = lin_reg.predict(test_)\n",
    "\n",
    "print(\"R-square=\",r2_score(test_set[\"Salary\"], salary_pred))\n",
    "\n",
    "plt.scatter(test_set[\"YearsExperience\"], test_set[\"Salary\"], color='blue')\n",
    "plt.plot(test_set[\"YearsExperience\"], salary_pred, color='red', linewidth=2)\n"
   ]
  },
  {
   "cell_type": "code",
   "execution_count": 105,
   "metadata": {},
   "outputs": [
    {
     "name": "stdout",
     "output_type": "stream",
     "text": [
      "bias= 34848479.56704019\n",
      "variance= 2532515.1263304492\n"
     ]
    }
   ],
   "source": [
    "#model1 bias\n",
    "import numpy\n",
    "from mlxtend.evaluate import bias_variance_decomp\n",
    "X_train=numpy.array(train_set)\n",
    "y_train=numpy.array(train_labels)\n",
    "X_test=numpy.array(test_)\n",
    "y_test=numpy.array(test_set[\"Salary\"])\n",
    "\n",
    "mse,bias,var = bias_variance_decomp(lin_reg,X_train, y_train, X_test, y_test,loss='mse',random_seed=1)\n",
    "print(\"bias=\",bias)\n",
    "print(\"variance=\",var)"
   ]
  },
  {
   "cell_type": "code",
   "execution_count": 104,
   "metadata": {},
   "outputs": [
    {
     "name": "stdout",
     "output_type": "stream",
     "text": [
      "R-square= 0.9711623349266361\n",
      "Coefficients:  [9491.60245041]\n",
      "Intercept:  25749.22124540106\n"
     ]
    },
    {
     "data": {
      "text/plain": [
       "[<matplotlib.lines.Line2D at 0x247a2010460>]"
      ]
     },
     "execution_count": 104,
     "metadata": {},
     "output_type": "execute_result"
    },
    {
     "data": {
      "image/png": "[encoded data removed]",
      "text/plain": [
       "<Figure size 432x288 with 1 Axes>"
      ]
     },
     "metadata": {
      "needs_background": "light"
     },
     "output_type": "display_data"
    }
   ],
   "source": [
    "#Model 2\n",
    "train_set2, test_set2 = train_test_split(df, test_size=0.2,random_state=1)\n",
    "train_labels2 = train_set2[\"Salary\"]  #set as regression response value\n",
    "train_set2 =train_set2.drop([\"Salary\"], axis=1)\n",
    "test_2 = test_set2.drop([\"Salary\"], axis=1)\n",
    "\n",
    "lin_reg2 = LinearRegression()\n",
    "lin_reg2.fit(train_set2, train_labels2)\n",
    "\n",
    "salary_pred2 = lin_reg.predict(test_2)\n",
    "\n",
    "print(\"R-square=\",r2_score(test_set2[\"Salary\"], salary_pred2))\n",
    "print(\"Coefficients: \", lin_reg2.coef_)\n",
    "print(\"Intercept: \", lin_reg2.intercept_)\n",
    "\n",
    "plt.scatter(test_set2[\"YearsExperience\"], test_set2[\"Salary\"], color='blue')\n",
    "plt.plot(test_set2[\"YearsExperience\"], salary_pred2, color='red', linewidth=2)"
   ]
  },
  {
   "cell_type": "code",
   "execution_count": 103,
   "metadata": {},
   "outputs": [
    {
     "name": "stdout",
     "output_type": "stream",
     "text": [
      "bias= 21769036.833809275\n",
      "variance= 2532800.116539496\n"
     ]
    }
   ],
   "source": [
    "#model2 bias\n",
    "from mlxtend.evaluate import bias_variance_decomp\n",
    "X_train2=numpy.array(train_set2)\n",
    "y_train2=numpy.array(train_labels2)\n",
    "X_test2=numpy.array(test_2)\n",
    "y_test2=numpy.array(test_set2[\"Salary\"])\n",
    "\n",
    "mse,bias2,var2 = bias_variance_decomp(lin_reg2 , X_train2, y_train2, X_test2, y_test2,loss='mse',random_seed=1)\n",
    "\n",
    "print(\"bias=\",bias2)\n",
    "print(\"variance=\",var2)"
   ]
  },
  {
   "cell_type": "code",
   "execution_count": 271,
   "metadata": {},
   "outputs": [
    {
     "name": "stdout",
     "output_type": "stream",
     "text": [
      "R-square= 0.846984870467195\n",
      "Coefficients:  [9517.04780428]\n",
      "Intercept:  25094.774022230886\n"
     ]
    },
    {
     "data": {
      "text/plain": [
       "[<matplotlib.lines.Line2D at 0x12b1909afa0>]"
      ]
     },
     "execution_count": 271,
     "metadata": {},
     "output_type": "execute_result"
    },
    {
     "data": {
      "image/png": "[encoded data removed]",
      "text/plain": [
       "<Figure size 432x288 with 1 Axes>"
      ]
     },
     "metadata": {
      "needs_background": "light"
     },
     "output_type": "display_data"
    }
   ],
   "source": [
    "#Model 3\n",
    "\n",
    "train_set3, test_set3 = train_test_split(df, test_size=0.2,random_state=50)\n",
    "train_labels3 = train_set3[\"Salary\"]  #set as regression response value\n",
    "train_set3 =train_set3.drop([\"Salary\"], axis=1)\n",
    "test_3 = test_set3.drop([\"Salary\"], axis=1)\n",
    "\n",
    "lin_reg3 = LinearRegression()\n",
    "lin_reg3.fit(train_set3, train_labels3)\n",
    "\n",
    "salary_pred3 = lin_reg.predict(test_3)\n",
    "\n",
    "print(\"R-square=\",r2_score(test_set3[\"Salary\"], salary_pred3))\n",
    "print(\"Coefficients: \", lin_reg3.coef_)\n",
    "print(\"Intercept: \", lin_reg3.intercept_)\n",
    "\n",
    "plt.scatter(test_set3[\"YearsExperience\"], test_set3[\"Salary\"], color='blue')\n",
    "plt.plot(test_set3[\"YearsExperience\"], salary_pred3, color='red', linewidth=2)"
   ]
  },
  {
   "cell_type": "code",
   "execution_count": 272,
   "metadata": {},
   "outputs": [
    {
     "name": "stdout",
     "output_type": "stream",
     "text": [
      "bias= 29421384.43087751\n",
      "variance= 2149566.4497910733\n"
     ]
    }
   ],
   "source": [
    "#model3 bias variance\n",
    "from mlxtend.evaluate import bias_variance_decomp\n",
    "X_train3=numpy.array(train_set3)\n",
    "y_train3=numpy.array(train_labels3)\n",
    "X_test3=numpy.array(test_3)\n",
    "y_test3=numpy.array(test_set3[\"Salary\"])\n",
    "\n",
    "mse,bias3,var3 = bias_variance_decomp(lin_reg3 , X_train3, y_train3, X_test3, y_test3,loss='mse', random_seed=1)\n",
    "\n",
    "print(\"bias=\",bias3)\n",
    "print(\"variance=\",var3)"
   ]
  },
  {
   "cell_type": "code",
   "execution_count": 260,
   "metadata": {},
   "outputs": [
    {
     "name": "stdout",
     "output_type": "stream",
     "text": [
      "R-square= 0.4999483733198046\n",
      "Coefficients:  [8360.266324]\n",
      "Intercept:  24441.527076976636\n"
     ]
    },
    {
     "data": {
      "text/plain": [
       "[<matplotlib.lines.Line2D at 0x12b18e704c0>]"
      ]
     },
     "execution_count": 260,
     "metadata": {},
     "output_type": "execute_result"
    },
    {
     "data": {
      "image/png": "[encoded data removed]",
      "text/plain": [
       "<Figure size 432x288 with 1 Axes>"
      ]
     },
     "metadata": {
      "needs_background": "light"
     },
     "output_type": "display_data"
    }
   ],
   "source": [
    "#Model SalaryData2\n",
    "df2 = pd.read_csv(\"./SalaryData2.txt\")\n",
    "\n",
    "train_set4, test_set4 = train_test_split(df2, test_size=0.2,random_state=42)\n",
    "train_labels4 = train_set4[\"Salary\"]  #set as regression response value\n",
    "train_set4 =train_set4.drop([\"Salary\"], axis=1)\n",
    "test_4 = test_set4.drop([\"Salary\"], axis=1)\n",
    "\n",
    "lin_reg4 = LinearRegression()\n",
    "lin_reg4.fit(train_set4, train_labels4)\n",
    "\n",
    "salary_pred4 = lin_reg.predict(test_4)\n",
    "\n",
    "print(\"R-square=\",r2_score(test_set4[\"Salary\"], salary_pred4))\n",
    "print(\"Coefficients: \", lin_reg4.coef_)\n",
    "print(\"Intercept: \", lin_reg4.intercept_)\n",
    "\n",
    "plt.scatter(test_set4[\"YearsExperience\"], test_set4[\"Salary\"], color='blue')\n",
    "plt.plot(test_set4[\"YearsExperience\"], salary_pred4, color='red', linewidth=2)"
   ]
  },
  {
   "cell_type": "code",
   "execution_count": 274,
   "metadata": {},
   "outputs": [
    {
     "name": "stdout",
     "output_type": "stream",
     "text": [
      "bias= 818633107.0180297\n",
      "variance= 35851775.38924304\n"
     ]
    }
   ],
   "source": [
    "#model bias variance\n",
    "from mlxtend.evaluate import bias_variance_decomp\n",
    "X_train4=numpy.array(train_set4)\n",
    "y_train4=numpy.array(train_labels4)\n",
    "X_test4=numpy.array(test_4)\n",
    "y_test4=numpy.array(test_set4[\"Salary\"])\n",
    "\n",
    "mse,bias4,var4 = bias_variance_decomp(lin_reg4 , X_train4, y_train4, X_test4, y_test4,loss='mse', num_rounds=200, random_seed=1)\n",
    "\n",
    "print(\"bias=\",bias4)\n",
    "print(\"variance=\",var4)"
   ]
  }
 ],
 "metadata": {
  "kernelspec": {
   "display_name": "Python 3",
   "language": "python",
   "name": "python3"
  },
  "language_info": {
   "codemirror_mode": {
    "name": "ipython",
    "version": 3
   },
   "file_extension": ".py",
   "mimetype": "text/x-python",
   "name": "python",
   "nbconvert_exporter": "python",
   "pygments_lexer": "ipython3",
   "version": "3.8.8"
  }
 },
 "nbformat": 4,
 "nbformat_minor": 2
}
