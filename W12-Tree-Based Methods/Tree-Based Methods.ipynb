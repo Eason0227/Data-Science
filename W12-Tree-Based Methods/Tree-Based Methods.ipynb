{
 "cells": [
  {
   "cell_type": "markdown",
   "metadata": {},
   "source": [
    "### Tree Based Methods\n",
    "\n",
    "Preliminary: \n",
    "Install graphviz if graphviz have not been installed:\n",
    "1. To install download exe at https://www2.graphviz.org/Packages/development/windows/10/cmake/Release/x64/\n",
    "\n",
    " When installing, select to include PATH for all users.\n",
    " \n",
    "2. At the anaconda prompt type: pip install graphviz"
   ]
  },
  {
   "cell_type": "code",
   "execution_count": 1,
   "metadata": {},
   "outputs": [],
   "source": [
    "import pandas as pd\n",
    "import numpy as np\n",
    "import matplotlib.pyplot as plt\n",
    "import seaborn as sns\n",
    "\n",
    "\n",
    "from sklearn.model_selection import train_test_split, cross_val_score\n",
    "from io import StringIO  \n",
    "from sklearn.tree import DecisionTreeRegressor, DecisionTreeClassifier, export_graphviz\n",
    "from sklearn.ensemble import BaggingClassifier, RandomForestClassifier, BaggingRegressor, RandomForestRegressor, GradientBoostingRegressor\n",
    "from sklearn.metrics import mean_squared_error,confusion_matrix, classification_report\n",
    "\n",
    "import pydot ### need to install : conda install pydot\n",
    "from IPython.display import Image\n",
    "\n",
    "%matplotlib inline\n",
    "plt.style.use('seaborn-white')"
   ]
  },
  {
   "cell_type": "code",
   "execution_count": 2,
   "metadata": {},
   "outputs": [
    {
     "name": "stdout",
     "output_type": "stream",
     "text": [
      "<class 'pandas.core.frame.DataFrame'>\n",
      "Int64Index: 263 entries, 1 to 321\n",
      "Data columns (total 21 columns):\n",
      " #   Column      Non-Null Count  Dtype  \n",
      "---  ------      --------------  -----  \n",
      " 0   Unnamed: 0  263 non-null    object \n",
      " 1   AtBat       263 non-null    int64  \n",
      " 2   Hits        263 non-null    int64  \n",
      " 3   HmRun       263 non-null    int64  \n",
      " 4   Runs        263 non-null    int64  \n",
      " 5   RBI         263 non-null    int64  \n",
      " 6   Walks       263 non-null    int64  \n",
      " 7   Years       263 non-null    int64  \n",
      " 8   CAtBat      263 non-null    int64  \n",
      " 9   CHits       263 non-null    int64  \n",
      " 10  CHmRun      263 non-null    int64  \n",
      " 11  CRuns       263 non-null    int64  \n",
      " 12  CRBI        263 non-null    int64  \n",
      " 13  CWalks      263 non-null    int64  \n",
      " 14  League      263 non-null    object \n",
      " 15  Division    263 non-null    object \n",
      " 16  PutOuts     263 non-null    int64  \n",
      " 17  Assists     263 non-null    int64  \n",
      " 18  Errors      263 non-null    int64  \n",
      " 19  Salary      263 non-null    float64\n",
      " 20  NewLeague   263 non-null    object \n",
      "dtypes: float64(1), int64(16), object(4)\n",
      "memory usage: 45.2+ KB\n"
     ]
    }
   ],
   "source": [
    "df = pd.read_csv('Data/Hitters.csv').dropna()\n",
    "df.info()"
   ]
  },
  {
   "cell_type": "markdown",
   "metadata": {},
   "source": [
    "### Graph the data"
   ]
  },
  {
   "cell_type": "code",
   "execution_count": 3,
   "metadata": {},
   "outputs": [
    {
     "data": {
      "text/html": [
       "<div>\n",
       "<style scoped>\n",
       "    .dataframe tbody tr th:only-of-type {\n",
       "        vertical-align: middle;\n",
       "    }\n",
       "\n",
       "    .dataframe tbody tr th {\n",
       "        vertical-align: top;\n",
       "    }\n",
       "\n",
       "    .dataframe thead th {\n",
       "        text-align: right;\n",
       "    }\n",
       "</style>\n",
       "<table border=\"1\" class=\"dataframe\">\n",
       "  <thead>\n",
       "    <tr style=\"text-align: right;\">\n",
       "      <th></th>\n",
       "      <th>Unnamed: 0</th>\n",
       "      <th>AtBat</th>\n",
       "      <th>Hits</th>\n",
       "      <th>HmRun</th>\n",
       "      <th>Runs</th>\n",
       "      <th>RBI</th>\n",
       "      <th>Walks</th>\n",
       "      <th>Years</th>\n",
       "      <th>CAtBat</th>\n",
       "      <th>CHits</th>\n",
       "      <th>...</th>\n",
       "      <th>CRuns</th>\n",
       "      <th>CRBI</th>\n",
       "      <th>CWalks</th>\n",
       "      <th>League</th>\n",
       "      <th>Division</th>\n",
       "      <th>PutOuts</th>\n",
       "      <th>Assists</th>\n",
       "      <th>Errors</th>\n",
       "      <th>Salary</th>\n",
       "      <th>NewLeague</th>\n",
       "    </tr>\n",
       "  </thead>\n",
       "  <tbody>\n",
       "    <tr>\n",
       "      <th>1</th>\n",
       "      <td>-Alan Ashby</td>\n",
       "      <td>315</td>\n",
       "      <td>81</td>\n",
       "      <td>7</td>\n",
       "      <td>24</td>\n",
       "      <td>38</td>\n",
       "      <td>39</td>\n",
       "      <td>14</td>\n",
       "      <td>3449</td>\n",
       "      <td>835</td>\n",
       "      <td>...</td>\n",
       "      <td>321</td>\n",
       "      <td>414</td>\n",
       "      <td>375</td>\n",
       "      <td>N</td>\n",
       "      <td>W</td>\n",
       "      <td>632</td>\n",
       "      <td>43</td>\n",
       "      <td>10</td>\n",
       "      <td>475.0</td>\n",
       "      <td>N</td>\n",
       "    </tr>\n",
       "    <tr>\n",
       "      <th>2</th>\n",
       "      <td>-Alvin Davis</td>\n",
       "      <td>479</td>\n",
       "      <td>130</td>\n",
       "      <td>18</td>\n",
       "      <td>66</td>\n",
       "      <td>72</td>\n",
       "      <td>76</td>\n",
       "      <td>3</td>\n",
       "      <td>1624</td>\n",
       "      <td>457</td>\n",
       "      <td>...</td>\n",
       "      <td>224</td>\n",
       "      <td>266</td>\n",
       "      <td>263</td>\n",
       "      <td>A</td>\n",
       "      <td>W</td>\n",
       "      <td>880</td>\n",
       "      <td>82</td>\n",
       "      <td>14</td>\n",
       "      <td>480.0</td>\n",
       "      <td>A</td>\n",
       "    </tr>\n",
       "    <tr>\n",
       "      <th>3</th>\n",
       "      <td>-Andre Dawson</td>\n",
       "      <td>496</td>\n",
       "      <td>141</td>\n",
       "      <td>20</td>\n",
       "      <td>65</td>\n",
       "      <td>78</td>\n",
       "      <td>37</td>\n",
       "      <td>11</td>\n",
       "      <td>5628</td>\n",
       "      <td>1575</td>\n",
       "      <td>...</td>\n",
       "      <td>828</td>\n",
       "      <td>838</td>\n",
       "      <td>354</td>\n",
       "      <td>N</td>\n",
       "      <td>E</td>\n",
       "      <td>200</td>\n",
       "      <td>11</td>\n",
       "      <td>3</td>\n",
       "      <td>500.0</td>\n",
       "      <td>N</td>\n",
       "    </tr>\n",
       "    <tr>\n",
       "      <th>4</th>\n",
       "      <td>-Andres Galarraga</td>\n",
       "      <td>321</td>\n",
       "      <td>87</td>\n",
       "      <td>10</td>\n",
       "      <td>39</td>\n",
       "      <td>42</td>\n",
       "      <td>30</td>\n",
       "      <td>2</td>\n",
       "      <td>396</td>\n",
       "      <td>101</td>\n",
       "      <td>...</td>\n",
       "      <td>48</td>\n",
       "      <td>46</td>\n",
       "      <td>33</td>\n",
       "      <td>N</td>\n",
       "      <td>E</td>\n",
       "      <td>805</td>\n",
       "      <td>40</td>\n",
       "      <td>4</td>\n",
       "      <td>91.5</td>\n",
       "      <td>N</td>\n",
       "    </tr>\n",
       "    <tr>\n",
       "      <th>5</th>\n",
       "      <td>-Alfredo Griffin</td>\n",
       "      <td>594</td>\n",
       "      <td>169</td>\n",
       "      <td>4</td>\n",
       "      <td>74</td>\n",
       "      <td>51</td>\n",
       "      <td>35</td>\n",
       "      <td>11</td>\n",
       "      <td>4408</td>\n",
       "      <td>1133</td>\n",
       "      <td>...</td>\n",
       "      <td>501</td>\n",
       "      <td>336</td>\n",
       "      <td>194</td>\n",
       "      <td>A</td>\n",
       "      <td>W</td>\n",
       "      <td>282</td>\n",
       "      <td>421</td>\n",
       "      <td>25</td>\n",
       "      <td>750.0</td>\n",
       "      <td>A</td>\n",
       "    </tr>\n",
       "  </tbody>\n",
       "</table>\n",
       "<p>5 rows × 21 columns</p>\n",
       "</div>"
      ],
      "text/plain": [
       "          Unnamed: 0  AtBat  Hits  HmRun  Runs  RBI  Walks  Years  CAtBat  \\\n",
       "1        -Alan Ashby    315    81      7    24   38     39     14    3449   \n",
       "2       -Alvin Davis    479   130     18    66   72     76      3    1624   \n",
       "3      -Andre Dawson    496   141     20    65   78     37     11    5628   \n",
       "4  -Andres Galarraga    321    87     10    39   42     30      2     396   \n",
       "5   -Alfredo Griffin    594   169      4    74   51     35     11    4408   \n",
       "\n",
       "   CHits  ...  CRuns  CRBI  CWalks  League Division PutOuts  Assists  Errors  \\\n",
       "1    835  ...    321   414     375       N        W     632       43      10   \n",
       "2    457  ...    224   266     263       A        W     880       82      14   \n",
       "3   1575  ...    828   838     354       N        E     200       11       3   \n",
       "4    101  ...     48    46      33       N        E     805       40       4   \n",
       "5   1133  ...    501   336     194       A        W     282      421      25   \n",
       "\n",
       "   Salary  NewLeague  \n",
       "1   475.0          N  \n",
       "2   480.0          A  \n",
       "3   500.0          N  \n",
       "4    91.5          N  \n",
       "5   750.0          A  \n",
       "\n",
       "[5 rows x 21 columns]"
      ]
     },
     "execution_count": 3,
     "metadata": {},
     "output_type": "execute_result"
    }
   ],
   "source": [
    "X = df[['Years', 'Hits']].to_numpy()\n",
    "y = np.log(df.Salary.to_numpy())\n",
    "df.head()"
   ]
  },
  {
   "cell_type": "code",
   "execution_count": 4,
   "metadata": {},
   "outputs": [
    {
     "data": {
      "image/png": "[encoded data removed]",
      "text/plain": [
       "<Figure size 792x288 with 2 Axes>"
      ]
     },
     "metadata": {},
     "output_type": "display_data"
    }
   ],
   "source": [
    "fig, (ax1, ax2) = plt.subplots(1,2, figsize=(11,4))\n",
    "ax1.hist(df.Salary.to_numpy())\n",
    "ax1.set_xlabel('Salary')\n",
    "ax2.hist(y)\n",
    "ax2.set_xlabel('Log(Salary)');"
   ]
  },
  {
   "cell_type": "markdown",
   "metadata": {},
   "source": [
    "### Decision Tree Regression"
   ]
  },
  {
   "cell_type": "code",
   "execution_count": 5,
   "metadata": {},
   "outputs": [
    {
     "data": {
      "text/plain": [
       "DecisionTreeRegressor(max_leaf_nodes=3)"
      ]
     },
     "execution_count": 5,
     "metadata": {},
     "output_type": "execute_result"
    }
   ],
   "source": [
    "regr = DecisionTreeRegressor(max_leaf_nodes=3)\n",
    "regr.fit(X, y)\n"
   ]
  },
  {
   "cell_type": "markdown",
   "metadata": {},
   "source": [
    "### Plot the Tree and graph"
   ]
  },
  {
   "cell_type": "code",
   "execution_count": 6,
   "metadata": {},
   "outputs": [
    {
     "data": {
      "text/plain": [
       "[Text(111.6, 271.8, 'X[0] <= 4.5\\nmse = 0.788\\nsamples = 263\\nvalue = 5.927'),\n",
       " Text(55.8, 163.08, 'mse = 0.471\\nsamples = 90\\nvalue = 5.107'),\n",
       " Text(167.39999999999998, 163.08, 'X[1] <= 117.5\\nmse = 0.42\\nsamples = 173\\nvalue = 6.354'),\n",
       " Text(111.6, 54.360000000000014, 'mse = 0.312\\nsamples = 90\\nvalue = 5.998'),\n",
       " Text(223.2, 54.360000000000014, 'mse = 0.252\\nsamples = 83\\nvalue = 6.74')]"
      ]
     },
     "execution_count": 6,
     "metadata": {},
     "output_type": "execute_result"
    },
    {
     "data": {
      "image/png": "[encoded data removed]",
      "text/plain": [
       "<Figure size 360x432 with 1 Axes>"
      ]
     },
     "metadata": {},
     "output_type": "display_data"
    }
   ],
   "source": [
    "from sklearn import tree\n",
    "plt.figure(figsize=[5,6]) #control size of figure in inches\n",
    "tree.plot_tree(regr) "
   ]
  },
  {
   "cell_type": "markdown",
   "metadata": {},
   "source": [
    "Text-based tree can also be created ... see below"
   ]
  },
  {
   "cell_type": "code",
   "execution_count": 7,
   "metadata": {
    "scrolled": true
   },
   "outputs": [
    {
     "name": "stdout",
     "output_type": "stream",
     "text": [
      "|--- years <= 4.50\n",
      "|   |--- value: [5.11]\n",
      "|--- years >  4.50\n",
      "|   |--- hits <= 117.50\n",
      "|   |   |--- value: [6.00]\n",
      "|   |--- hits >  117.50\n",
      "|   |   |--- value: [6.74]\n",
      "\n"
     ]
    }
   ],
   "source": [
    "from sklearn.tree import export_text\n",
    "r = export_text(regr, feature_names=['years','hits'])\n",
    "print(r)"
   ]
  },
  {
   "cell_type": "markdown",
   "metadata": {},
   "source": [
    "### The following requires Graphviz installed, or you can skip"
   ]
  },
  {
   "cell_type": "code",
   "execution_count": 8,
   "metadata": {},
   "outputs": [
    {
     "data": {
      "text/plain": [
       "'sal.pdf'"
      ]
     },
     "execution_count": 8,
     "metadata": {},
     "output_type": "execute_result"
    }
   ],
   "source": [
    "import graphviz \n",
    "dot_data = tree.export_graphviz(regr, out_file=None) \n",
    "graph = graphviz.Source(dot_data) \n",
    "graph.render(\"sal\") \n",
    "#generates sal.pdf file"
   ]
  },
  {
   "cell_type": "code",
   "execution_count": 9,
   "metadata": {
    "scrolled": true
   },
   "outputs": [
    {
     "data": {
      "image/svg+xml": [
       "<?xml version=\"1.0\" encoding=\"UTF-8\" standalone=\"no\"?>\r\n",
       "<!DOCTYPE svg PUBLIC \"-//W3C//DTD SVG 1.1//EN\"\r\n",
       " \"http://www.w3.org/Graphics/SVG/1.1/DTD/svg11.dtd\">\r\n",
       "<!-- Generated by graphviz version 2.44.2~dev.20201112.1525 (20201112.1525)\r\n",
       " -->\r\n",
       "<!-- Title: Tree Pages: 1 -->\r\n",
       "<svg width=\"296pt\" height=\"269pt\"\r\n",
       " viewBox=\"0.00 0.00 296.00 269.00\" xmlns=\"http://www.w3.org/2000/svg\" xmlns:xlink=\"http://www.w3.org/1999/xlink\">\r\n",
       "<g id=\"graph0\" class=\"graph\" transform=\"scale(1 1) rotate(0) translate(4 265)\">\r\n",
       "<title>Tree</title>\r\n",
       "<polygon fill=\"white\" stroke=\"transparent\" points=\"-4,4 -4,-265 292,-265 292,4 -4,4\"/>\r\n",
       "<!-- 0 -->\r\n",
       "<g id=\"node1\" class=\"node\">\r\n",
       "<title>0</title>\r\n",
       "<path fill=\"#f2c09c\" stroke=\"black\" d=\"M157,-261C157,-261 70,-261 70,-261 64,-261 58,-255 58,-249 58,-249 58,-205 58,-205 58,-199 64,-193 70,-193 70,-193 157,-193 157,-193 163,-193 169,-199 169,-205 169,-205 169,-249 169,-249 169,-255 163,-261 157,-261\"/>\r\n",
       "<text text-anchor=\"start\" x=\"77\" y=\"-245.8\" font-family=\"Helvetica,sans-Serif\" font-size=\"14.00\">Years ≤ 4.5</text>\r\n",
       "<text text-anchor=\"start\" x=\"73\" y=\"-230.8\" font-family=\"Helvetica,sans-Serif\" font-size=\"14.00\">mse = 0.788</text>\r\n",
       "<text text-anchor=\"start\" x=\"66\" y=\"-215.8\" font-family=\"Helvetica,sans-Serif\" font-size=\"14.00\">samples = 263</text>\r\n",
       "<text text-anchor=\"start\" x=\"70.5\" y=\"-200.8\" font-family=\"Helvetica,sans-Serif\" font-size=\"14.00\">value = 5.927</text>\r\n",
       "</g>\r\n",
       "<!-- 1 -->\r\n",
       "<g id=\"node2\" class=\"node\">\r\n",
       "<title>1</title>\r\n",
       "<path fill=\"#ffffff\" stroke=\"black\" d=\"M91,-149.5C91,-149.5 12,-149.5 12,-149.5 6,-149.5 0,-143.5 0,-137.5 0,-137.5 0,-108.5 0,-108.5 0,-102.5 6,-96.5 12,-96.5 12,-96.5 91,-96.5 91,-96.5 97,-96.5 103,-102.5 103,-108.5 103,-108.5 103,-137.5 103,-137.5 103,-143.5 97,-149.5 91,-149.5\"/>\r\n",
       "<text text-anchor=\"start\" x=\"11\" y=\"-134.3\" font-family=\"Helvetica,sans-Serif\" font-size=\"14.00\">mse = 0.471</text>\r\n",
       "<text text-anchor=\"start\" x=\"8\" y=\"-119.3\" font-family=\"Helvetica,sans-Serif\" font-size=\"14.00\">samples = 90</text>\r\n",
       "<text text-anchor=\"start\" x=\"8.5\" y=\"-104.3\" font-family=\"Helvetica,sans-Serif\" font-size=\"14.00\">value = 5.107</text>\r\n",
       "</g>\r\n",
       "<!-- 0&#45;&gt;1 -->\r\n",
       "<g id=\"edge1\" class=\"edge\">\r\n",
       "<title>0:&#45;&gt;1:</title>\r\n",
       "<path fill=\"none\" stroke=\"black\" d=\"M93.37,-192.88C86.62,-181.78 79.08,-169.37 72.28,-158.18\"/>\r\n",
       "<polygon fill=\"black\" stroke=\"black\" points=\"75.2,-156.25 67.01,-149.52 69.22,-159.88 75.2,-156.25\"/>\r\n",
       "<text text-anchor=\"middle\" x=\"61.09\" y=\"-170.11\" font-family=\"Helvetica,sans-Serif\" font-size=\"14.00\">True</text>\r\n",
       "</g>\r\n",
       "<!-- 2 -->\r\n",
       "<g id=\"node3\" class=\"node\">\r\n",
       "<title>2</title>\r\n",
       "<path fill=\"#eb9f68\" stroke=\"black\" d=\"M220,-157C220,-157 133,-157 133,-157 127,-157 121,-151 121,-145 121,-145 121,-101 121,-101 121,-95 127,-89 133,-89 133,-89 220,-89 220,-89 226,-89 232,-95 232,-101 232,-101 232,-145 232,-145 232,-151 226,-157 220,-157\"/>\r\n",
       "<text text-anchor=\"start\" x=\"138.5\" y=\"-141.8\" font-family=\"Helvetica,sans-Serif\" font-size=\"14.00\">Hits ≤ 117.5</text>\r\n",
       "<text text-anchor=\"start\" x=\"140\" y=\"-126.8\" font-family=\"Helvetica,sans-Serif\" font-size=\"14.00\">mse = 0.42</text>\r\n",
       "<text text-anchor=\"start\" x=\"129\" y=\"-111.8\" font-family=\"Helvetica,sans-Serif\" font-size=\"14.00\">samples = 173</text>\r\n",
       "<text text-anchor=\"start\" x=\"133.5\" y=\"-96.8\" font-family=\"Helvetica,sans-Serif\" font-size=\"14.00\">value = 6.354</text>\r\n",
       "</g>\r\n",
       "<!-- 0&#45;&gt;2 -->\r\n",
       "<g id=\"edge2\" class=\"edge\">\r\n",
       "<title>0:&#45;&gt;2:</title>\r\n",
       "<path fill=\"none\" stroke=\"black\" d=\"M133.95,-192.88C139.24,-184.33 144.99,-175.01 150.51,-166.07\"/>\r\n",
       "<polygon fill=\"black\" stroke=\"black\" points=\"153.66,-167.65 155.93,-157.3 147.7,-163.97 153.66,-167.65\"/>\r\n",
       "<text text-anchor=\"middle\" x=\"161.68\" y=\"-177.93\" font-family=\"Helvetica,sans-Serif\" font-size=\"14.00\">False</text>\r\n",
       "</g>\r\n",
       "<!-- 3 -->\r\n",
       "<g id=\"node4\" class=\"node\">\r\n",
       "<title>3</title>\r\n",
       "<path fill=\"#f1ba93\" stroke=\"black\" d=\"M155,-53C155,-53 76,-53 76,-53 70,-53 64,-47 64,-41 64,-41 64,-12 64,-12 64,-6 70,0 76,0 76,0 155,0 155,0 161,0 167,-6 167,-12 167,-12 167,-41 167,-41 167,-47 161,-53 155,-53\"/>\r\n",
       "<text text-anchor=\"start\" x=\"75\" y=\"-37.8\" font-family=\"Helvetica,sans-Serif\" font-size=\"14.00\">mse = 0.312</text>\r\n",
       "<text text-anchor=\"start\" x=\"72\" y=\"-22.8\" font-family=\"Helvetica,sans-Serif\" font-size=\"14.00\">samples = 90</text>\r\n",
       "<text text-anchor=\"start\" x=\"72.5\" y=\"-7.8\" font-family=\"Helvetica,sans-Serif\" font-size=\"14.00\">value = 5.998</text>\r\n",
       "</g>\r\n",
       "<!-- 2&#45;&gt;3 -->\r\n",
       "<g id=\"edge3\" class=\"edge\">\r\n",
       "<title>2:&#45;&gt;3:</title>\r\n",
       "<path fill=\"none\" stroke=\"black\" d=\"M155.17,-88.95C149.5,-80.17 143.36,-70.66 137.65,-61.82\"/>\r\n",
       "<polygon fill=\"black\" stroke=\"black\" points=\"140.48,-59.74 132.11,-53.24 134.6,-63.54 140.48,-59.74\"/>\r\n",
       "</g>\r\n",
       "<!-- 4 -->\r\n",
       "<g id=\"node5\" class=\"node\">\r\n",
       "<title>4</title>\r\n",
       "<path fill=\"#e58139\" stroke=\"black\" d=\"M276,-53C276,-53 197,-53 197,-53 191,-53 185,-47 185,-41 185,-41 185,-12 185,-12 185,-6 191,0 197,0 197,0 276,0 276,0 282,0 288,-6 288,-12 288,-12 288,-41 288,-41 288,-47 282,-53 276,-53\"/>\r\n",
       "<text text-anchor=\"start\" x=\"196\" y=\"-37.8\" font-family=\"Helvetica,sans-Serif\" font-size=\"14.00\">mse = 0.252</text>\r\n",
       "<text text-anchor=\"start\" x=\"193\" y=\"-22.8\" font-family=\"Helvetica,sans-Serif\" font-size=\"14.00\">samples = 83</text>\r\n",
       "<text text-anchor=\"start\" x=\"197.5\" y=\"-7.8\" font-family=\"Helvetica,sans-Serif\" font-size=\"14.00\">value = 6.74</text>\r\n",
       "</g>\r\n",
       "<!-- 2&#45;&gt;4 -->\r\n",
       "<g id=\"edge4\" class=\"edge\">\r\n",
       "<title>2:&#45;&gt;4:</title>\r\n",
       "<path fill=\"none\" stroke=\"black\" d=\"M197.49,-88.95C203.06,-80.17 209.09,-70.66 214.71,-61.82\"/>\r\n",
       "<polygon fill=\"black\" stroke=\"black\" points=\"217.75,-63.55 220.16,-53.24 211.84,-59.8 217.75,-63.55\"/>\r\n",
       "</g>\r\n",
       "</g>\r\n",
       "</svg>\r\n"
      ],
      "text/plain": [
       "<graphviz.files.Source at 0x2127abb7a00>"
      ]
     },
     "execution_count": 9,
     "metadata": {},
     "output_type": "execute_result"
    }
   ],
   "source": [
    "from sklearn import tree\n",
    "dot_data = tree.export_graphviz(regr, out_file=None,\n",
    "                      feature_names=['Years','Hits'],  \n",
    "                      filled=True, rounded=True,  \n",
    "                      special_characters=True)  \n",
    "graph = graphviz.Source(dot_data)  \n",
    "graph "
   ]
  },
  {
   "cell_type": "markdown",
   "metadata": {},
   "source": [
    "### Question\n",
    "1. What does mse, samples, value mean in the decision tree graph printed above?\n",
    "2. What are the predictors and response variable in this example?\n",
    "\n"
   ]
  },
  {
   "cell_type": "markdown",
   "metadata": {},
   "source": [
    "### Answer\n",
    "1. mse is used in the regression tree to decide at which node to branch  \n",
    "In the regression tree, the mse of each node will be compared, and the smallest mse will be selected for branching  \n",
    "sample is the number of remaining samples that meet the branch conditions after each branch  \n",
    "For example, in the branch of the first node, there are 90 players with a seniority of less than 4.5 years, and 173 players with a seniority of more than 4.5 years.  \n",
    "The value in each leaf is the mean of the response for the observations that fall there.  \n",
    "For example, in the branch of the first node, the average salary of players less than 4.5 years old is 5.107  \n",
    "2.years and hits are predictors  \n",
    "salary is response variable  "
   ]
  },
  {
   "cell_type": "code",
   "execution_count": 10,
   "metadata": {},
   "outputs": [
    {
     "data": {
      "image/png": "[encoded data removed]",
      "text/plain": [
       "<Figure size 504x432 with 1 Axes>"
      ]
     },
     "metadata": {},
     "output_type": "display_data"
    }
   ],
   "source": [
    "df.plot('Years', 'Hits', kind='scatter', color='orange', figsize=(7,6))\n",
    "plt.xlim(0,25)\n",
    "plt.ylim(ymin=-5)\n",
    "plt.xticks([1, 4.5, 24])\n",
    "plt.yticks([1, 117.5, 238])\n",
    "plt.vlines(4.5, ymin=-5, ymax=250)\n",
    "plt.hlines(117.5, xmin=4.5, xmax=25)\n",
    "plt.annotate('R1', xy=(2,117.5), fontsize='xx-large')\n",
    "plt.annotate('R2', xy=(11,60), fontsize='xx-large')\n",
    "plt.annotate('R3', xy=(11,170), fontsize='xx-large');"
   ]
  },
  {
   "cell_type": "code",
   "execution_count": 11,
   "metadata": {},
   "outputs": [
    {
     "data": {
      "text/plain": [
       "Text(0, 0.5, 'y')"
      ]
     },
     "execution_count": 11,
     "metadata": {},
     "output_type": "execute_result"
    },
    {
     "data": {
      "image/png": "[encoded data removed]",
      "text/plain": [
       "<Figure size 432x288 with 1 Axes>"
      ]
     },
     "metadata": {},
     "output_type": "display_data"
    }
   ],
   "source": [
    "pred = regr.predict(X)\n",
    "plt.scatter(pred, y, label='Sal')\n",
    "plt.plot([0, 1], [0, 1], '--k', transform=plt.gca().transAxes)#draws the dotted line\n",
    "plt.xlabel('pred')\n",
    "plt.ylabel('y')"
   ]
  },
  {
   "cell_type": "code",
   "execution_count": 13,
   "metadata": {},
   "outputs": [
    {
     "data": {
      "text/plain": [
       "0.3472621585610648"
      ]
     },
     "execution_count": 13,
     "metadata": {},
     "output_type": "execute_result"
    }
   ],
   "source": [
    "mean_squared_error(y, pred)"
   ]
  },
  {
   "cell_type": "code",
   "execution_count": 14,
   "metadata": {},
   "outputs": [
    {
     "name": "stdout",
     "output_type": "stream",
     "text": [
      "[402.77570648]\n"
     ]
    }
   ],
   "source": [
    "#check invidivual prediction, what are the values used as input and predicted?\n",
    "prd = regr.predict([[ 14,  81]])\n",
    "print(np.exp(prd))"
   ]
  },
  {
   "cell_type": "markdown",
   "metadata": {},
   "source": [
    "### Question\n",
    "1. For the above code, what are the values used as input?\n",
    "1. How accurate is the prediction? What is the actual value?\n",
    "1. Which player is that?\n",
    "1. What is the prediction value for play with 2 years experience and 120 hits?\n"
   ]
  },
  {
   "cell_type": "markdown",
   "metadata": {},
   "source": [
    "### Answer\n",
    "1. Using years=14 and hits=81 as the input  \n",
    "2. actual value=475.The difference between the predicted value and the actual value is 72.2243,Predicted values are not very accurate\n",
    "3. Alan Ashby  \n",
    "4. prediction value for play with 2 years experience and 120 hits is 165.1393406"
   ]
  },
  {
   "cell_type": "code",
   "execution_count": 29,
   "metadata": {},
   "outputs": [
    {
     "data": {
      "text/html": [
       "<div>\n",
       "<style scoped>\n",
       "    .dataframe tbody tr th:only-of-type {\n",
       "        vertical-align: middle;\n",
       "    }\n",
       "\n",
       "    .dataframe tbody tr th {\n",
       "        vertical-align: top;\n",
       "    }\n",
       "\n",
       "    .dataframe thead th {\n",
       "        text-align: right;\n",
       "    }\n",
       "</style>\n",
       "<table border=\"1\" class=\"dataframe\">\n",
       "  <thead>\n",
       "    <tr style=\"text-align: right;\">\n",
       "      <th></th>\n",
       "      <th>Unnamed: 0</th>\n",
       "      <th>AtBat</th>\n",
       "      <th>Hits</th>\n",
       "      <th>HmRun</th>\n",
       "      <th>Runs</th>\n",
       "      <th>RBI</th>\n",
       "      <th>Walks</th>\n",
       "      <th>Years</th>\n",
       "      <th>CAtBat</th>\n",
       "      <th>CHits</th>\n",
       "      <th>...</th>\n",
       "      <th>CRuns</th>\n",
       "      <th>CRBI</th>\n",
       "      <th>CWalks</th>\n",
       "      <th>League</th>\n",
       "      <th>Division</th>\n",
       "      <th>PutOuts</th>\n",
       "      <th>Assists</th>\n",
       "      <th>Errors</th>\n",
       "      <th>Salary</th>\n",
       "      <th>NewLeague</th>\n",
       "    </tr>\n",
       "  </thead>\n",
       "  <tbody>\n",
       "    <tr>\n",
       "      <th>1</th>\n",
       "      <td>-Alan Ashby</td>\n",
       "      <td>315</td>\n",
       "      <td>81</td>\n",
       "      <td>7</td>\n",
       "      <td>24</td>\n",
       "      <td>38</td>\n",
       "      <td>39</td>\n",
       "      <td>14</td>\n",
       "      <td>3449</td>\n",
       "      <td>835</td>\n",
       "      <td>...</td>\n",
       "      <td>321</td>\n",
       "      <td>414</td>\n",
       "      <td>375</td>\n",
       "      <td>N</td>\n",
       "      <td>W</td>\n",
       "      <td>632</td>\n",
       "      <td>43</td>\n",
       "      <td>10</td>\n",
       "      <td>475.0</td>\n",
       "      <td>N</td>\n",
       "    </tr>\n",
       "  </tbody>\n",
       "</table>\n",
       "<p>1 rows × 21 columns</p>\n",
       "</div>"
      ],
      "text/plain": [
       "    Unnamed: 0  AtBat  Hits  HmRun  Runs  RBI  Walks  Years  CAtBat  CHits  \\\n",
       "1  -Alan Ashby    315    81      7    24   38     39     14    3449    835   \n",
       "\n",
       "   ...  CRuns  CRBI  CWalks  League Division PutOuts  Assists  Errors  Salary  \\\n",
       "1  ...    321   414     375       N        W     632       43      10   475.0   \n",
       "\n",
       "   NewLeague  \n",
       "1          N  \n",
       "\n",
       "[1 rows x 21 columns]"
      ]
     },
     "execution_count": 29,
     "metadata": {},
     "output_type": "execute_result"
    }
   ],
   "source": [
    "df[:1]"
   ]
  },
  {
   "cell_type": "code",
   "execution_count": 30,
   "metadata": {},
   "outputs": [
    {
     "name": "stdout",
     "output_type": "stream",
     "text": [
      "[165.1393406]\n"
     ]
    }
   ],
   "source": [
    "prd1 = regr.predict([[2, 120]])\n",
    "print(np.exp(prd1))"
   ]
  },
  {
   "cell_type": "markdown",
   "metadata": {},
   "source": [
    "### Classification Tree "
   ]
  },
  {
   "cell_type": "code",
   "execution_count": 54,
   "metadata": {},
   "outputs": [
    {
     "name": "stdout",
     "output_type": "stream",
     "text": [
      "<class 'pandas.core.frame.DataFrame'>\n",
      "Int64Index: 297 entries, 0 to 301\n",
      "Data columns (total 14 columns):\n",
      " #   Column     Non-Null Count  Dtype  \n",
      "---  ------     --------------  -----  \n",
      " 0   Age        297 non-null    int64  \n",
      " 1   Sex        297 non-null    int64  \n",
      " 2   ChestPain  297 non-null    object \n",
      " 3   RestBP     297 non-null    int64  \n",
      " 4   Chol       297 non-null    int64  \n",
      " 5   Fbs        297 non-null    int64  \n",
      " 6   RestECG    297 non-null    int64  \n",
      " 7   MaxHR      297 non-null    int64  \n",
      " 8   ExAng      297 non-null    int64  \n",
      " 9   Oldpeak    297 non-null    float64\n",
      " 10  Slope      297 non-null    int64  \n",
      " 11  Ca         297 non-null    float64\n",
      " 12  Thal       297 non-null    object \n",
      " 13  AHD        297 non-null    object \n",
      "dtypes: float64(2), int64(9), object(3)\n",
      "memory usage: 34.8+ KB\n"
     ]
    }
   ],
   "source": [
    "df2 = pd.read_csv('Data/Heart.csv').drop('Unnamed: 0', axis=1).dropna()\n",
    "df2.info()"
   ]
  },
  {
   "cell_type": "code",
   "execution_count": 60,
   "metadata": {},
   "outputs": [
    {
     "data": {
      "text/html": [
       "<div>\n",
       "<style scoped>\n",
       "    .dataframe tbody tr th:only-of-type {\n",
       "        vertical-align: middle;\n",
       "    }\n",
       "\n",
       "    .dataframe tbody tr th {\n",
       "        vertical-align: top;\n",
       "    }\n",
       "\n",
       "    .dataframe thead th {\n",
       "        text-align: right;\n",
       "    }\n",
       "</style>\n",
       "<table border=\"1\" class=\"dataframe\">\n",
       "  <thead>\n",
       "    <tr style=\"text-align: right;\">\n",
       "      <th></th>\n",
       "      <th>Age</th>\n",
       "      <th>Sex</th>\n",
       "      <th>ChestPain</th>\n",
       "      <th>RestBP</th>\n",
       "      <th>Chol</th>\n",
       "      <th>Fbs</th>\n",
       "      <th>RestECG</th>\n",
       "      <th>MaxHR</th>\n",
       "      <th>ExAng</th>\n",
       "      <th>Oldpeak</th>\n",
       "      <th>Slope</th>\n",
       "      <th>Ca</th>\n",
       "      <th>Thal</th>\n",
       "    </tr>\n",
       "  </thead>\n",
       "  <tbody>\n",
       "    <tr>\n",
       "      <th>0</th>\n",
       "      <td>63</td>\n",
       "      <td>1</td>\n",
       "      <td>0</td>\n",
       "      <td>145</td>\n",
       "      <td>233</td>\n",
       "      <td>1</td>\n",
       "      <td>2</td>\n",
       "      <td>150</td>\n",
       "      <td>0</td>\n",
       "      <td>2.3</td>\n",
       "      <td>3</td>\n",
       "      <td>0.0</td>\n",
       "      <td>0</td>\n",
       "    </tr>\n",
       "    <tr>\n",
       "      <th>1</th>\n",
       "      <td>67</td>\n",
       "      <td>1</td>\n",
       "      <td>1</td>\n",
       "      <td>160</td>\n",
       "      <td>286</td>\n",
       "      <td>0</td>\n",
       "      <td>2</td>\n",
       "      <td>108</td>\n",
       "      <td>1</td>\n",
       "      <td>1.5</td>\n",
       "      <td>2</td>\n",
       "      <td>3.0</td>\n",
       "      <td>1</td>\n",
       "    </tr>\n",
       "    <tr>\n",
       "      <th>2</th>\n",
       "      <td>67</td>\n",
       "      <td>1</td>\n",
       "      <td>1</td>\n",
       "      <td>120</td>\n",
       "      <td>229</td>\n",
       "      <td>0</td>\n",
       "      <td>2</td>\n",
       "      <td>129</td>\n",
       "      <td>1</td>\n",
       "      <td>2.6</td>\n",
       "      <td>2</td>\n",
       "      <td>2.0</td>\n",
       "      <td>2</td>\n",
       "    </tr>\n",
       "    <tr>\n",
       "      <th>3</th>\n",
       "      <td>37</td>\n",
       "      <td>1</td>\n",
       "      <td>2</td>\n",
       "      <td>130</td>\n",
       "      <td>250</td>\n",
       "      <td>0</td>\n",
       "      <td>0</td>\n",
       "      <td>187</td>\n",
       "      <td>0</td>\n",
       "      <td>3.5</td>\n",
       "      <td>3</td>\n",
       "      <td>0.0</td>\n",
       "      <td>1</td>\n",
       "    </tr>\n",
       "    <tr>\n",
       "      <th>4</th>\n",
       "      <td>41</td>\n",
       "      <td>0</td>\n",
       "      <td>3</td>\n",
       "      <td>130</td>\n",
       "      <td>204</td>\n",
       "      <td>0</td>\n",
       "      <td>2</td>\n",
       "      <td>172</td>\n",
       "      <td>0</td>\n",
       "      <td>1.4</td>\n",
       "      <td>1</td>\n",
       "      <td>0.0</td>\n",
       "      <td>1</td>\n",
       "    </tr>\n",
       "  </tbody>\n",
       "</table>\n",
       "</div>"
      ],
      "text/plain": [
       "   Age  Sex  ChestPain  RestBP  Chol  Fbs  RestECG  MaxHR  ExAng  Oldpeak  \\\n",
       "0   63    1          0     145   233    1        2    150      0      2.3   \n",
       "1   67    1          1     160   286    0        2    108      1      1.5   \n",
       "2   67    1          1     120   229    0        2    129      1      2.6   \n",
       "3   37    1          2     130   250    0        0    187      0      3.5   \n",
       "4   41    0          3     130   204    0        2    172      0      1.4   \n",
       "\n",
       "   Slope   Ca  Thal  \n",
       "0      3  0.0     0  \n",
       "1      2  3.0     1  \n",
       "2      2  2.0     2  \n",
       "3      3  0.0     1  \n",
       "4      1  0.0     1  "
      ]
     },
     "execution_count": 60,
     "metadata": {},
     "output_type": "execute_result"
    }
   ],
   "source": [
    "df2.ChestPain = pd.factorize(df2.ChestPain)[0]\n",
    "df2.Thal = pd.factorize(df2.Thal)[0]\n",
    "X2 = df2.drop('AHD', axis=1)\n",
    "y2 = pd.factorize(df2.AHD)[0]\n",
    "X2.head()"
   ]
  },
  {
   "cell_type": "code",
   "execution_count": 61,
   "metadata": {},
   "outputs": [
    {
     "data": {
      "text/plain": [
       "0.7946127946127947"
      ]
     },
     "execution_count": 61,
     "metadata": {},
     "output_type": "execute_result"
    }
   ],
   "source": [
    "clf = DecisionTreeClassifier(max_depth=None, max_leaf_nodes=6, max_features=3)\n",
    "clf.fit(X2,y2)\n",
    "# score returns the accuracy of the prediction: the percentage of correct\n",
    "# classifications if it's a two-class classification problem\n",
    "clf.score(X2,y2)"
   ]
  },
  {
   "cell_type": "code",
   "execution_count": 62,
   "metadata": {},
   "outputs": [
    {
     "name": "stdout",
     "output_type": "stream",
     "text": [
      "              precision    recall  f1-score   support\n",
      "\n",
      "           0       0.78      0.87      0.82       160\n",
      "           1       0.82      0.71      0.76       137\n",
      "\n",
      "    accuracy                           0.79       297\n",
      "   macro avg       0.80      0.79      0.79       297\n",
      "weighted avg       0.80      0.79      0.79       297\n",
      "\n"
     ]
    }
   ],
   "source": [
    "#print the classification report of the training data (in this case)\n",
    "y2pred=clf.predict(X2)\n",
    "print(classification_report(y2, y2pred))"
   ]
  },
  {
   "cell_type": "code",
   "execution_count": 63,
   "metadata": {},
   "outputs": [
    {
     "data": {
      "text/html": [
       "<div>\n",
       "<style scoped>\n",
       "    .dataframe tbody tr th:only-of-type {\n",
       "        vertical-align: middle;\n",
       "    }\n",
       "\n",
       "    .dataframe tbody tr th {\n",
       "        vertical-align: top;\n",
       "    }\n",
       "\n",
       "    .dataframe thead th {\n",
       "        text-align: right;\n",
       "    }\n",
       "</style>\n",
       "<table border=\"1\" class=\"dataframe\">\n",
       "  <thead>\n",
       "    <tr style=\"text-align: right;\">\n",
       "      <th>True</th>\n",
       "      <th>No</th>\n",
       "      <th>Yes</th>\n",
       "    </tr>\n",
       "    <tr>\n",
       "      <th>Predicted</th>\n",
       "      <th></th>\n",
       "      <th></th>\n",
       "    </tr>\n",
       "  </thead>\n",
       "  <tbody>\n",
       "    <tr>\n",
       "      <th>No</th>\n",
       "      <td>139</td>\n",
       "      <td>40</td>\n",
       "    </tr>\n",
       "    <tr>\n",
       "      <th>Yes</th>\n",
       "      <td>21</td>\n",
       "      <td>97</td>\n",
       "    </tr>\n",
       "  </tbody>\n",
       "</table>\n",
       "</div>"
      ],
      "text/plain": [
       "True        No  Yes\n",
       "Predicted          \n",
       "No         139   40\n",
       "Yes         21   97"
      ]
     },
     "execution_count": 63,
     "metadata": {},
     "output_type": "execute_result"
    }
   ],
   "source": [
    "#print(confusion_matrix(y2, y2pred))\n",
    "#fancy way below\n",
    "cm = pd.DataFrame(confusion_matrix(y2, y2pred).T, index=['No', 'Yes'], columns=['No', 'Yes'])\n",
    "cm.index.name = 'Predicted'\n",
    "cm.columns.name = 'True'\n",
    "cm"
   ]
  },
  {
   "cell_type": "markdown",
   "metadata": {},
   "source": [
    "### Graph Classification tree"
   ]
  },
  {
   "cell_type": "code",
   "execution_count": 64,
   "metadata": {},
   "outputs": [
    {
     "data": {
      "image/svg+xml": [
       "<?xml version=\"1.0\" encoding=\"UTF-8\" standalone=\"no\"?>\r\n",
       "<!DOCTYPE svg PUBLIC \"-//W3C//DTD SVG 1.1//EN\"\r\n",
       " \"http://www.w3.org/Graphics/SVG/1.1/DTD/svg11.dtd\">\r\n",
       "<!-- Generated by graphviz version 2.44.2~dev.20201112.1525 (20201112.1525)\r\n",
       " -->\r\n",
       "<!-- Title: Tree Pages: 1 -->\r\n",
       "<svg width=\"634pt\" height=\"461pt\"\r\n",
       " viewBox=\"0.00 0.00 634.00 461.00\" xmlns=\"http://www.w3.org/2000/svg\" xmlns:xlink=\"http://www.w3.org/1999/xlink\">\r\n",
       "<g id=\"graph0\" class=\"graph\" transform=\"scale(1 1) rotate(0) translate(4 457)\">\r\n",
       "<title>Tree</title>\r\n",
       "<polygon fill=\"white\" stroke=\"transparent\" points=\"-4,4 -4,-457 630,-457 630,4 -4,4\"/>\r\n",
       "<!-- 0 -->\r\n",
       "<g id=\"node1\" class=\"node\">\r\n",
       "<title>0</title>\r\n",
       "<path fill=\"#fbede3\" stroke=\"black\" d=\"M423.5,-453C423.5,-453 317.5,-453 317.5,-453 311.5,-453 305.5,-447 305.5,-441 305.5,-441 305.5,-401 305.5,-401 305.5,-395 311.5,-389 317.5,-389 317.5,-389 423.5,-389 423.5,-389 429.5,-389 435.5,-395 435.5,-401 435.5,-401 435.5,-441 435.5,-441 435.5,-447 429.5,-453 423.5,-453\"/>\r\n",
       "<text text-anchor=\"start\" x=\"344\" y=\"-438.8\" font-family=\"Helvetica,sans-Serif\" font-size=\"14.00\">X</text>\r\n",
       "<text text-anchor=\"start\" x=\"354\" y=\"-438.8\" font-family=\"Helvetica,sans-Serif\" baseline-shift=\"sub\" font-size=\"14.00\">2</text>\r\n",
       "<text text-anchor=\"start\" x=\"361\" y=\"-438.8\" font-family=\"Helvetica,sans-Serif\" font-size=\"14.00\"> ≤ 1.5</text>\r\n",
       "<text text-anchor=\"start\" x=\"333\" y=\"-424.8\" font-family=\"Helvetica,sans-Serif\" font-size=\"14.00\">gini = 0.497</text>\r\n",
       "<text text-anchor=\"start\" x=\"323\" y=\"-410.8\" font-family=\"Helvetica,sans-Serif\" font-size=\"14.00\">samples = 297</text>\r\n",
       "<text text-anchor=\"start\" x=\"313.5\" y=\"-396.8\" font-family=\"Helvetica,sans-Serif\" font-size=\"14.00\">value = [160, 137]</text>\r\n",
       "</g>\r\n",
       "<!-- 1 -->\r\n",
       "<g id=\"node2\" class=\"node\">\r\n",
       "<title>1</title>\r\n",
       "<path fill=\"#9ccef2\" stroke=\"black\" d=\"M349.5,-353C349.5,-353 251.5,-353 251.5,-353 245.5,-353 239.5,-347 239.5,-341 239.5,-341 239.5,-301 239.5,-301 239.5,-295 245.5,-289 251.5,-289 251.5,-289 349.5,-289 349.5,-289 355.5,-289 361.5,-295 361.5,-301 361.5,-301 361.5,-341 361.5,-341 361.5,-347 355.5,-353 349.5,-353\"/>\r\n",
       "<text text-anchor=\"start\" x=\"274\" y=\"-338.8\" font-family=\"Helvetica,sans-Serif\" font-size=\"14.00\">X</text>\r\n",
       "<text text-anchor=\"start\" x=\"284\" y=\"-338.8\" font-family=\"Helvetica,sans-Serif\" baseline-shift=\"sub\" font-size=\"14.00\">8</text>\r\n",
       "<text text-anchor=\"start\" x=\"291\" y=\"-338.8\" font-family=\"Helvetica,sans-Serif\" font-size=\"14.00\"> ≤ 0.5</text>\r\n",
       "<text text-anchor=\"start\" x=\"263\" y=\"-324.8\" font-family=\"Helvetica,sans-Serif\" font-size=\"14.00\">gini = 0.444</text>\r\n",
       "<text text-anchor=\"start\" x=\"253\" y=\"-310.8\" font-family=\"Helvetica,sans-Serif\" font-size=\"14.00\">samples = 165</text>\r\n",
       "<text text-anchor=\"start\" x=\"247.5\" y=\"-296.8\" font-family=\"Helvetica,sans-Serif\" font-size=\"14.00\">value = [55, 110]</text>\r\n",
       "</g>\r\n",
       "<!-- 0&#45;&gt;1 -->\r\n",
       "<g id=\"edge1\" class=\"edge\">\r\n",
       "<title>0:&#45;&gt;1:</title>\r\n",
       "<path fill=\"none\" stroke=\"black\" d=\"M348.35,-388.99C342.1,-380.23 335.2,-370.58 328.65,-361.4\"/>\r\n",
       "<polygon fill=\"black\" stroke=\"black\" points=\"331.41,-359.25 322.74,-353.14 325.71,-363.31 331.41,-359.25\"/>\r\n",
       "<text text-anchor=\"middle\" x=\"318.63\" y=\"-374.1\" font-family=\"Helvetica,sans-Serif\" font-size=\"14.00\">True</text>\r\n",
       "</g>\r\n",
       "<!-- 2 -->\r\n",
       "<g id=\"node9\" class=\"node\">\r\n",
       "<title>2</title>\r\n",
       "<path fill=\"#eca16c\" stroke=\"black\" d=\"M489.5,-353C489.5,-353 391.5,-353 391.5,-353 385.5,-353 379.5,-347 379.5,-341 379.5,-341 379.5,-301 379.5,-301 379.5,-295 385.5,-289 391.5,-289 391.5,-289 489.5,-289 489.5,-289 495.5,-289 501.5,-295 501.5,-301 501.5,-301 501.5,-341 501.5,-341 501.5,-347 495.5,-353 489.5,-353\"/>\r\n",
       "<text text-anchor=\"start\" x=\"410.5\" y=\"-338.8\" font-family=\"Helvetica,sans-Serif\" font-size=\"14.00\">X</text>\r\n",
       "<text text-anchor=\"start\" x=\"420.5\" y=\"-338.8\" font-family=\"Helvetica,sans-Serif\" baseline-shift=\"sub\" font-size=\"14.00\">12</text>\r\n",
       "<text text-anchor=\"start\" x=\"434.5\" y=\"-338.8\" font-family=\"Helvetica,sans-Serif\" font-size=\"14.00\"> ≤ 1.5</text>\r\n",
       "<text text-anchor=\"start\" x=\"403\" y=\"-324.8\" font-family=\"Helvetica,sans-Serif\" font-size=\"14.00\">gini = 0.325</text>\r\n",
       "<text text-anchor=\"start\" x=\"393\" y=\"-310.8\" font-family=\"Helvetica,sans-Serif\" font-size=\"14.00\">samples = 132</text>\r\n",
       "<text text-anchor=\"start\" x=\"387.5\" y=\"-296.8\" font-family=\"Helvetica,sans-Serif\" font-size=\"14.00\">value = [105, 27]</text>\r\n",
       "</g>\r\n",
       "<!-- 0&#45;&gt;2 -->\r\n",
       "<g id=\"edge8\" class=\"edge\">\r\n",
       "<title>0:&#45;&gt;2:</title>\r\n",
       "<path fill=\"none\" stroke=\"black\" d=\"M392.65,-388.99C398.9,-380.23 405.8,-370.58 412.35,-361.4\"/>\r\n",
       "<polygon fill=\"black\" stroke=\"black\" points=\"415.29,-363.31 418.26,-353.14 409.59,-359.25 415.29,-363.31\"/>\r\n",
       "<text text-anchor=\"middle\" x=\"422.37\" y=\"-374.1\" font-family=\"Helvetica,sans-Serif\" font-size=\"14.00\">False</text>\r\n",
       "</g>\r\n",
       "<!-- 3 -->\r\n",
       "<g id=\"node3\" class=\"node\">\r\n",
       "<title>3</title>\r\n",
       "<path fill=\"#fefcfa\" stroke=\"black\" d=\"M217,-253C217,-253 128,-253 128,-253 122,-253 116,-247 116,-241 116,-241 116,-201 116,-201 116,-195 122,-189 128,-189 128,-189 217,-189 217,-189 223,-189 229,-195 229,-201 229,-201 229,-241 229,-241 229,-247 223,-253 217,-253\"/>\r\n",
       "<text text-anchor=\"start\" x=\"142.5\" y=\"-238.8\" font-family=\"Helvetica,sans-Serif\" font-size=\"14.00\">X</text>\r\n",
       "<text text-anchor=\"start\" x=\"152.5\" y=\"-238.8\" font-family=\"Helvetica,sans-Serif\" baseline-shift=\"sub\" font-size=\"14.00\">12</text>\r\n",
       "<text text-anchor=\"start\" x=\"166.5\" y=\"-238.8\" font-family=\"Helvetica,sans-Serif\" font-size=\"14.00\"> ≤ 1.5</text>\r\n",
       "<text text-anchor=\"start\" x=\"143.5\" y=\"-224.8\" font-family=\"Helvetica,sans-Serif\" font-size=\"14.00\">gini = 0.5</text>\r\n",
       "<text text-anchor=\"start\" x=\"129\" y=\"-210.8\" font-family=\"Helvetica,sans-Serif\" font-size=\"14.00\">samples = 83</text>\r\n",
       "<text text-anchor=\"start\" x=\"124\" y=\"-196.8\" font-family=\"Helvetica,sans-Serif\" font-size=\"14.00\">value = [42, 41]</text>\r\n",
       "</g>\r\n",
       "<!-- 1&#45;&gt;3 -->\r\n",
       "<g id=\"edge2\" class=\"edge\">\r\n",
       "<title>1:&#45;&gt;3:</title>\r\n",
       "<path fill=\"none\" stroke=\"black\" d=\"M260,-288.99C247.74,-279.61 234.15,-269.2 221.41,-259.44\"/>\r\n",
       "<polygon fill=\"black\" stroke=\"black\" points=\"223.24,-256.44 213.18,-253.14 218.99,-262 223.24,-256.44\"/>\r\n",
       "</g>\r\n",
       "<!-- 4 -->\r\n",
       "<g id=\"node8\" class=\"node\">\r\n",
       "<title>4</title>\r\n",
       "<path fill=\"#5eafea\" stroke=\"black\" d=\"M348,-247.5C348,-247.5 259,-247.5 259,-247.5 253,-247.5 247,-241.5 247,-235.5 247,-235.5 247,-206.5 247,-206.5 247,-200.5 253,-194.5 259,-194.5 259,-194.5 348,-194.5 348,-194.5 354,-194.5 360,-200.5 360,-206.5 360,-206.5 360,-235.5 360,-235.5 360,-241.5 354,-247.5 348,-247.5\"/>\r\n",
       "<text text-anchor=\"start\" x=\"266\" y=\"-232.3\" font-family=\"Helvetica,sans-Serif\" font-size=\"14.00\">gini = 0.267</text>\r\n",
       "<text text-anchor=\"start\" x=\"260\" y=\"-217.3\" font-family=\"Helvetica,sans-Serif\" font-size=\"14.00\">samples = 82</text>\r\n",
       "<text text-anchor=\"start\" x=\"255\" y=\"-202.3\" font-family=\"Helvetica,sans-Serif\" font-size=\"14.00\">value = [13, 69]</text>\r\n",
       "</g>\r\n",
       "<!-- 1&#45;&gt;4 -->\r\n",
       "<g id=\"edge7\" class=\"edge\">\r\n",
       "<title>1:&#45;&gt;4:</title>\r\n",
       "<path fill=\"none\" stroke=\"black\" d=\"M301.45,-288.99C301.75,-279.09 302.09,-268.04 302.4,-257.82\"/>\r\n",
       "<polygon fill=\"black\" stroke=\"black\" points=\"305.91,-257.66 302.72,-247.56 298.91,-257.44 305.91,-257.66\"/>\r\n",
       "</g>\r\n",
       "<!-- 5 -->\r\n",
       "<g id=\"node4\" class=\"node\">\r\n",
       "<title>5</title>\r\n",
       "<path fill=\"#f2c09c\" stroke=\"black\" d=\"M154,-153C154,-153 65,-153 65,-153 59,-153 53,-147 53,-141 53,-141 53,-101 53,-101 53,-95 59,-89 65,-89 65,-89 154,-89 154,-89 160,-89 166,-95 166,-101 166,-101 166,-141 166,-141 166,-147 160,-153 154,-153\"/>\r\n",
       "<text text-anchor=\"start\" x=\"75\" y=\"-138.8\" font-family=\"Helvetica,sans-Serif\" font-size=\"14.00\">X</text>\r\n",
       "<text text-anchor=\"start\" x=\"85\" y=\"-138.8\" font-family=\"Helvetica,sans-Serif\" baseline-shift=\"sub\" font-size=\"14.00\">7</text>\r\n",
       "<text text-anchor=\"start\" x=\"92\" y=\"-138.8\" font-family=\"Helvetica,sans-Serif\" font-size=\"14.00\"> ≤ 111.5</text>\r\n",
       "<text text-anchor=\"start\" x=\"72\" y=\"-124.8\" font-family=\"Helvetica,sans-Serif\" font-size=\"14.00\">gini = 0.444</text>\r\n",
       "<text text-anchor=\"start\" x=\"66\" y=\"-110.8\" font-family=\"Helvetica,sans-Serif\" font-size=\"14.00\">samples = 51</text>\r\n",
       "<text text-anchor=\"start\" x=\"61\" y=\"-96.8\" font-family=\"Helvetica,sans-Serif\" font-size=\"14.00\">value = [34, 17]</text>\r\n",
       "</g>\r\n",
       "<!-- 3&#45;&gt;5 -->\r\n",
       "<g id=\"edge3\" class=\"edge\">\r\n",
       "<title>3:&#45;&gt;5:</title>\r\n",
       "<path fill=\"none\" stroke=\"black\" d=\"M152.57,-188.99C146.99,-180.32 140.86,-170.78 135.01,-161.68\"/>\r\n",
       "<polygon fill=\"black\" stroke=\"black\" points=\"137.87,-159.66 129.52,-153.14 131.98,-163.45 137.87,-159.66\"/>\r\n",
       "</g>\r\n",
       "<!-- 6 -->\r\n",
       "<g id=\"node7\" class=\"node\">\r\n",
       "<title>6</title>\r\n",
       "<path fill=\"#7bbeee\" stroke=\"black\" d=\"M277,-147.5C277,-147.5 196,-147.5 196,-147.5 190,-147.5 184,-141.5 184,-135.5 184,-135.5 184,-106.5 184,-106.5 184,-100.5 190,-94.5 196,-94.5 196,-94.5 277,-94.5 277,-94.5 283,-94.5 289,-100.5 289,-106.5 289,-106.5 289,-135.5 289,-135.5 289,-141.5 283,-147.5 277,-147.5\"/>\r\n",
       "<text text-anchor=\"start\" x=\"199\" y=\"-132.3\" font-family=\"Helvetica,sans-Serif\" font-size=\"14.00\">gini = 0.375</text>\r\n",
       "<text text-anchor=\"start\" x=\"193\" y=\"-117.3\" font-family=\"Helvetica,sans-Serif\" font-size=\"14.00\">samples = 32</text>\r\n",
       "<text text-anchor=\"start\" x=\"192\" y=\"-102.3\" font-family=\"Helvetica,sans-Serif\" font-size=\"14.00\">value = [8, 24]</text>\r\n",
       "</g>\r\n",
       "<!-- 3&#45;&gt;6 -->\r\n",
       "<g id=\"edge6\" class=\"edge\">\r\n",
       "<title>3:&#45;&gt;6:</title>\r\n",
       "<path fill=\"none\" stroke=\"black\" d=\"M192.75,-188.99C199.56,-178.57 207.19,-166.88 214.15,-156.22\"/>\r\n",
       "<polygon fill=\"black\" stroke=\"black\" points=\"217.27,-157.84 219.81,-147.56 211.41,-154.02 217.27,-157.84\"/>\r\n",
       "</g>\r\n",
       "<!-- 9 -->\r\n",
       "<g id=\"node5\" class=\"node\">\r\n",
       "<title>9</title>\r\n",
       "<path fill=\"#399de5\" stroke=\"black\" d=\"M85,-53C85,-53 12,-53 12,-53 6,-53 0,-47 0,-41 0,-41 0,-12 0,-12 0,-6 6,0 12,0 12,0 85,0 85,0 91,0 97,-6 97,-12 97,-12 97,-41 97,-41 97,-47 91,-53 85,-53\"/>\r\n",
       "<text text-anchor=\"start\" x=\"19.5\" y=\"-37.8\" font-family=\"Helvetica,sans-Serif\" font-size=\"14.00\">gini = 0.0</text>\r\n",
       "<text text-anchor=\"start\" x=\"9\" y=\"-22.8\" font-family=\"Helvetica,sans-Serif\" font-size=\"14.00\">samples = 4</text>\r\n",
       "<text text-anchor=\"start\" x=\"8\" y=\"-7.8\" font-family=\"Helvetica,sans-Serif\" font-size=\"14.00\">value = [0, 4]</text>\r\n",
       "</g>\r\n",
       "<!-- 5&#45;&gt;9 -->\r\n",
       "<g id=\"edge4\" class=\"edge\">\r\n",
       "<title>5:&#45;&gt;9:</title>\r\n",
       "<path fill=\"none\" stroke=\"black\" d=\"M89.02,-88.94C83.2,-80.11 76.82,-70.45 70.89,-61.46\"/>\r\n",
       "<polygon fill=\"black\" stroke=\"black\" points=\"73.8,-59.51 65.38,-53.09 67.96,-63.37 73.8,-59.51\"/>\r\n",
       "</g>\r\n",
       "<!-- 10 -->\r\n",
       "<g id=\"node6\" class=\"node\">\r\n",
       "<title>10</title>\r\n",
       "<path fill=\"#efb185\" stroke=\"black\" d=\"M216,-53C216,-53 127,-53 127,-53 121,-53 115,-47 115,-41 115,-41 115,-12 115,-12 115,-6 121,0 127,0 127,0 216,0 216,0 222,0 228,-6 228,-12 228,-12 228,-41 228,-41 228,-47 222,-53 216,-53\"/>\r\n",
       "<text text-anchor=\"start\" x=\"142.5\" y=\"-37.8\" font-family=\"Helvetica,sans-Serif\" font-size=\"14.00\">gini = 0.4</text>\r\n",
       "<text text-anchor=\"start\" x=\"128\" y=\"-22.8\" font-family=\"Helvetica,sans-Serif\" font-size=\"14.00\">samples = 47</text>\r\n",
       "<text text-anchor=\"start\" x=\"123\" y=\"-7.8\" font-family=\"Helvetica,sans-Serif\" font-size=\"14.00\">value = [34, 13]</text>\r\n",
       "</g>\r\n",
       "<!-- 5&#45;&gt;10 -->\r\n",
       "<g id=\"edge5\" class=\"edge\">\r\n",
       "<title>5:&#45;&gt;10:</title>\r\n",
       "<path fill=\"none\" stroke=\"black\" d=\"M130.32,-88.94C136.24,-80.11 142.71,-70.45 148.74,-61.46\"/>\r\n",
       "<polygon fill=\"black\" stroke=\"black\" points=\"151.69,-63.35 154.35,-53.09 145.87,-59.45 151.69,-63.35\"/>\r\n",
       "</g>\r\n",
       "<!-- 7 -->\r\n",
       "<g id=\"node10\" class=\"node\">\r\n",
       "<title>7</title>\r\n",
       "<path fill=\"#e89253\" stroke=\"black\" d=\"M483,-247.5C483,-247.5 394,-247.5 394,-247.5 388,-247.5 382,-241.5 382,-235.5 382,-235.5 382,-206.5 382,-206.5 382,-200.5 388,-194.5 394,-194.5 394,-194.5 483,-194.5 483,-194.5 489,-194.5 495,-200.5 495,-206.5 495,-206.5 495,-235.5 495,-235.5 495,-241.5 489,-247.5 483,-247.5\"/>\r\n",
       "<text text-anchor=\"start\" x=\"401\" y=\"-232.3\" font-family=\"Helvetica,sans-Serif\" font-size=\"14.00\">gini = 0.208</text>\r\n",
       "<text text-anchor=\"start\" x=\"391\" y=\"-217.3\" font-family=\"Helvetica,sans-Serif\" font-size=\"14.00\">samples = 102</text>\r\n",
       "<text text-anchor=\"start\" x=\"390\" y=\"-202.3\" font-family=\"Helvetica,sans-Serif\" font-size=\"14.00\">value = [90, 12]</text>\r\n",
       "</g>\r\n",
       "<!-- 2&#45;&gt;7 -->\r\n",
       "<g id=\"edge9\" class=\"edge\">\r\n",
       "<title>2:&#45;&gt;7:</title>\r\n",
       "<path fill=\"none\" stroke=\"black\" d=\"M439.87,-288.99C439.67,-279.09 439.44,-268.04 439.23,-257.82\"/>\r\n",
       "<polygon fill=\"black\" stroke=\"black\" points=\"442.72,-257.48 439.02,-247.56 435.73,-257.63 442.72,-257.48\"/>\r\n",
       "</g>\r\n",
       "<!-- 8 -->\r\n",
       "<g id=\"node11\" class=\"node\">\r\n",
       "<title>8</title>\r\n",
       "<path fill=\"#ffffff\" stroke=\"black\" d=\"M614,-247.5C614,-247.5 525,-247.5 525,-247.5 519,-247.5 513,-241.5 513,-235.5 513,-235.5 513,-206.5 513,-206.5 513,-200.5 519,-194.5 525,-194.5 525,-194.5 614,-194.5 614,-194.5 620,-194.5 626,-200.5 626,-206.5 626,-206.5 626,-235.5 626,-235.5 626,-241.5 620,-247.5 614,-247.5\"/>\r\n",
       "<text text-anchor=\"start\" x=\"540.5\" y=\"-232.3\" font-family=\"Helvetica,sans-Serif\" font-size=\"14.00\">gini = 0.5</text>\r\n",
       "<text text-anchor=\"start\" x=\"526\" y=\"-217.3\" font-family=\"Helvetica,sans-Serif\" font-size=\"14.00\">samples = 30</text>\r\n",
       "<text text-anchor=\"start\" x=\"521\" y=\"-202.3\" font-family=\"Helvetica,sans-Serif\" font-size=\"14.00\">value = [15, 15]</text>\r\n",
       "</g>\r\n",
       "<!-- 2&#45;&gt;8 -->\r\n",
       "<g id=\"edge10\" class=\"edge\">\r\n",
       "<title>2:&#45;&gt;8:</title>\r\n",
       "<path fill=\"none\" stroke=\"black\" d=\"M481.32,-288.99C496.14,-277.73 512.9,-265 527.8,-253.68\"/>\r\n",
       "<polygon fill=\"black\" stroke=\"black\" points=\"530.01,-256.39 535.86,-247.56 525.78,-250.82 530.01,-256.39\"/>\r\n",
       "</g>\r\n",
       "</g>\r\n",
       "</svg>\r\n"
      ],
      "text/plain": [
       "<graphviz.files.Source at 0x2127af9d130>"
      ]
     },
     "execution_count": 64,
     "metadata": {},
     "output_type": "execute_result"
    }
   ],
   "source": [
    "#requires Graphviz\n",
    "from sklearn import tree\n",
    "dot_data = tree.export_graphviz(clf, out_file=None,\n",
    "                      filled=True, rounded=True,  \n",
    "                      special_characters=True)  \n",
    "graph = graphviz.Source(dot_data)  \n",
    "graph "
   ]
  },
  {
   "cell_type": "markdown",
   "metadata": {},
   "source": [
    "### Question\n",
    "1. What does samples, value, class means in the decision tree graph printed above?\n",
    "2. What are the predictors and response variable in this example?"
   ]
  },
  {
   "cell_type": "markdown",
   "metadata": {},
   "source": [
    "### Answer\n",
    "1. sample is the number of remaining samples that meet the branch conditions after each branch  \n",
    "For example, in the branch of the first node, there are 165 observation with ChestPain less than 1.5, and 158 observation with ChestPain more than 1.5.  \n",
    "value represents the number of samples belonging to each category of the node\n",
    "For example, in the branch of the first node,the sample contains 137 no and 160 yes.  \n",
    "\n",
    "\n",
    "2. Age,Sex,ChestPain,RestBP,Chol,Fbs,RestECG,MaxHR,ExAng,Oldpeak,Slope,Ca,hal are predictors.  \n",
    "  AHD is response variable"
   ]
  },
  {
   "cell_type": "markdown",
   "metadata": {},
   "source": [
    "## Question\n",
    "Create a decision tree regressor for the data Carseats.csv, the data consist of  simulated data set containing sales of child car seats at 400 different stores. You may have to clean up the data abit, and map the 'Yes','No' into 0 and 1. You can use this command, for example:\n",
    "```\n",
    "df.Urban = df3.Urban.map({'No':0, 'Yes':1})\n",
    "```\n",
    "\n",
    "Separate the data into training and test. You also need to factorize ShelveLoc. \n",
    "1. Print out the MSE value for both training and test dataset. \n",
    "1. Print out the regression decision tree graph. \n",
    "1. Print out also the scatter plot of Y and Predicted Y.\n"
   ]
  },
  {
   "cell_type": "code",
   "execution_count": 69,
   "metadata": {},
   "outputs": [
    {
     "data": {
      "text/html": [
       "<div>\n",
       "<style scoped>\n",
       "    .dataframe tbody tr th:only-of-type {\n",
       "        vertical-align: middle;\n",
       "    }\n",
       "\n",
       "    .dataframe tbody tr th {\n",
       "        vertical-align: top;\n",
       "    }\n",
       "\n",
       "    .dataframe thead th {\n",
       "        text-align: right;\n",
       "    }\n",
       "</style>\n",
       "<table border=\"1\" class=\"dataframe\">\n",
       "  <thead>\n",
       "    <tr style=\"text-align: right;\">\n",
       "      <th></th>\n",
       "      <th>Sales</th>\n",
       "      <th>CompPrice</th>\n",
       "      <th>Income</th>\n",
       "      <th>Advertising</th>\n",
       "      <th>Population</th>\n",
       "      <th>Price</th>\n",
       "      <th>ShelveLoc</th>\n",
       "      <th>Age</th>\n",
       "      <th>Education</th>\n",
       "      <th>Urban</th>\n",
       "      <th>US</th>\n",
       "    </tr>\n",
       "  </thead>\n",
       "  <tbody>\n",
       "    <tr>\n",
       "      <th>0</th>\n",
       "      <td>9.50</td>\n",
       "      <td>138</td>\n",
       "      <td>73</td>\n",
       "      <td>11</td>\n",
       "      <td>276</td>\n",
       "      <td>120</td>\n",
       "      <td>0</td>\n",
       "      <td>42</td>\n",
       "      <td>17</td>\n",
       "      <td>1</td>\n",
       "      <td>1</td>\n",
       "    </tr>\n",
       "    <tr>\n",
       "      <th>1</th>\n",
       "      <td>11.22</td>\n",
       "      <td>111</td>\n",
       "      <td>48</td>\n",
       "      <td>16</td>\n",
       "      <td>260</td>\n",
       "      <td>83</td>\n",
       "      <td>1</td>\n",
       "      <td>65</td>\n",
       "      <td>10</td>\n",
       "      <td>1</td>\n",
       "      <td>1</td>\n",
       "    </tr>\n",
       "    <tr>\n",
       "      <th>2</th>\n",
       "      <td>10.06</td>\n",
       "      <td>113</td>\n",
       "      <td>35</td>\n",
       "      <td>10</td>\n",
       "      <td>269</td>\n",
       "      <td>80</td>\n",
       "      <td>2</td>\n",
       "      <td>59</td>\n",
       "      <td>12</td>\n",
       "      <td>1</td>\n",
       "      <td>1</td>\n",
       "    </tr>\n",
       "    <tr>\n",
       "      <th>3</th>\n",
       "      <td>7.40</td>\n",
       "      <td>117</td>\n",
       "      <td>100</td>\n",
       "      <td>4</td>\n",
       "      <td>466</td>\n",
       "      <td>97</td>\n",
       "      <td>2</td>\n",
       "      <td>55</td>\n",
       "      <td>14</td>\n",
       "      <td>1</td>\n",
       "      <td>1</td>\n",
       "    </tr>\n",
       "    <tr>\n",
       "      <th>4</th>\n",
       "      <td>4.15</td>\n",
       "      <td>141</td>\n",
       "      <td>64</td>\n",
       "      <td>3</td>\n",
       "      <td>340</td>\n",
       "      <td>128</td>\n",
       "      <td>0</td>\n",
       "      <td>38</td>\n",
       "      <td>13</td>\n",
       "      <td>1</td>\n",
       "      <td>0</td>\n",
       "    </tr>\n",
       "  </tbody>\n",
       "</table>\n",
       "</div>"
      ],
      "text/plain": [
       "   Sales  CompPrice  Income  Advertising  Population  Price  ShelveLoc  Age  \\\n",
       "0   9.50        138      73           11         276    120          0   42   \n",
       "1  11.22        111      48           16         260     83          1   65   \n",
       "2  10.06        113      35           10         269     80          2   59   \n",
       "3   7.40        117     100            4         466     97          2   55   \n",
       "4   4.15        141      64            3         340    128          0   38   \n",
       "\n",
       "   Education  Urban  US  \n",
       "0         17      1   1  \n",
       "1         10      1   1  \n",
       "2         12      1   1  \n",
       "3         14      1   1  \n",
       "4         13      1   0  "
      ]
     },
     "execution_count": 69,
     "metadata": {},
     "output_type": "execute_result"
    }
   ],
   "source": [
    "df3 = pd.read_csv('Data/Carseats.csv').drop('Unnamed: 0', axis=1).dropna()\n",
    "df3.Urban = df3.Urban.map({'No':0, 'Yes':1})\n",
    "df3.US = df3.US.map({'No':0, 'Yes':1})\n",
    "df3.ShelveLoc = pd.factorize(df3.ShelveLoc)[0]\n",
    "df3.head()"
   ]
  },
  {
   "cell_type": "code",
   "execution_count": 70,
   "metadata": {},
   "outputs": [],
   "source": [
    "from sklearn.model_selection import train_test_split\n",
    "X = df3.drop('Sales', axis=1).to_numpy()\n",
    "y = df3.Sales.to_numpy()\n",
    "\n",
    "X_train, X_test, y_train, y_test = train_test_split(X, y, test_size=0.2, random_state=42)"
   ]
  },
  {
   "cell_type": "code",
   "execution_count": 88,
   "metadata": {},
   "outputs": [
    {
     "data": {
      "text/plain": [
       "DecisionTreeRegressor(max_leaf_nodes=6)"
      ]
     },
     "execution_count": 88,
     "metadata": {},
     "output_type": "execute_result"
    }
   ],
   "source": [
    "regr = DecisionTreeRegressor(max_leaf_nodes=6)\n",
    "regr.fit(X_train,y_train)"
   ]
  },
  {
   "cell_type": "code",
   "execution_count": 89,
   "metadata": {},
   "outputs": [
    {
     "name": "stdout",
     "output_type": "stream",
     "text": [
      "training set mse = 4.142629600720028\n",
      "testing set mse = 5.673256413288935\n"
     ]
    }
   ],
   "source": [
    "#Q1\n",
    "train_pred = regr.predict(X_train)\n",
    "test_pred = regr.predict(X_test)\n",
    "\n",
    "print('training set mse =', mean_squared_error(y_train, train_pred))\n",
    "print('testing set mse =', mean_squared_error(y_test, test_pred))"
   ]
  },
  {
   "cell_type": "code",
   "execution_count": 90,
   "metadata": {},
   "outputs": [
    {
     "data": {
      "image/svg+xml": [
       "<?xml version=\"1.0\" encoding=\"UTF-8\" standalone=\"no\"?>\r\n",
       "<!DOCTYPE svg PUBLIC \"-//W3C//DTD SVG 1.1//EN\"\r\n",
       " \"http://www.w3.org/Graphics/SVG/1.1/DTD/svg11.dtd\">\r\n",
       "<!-- Generated by graphviz version 2.44.2~dev.20201112.1525 (20201112.1525)\r\n",
       " -->\r\n",
       "<!-- Title: Tree Pages: 1 -->\r\n",
       "<svg width=\"610pt\" height=\"461pt\"\r\n",
       " viewBox=\"0.00 0.00 610.00 461.00\" xmlns=\"http://www.w3.org/2000/svg\" xmlns:xlink=\"http://www.w3.org/1999/xlink\">\r\n",
       "<g id=\"graph0\" class=\"graph\" transform=\"scale(1 1) rotate(0) translate(4 457)\">\r\n",
       "<title>Tree</title>\r\n",
       "<polygon fill=\"white\" stroke=\"transparent\" points=\"-4,4 -4,-457 606,-457 606,4 -4,4\"/>\r\n",
       "<!-- 0 -->\r\n",
       "<g id=\"node1\" class=\"node\">\r\n",
       "<title>0</title>\r\n",
       "<path fill=\"#f3c7a7\" stroke=\"black\" d=\"M282,-453C282,-453 195,-453 195,-453 189,-453 183,-447 183,-441 183,-441 183,-401 183,-401 183,-395 189,-389 195,-389 195,-389 282,-389 282,-389 288,-389 294,-395 294,-401 294,-401 294,-441 294,-441 294,-447 288,-453 282,-453\"/>\r\n",
       "<text text-anchor=\"start\" x=\"208\" y=\"-438.8\" font-family=\"Helvetica,sans-Serif\" font-size=\"14.00\">X</text>\r\n",
       "<text text-anchor=\"start\" x=\"218\" y=\"-438.8\" font-family=\"Helvetica,sans-Serif\" baseline-shift=\"sub\" font-size=\"14.00\">4</text>\r\n",
       "<text text-anchor=\"start\" x=\"225\" y=\"-438.8\" font-family=\"Helvetica,sans-Serif\" font-size=\"14.00\"> ≤ 94.5</text>\r\n",
       "<text text-anchor=\"start\" x=\"198\" y=\"-424.8\" font-family=\"Helvetica,sans-Serif\" font-size=\"14.00\">mse = 7.412</text>\r\n",
       "<text text-anchor=\"start\" x=\"191\" y=\"-410.8\" font-family=\"Helvetica,sans-Serif\" font-size=\"14.00\">samples = 320</text>\r\n",
       "<text text-anchor=\"start\" x=\"195.5\" y=\"-396.8\" font-family=\"Helvetica,sans-Serif\" font-size=\"14.00\">value = 7.388</text>\r\n",
       "</g>\r\n",
       "<!-- 1 -->\r\n",
       "<g id=\"node2\" class=\"node\">\r\n",
       "<title>1</title>\r\n",
       "<path fill=\"#e88f4f\" stroke=\"black\" d=\"M216,-353C216,-353 137,-353 137,-353 131,-353 125,-347 125,-341 125,-341 125,-301 125,-301 125,-295 131,-289 137,-289 137,-289 216,-289 216,-289 222,-289 228,-295 228,-301 228,-301 228,-341 228,-341 228,-347 222,-353 216,-353\"/>\r\n",
       "<text text-anchor=\"start\" x=\"150\" y=\"-338.8\" font-family=\"Helvetica,sans-Serif\" font-size=\"14.00\">X</text>\r\n",
       "<text text-anchor=\"start\" x=\"160\" y=\"-338.8\" font-family=\"Helvetica,sans-Serif\" baseline-shift=\"sub\" font-size=\"14.00\">5</text>\r\n",
       "<text text-anchor=\"start\" x=\"167\" y=\"-338.8\" font-family=\"Helvetica,sans-Serif\" font-size=\"14.00\"> ≤ 0.5</text>\r\n",
       "<text text-anchor=\"start\" x=\"136\" y=\"-324.8\" font-family=\"Helvetica,sans-Serif\" font-size=\"14.00\">mse = 5.659</text>\r\n",
       "<text text-anchor=\"start\" x=\"133\" y=\"-310.8\" font-family=\"Helvetica,sans-Serif\" font-size=\"14.00\">samples = 54</text>\r\n",
       "<text text-anchor=\"start\" x=\"133.5\" y=\"-296.8\" font-family=\"Helvetica,sans-Serif\" font-size=\"14.00\">value = 9.755</text>\r\n",
       "</g>\r\n",
       "<!-- 0&#45;&gt;1 -->\r\n",
       "<g id=\"edge1\" class=\"edge\">\r\n",
       "<title>0:&#45;&gt;1:</title>\r\n",
       "<path fill=\"none\" stroke=\"black\" d=\"M218.88,-388.99C213.4,-380.32 207.36,-370.78 201.61,-361.68\"/>\r\n",
       "<polygon fill=\"black\" stroke=\"black\" points=\"204.51,-359.72 196.2,-353.14 198.59,-363.46 204.51,-359.72\"/>\r\n",
       "<text text-anchor=\"middle\" x=\"190.71\" y=\"-373.83\" font-family=\"Helvetica,sans-Serif\" font-size=\"14.00\">True</text>\r\n",
       "</g>\r\n",
       "<!-- 2 -->\r\n",
       "<g id=\"node5\" class=\"node\">\r\n",
       "<title>2</title>\r\n",
       "<path fill=\"#f6d2b9\" stroke=\"black\" d=\"M345,-353C345,-353 258,-353 258,-353 252,-353 246,-347 246,-341 246,-341 246,-301 246,-301 246,-295 252,-289 258,-289 258,-289 345,-289 345,-289 351,-289 357,-295 357,-301 357,-301 357,-341 357,-341 357,-347 351,-353 345,-353\"/>\r\n",
       "<text text-anchor=\"start\" x=\"275\" y=\"-338.8\" font-family=\"Helvetica,sans-Serif\" font-size=\"14.00\">X</text>\r\n",
       "<text text-anchor=\"start\" x=\"285\" y=\"-338.8\" font-family=\"Helvetica,sans-Serif\" baseline-shift=\"sub\" font-size=\"14.00\">5</text>\r\n",
       "<text text-anchor=\"start\" x=\"292\" y=\"-338.8\" font-family=\"Helvetica,sans-Serif\" font-size=\"14.00\"> ≤ 0.5</text>\r\n",
       "<text text-anchor=\"start\" x=\"269.5\" y=\"-324.8\" font-family=\"Helvetica,sans-Serif\" font-size=\"14.00\">mse = 6.4</text>\r\n",
       "<text text-anchor=\"start\" x=\"254\" y=\"-310.8\" font-family=\"Helvetica,sans-Serif\" font-size=\"14.00\">samples = 266</text>\r\n",
       "<text text-anchor=\"start\" x=\"258.5\" y=\"-296.8\" font-family=\"Helvetica,sans-Serif\" font-size=\"14.00\">value = 6.908</text>\r\n",
       "</g>\r\n",
       "<!-- 0&#45;&gt;2 -->\r\n",
       "<g id=\"edge4\" class=\"edge\">\r\n",
       "<title>0:&#45;&gt;2:</title>\r\n",
       "<path fill=\"none\" stroke=\"black\" d=\"M258.43,-388.99C264.01,-380.32 270.14,-370.78 275.99,-361.68\"/>\r\n",
       "<polygon fill=\"black\" stroke=\"black\" points=\"279.02,-363.45 281.48,-353.14 273.13,-359.66 279.02,-363.45\"/>\r\n",
       "<text text-anchor=\"middle\" x=\"286.79\" y=\"-373.87\" font-family=\"Helvetica,sans-Serif\" font-size=\"14.00\">False</text>\r\n",
       "</g>\r\n",
       "<!-- 9 -->\r\n",
       "<g id=\"node3\" class=\"node\">\r\n",
       "<title>9</title>\r\n",
       "<path fill=\"#f1bc95\" stroke=\"black\" d=\"M91,-247.5C91,-247.5 12,-247.5 12,-247.5 6,-247.5 0,-241.5 0,-235.5 0,-235.5 0,-206.5 0,-206.5 0,-200.5 6,-194.5 12,-194.5 12,-194.5 91,-194.5 91,-194.5 97,-194.5 103,-200.5 103,-206.5 103,-206.5 103,-235.5 103,-235.5 103,-241.5 97,-247.5 91,-247.5\"/>\r\n",
       "<text text-anchor=\"start\" x=\"11\" y=\"-232.3\" font-family=\"Helvetica,sans-Serif\" font-size=\"14.00\">mse = 4.888</text>\r\n",
       "<text text-anchor=\"start\" x=\"8\" y=\"-217.3\" font-family=\"Helvetica,sans-Serif\" font-size=\"14.00\">samples = 13</text>\r\n",
       "<text text-anchor=\"start\" x=\"8.5\" y=\"-202.3\" font-family=\"Helvetica,sans-Serif\" font-size=\"14.00\">value = 7.861</text>\r\n",
       "</g>\r\n",
       "<!-- 1&#45;&gt;9 -->\r\n",
       "<g id=\"edge2\" class=\"edge\">\r\n",
       "<title>1:&#45;&gt;9:</title>\r\n",
       "<path fill=\"none\" stroke=\"black\" d=\"M136.95,-288.99C122.72,-277.84 106.65,-265.23 92.31,-254\"/>\r\n",
       "<polygon fill=\"black\" stroke=\"black\" points=\"94.13,-250.97 84.1,-247.56 89.81,-256.48 94.13,-250.97\"/>\r\n",
       "</g>\r\n",
       "<!-- 10 -->\r\n",
       "<g id=\"node4\" class=\"node\">\r\n",
       "<title>10</title>\r\n",
       "<path fill=\"#e58139\" stroke=\"black\" d=\"M219.5,-247.5C219.5,-247.5 133.5,-247.5 133.5,-247.5 127.5,-247.5 121.5,-241.5 121.5,-235.5 121.5,-235.5 121.5,-206.5 121.5,-206.5 121.5,-200.5 127.5,-194.5 133.5,-194.5 133.5,-194.5 219.5,-194.5 219.5,-194.5 225.5,-194.5 231.5,-200.5 231.5,-206.5 231.5,-206.5 231.5,-235.5 231.5,-235.5 231.5,-241.5 225.5,-247.5 219.5,-247.5\"/>\r\n",
       "<text text-anchor=\"start\" x=\"136\" y=\"-232.3\" font-family=\"Helvetica,sans-Serif\" font-size=\"14.00\">mse = 4.404</text>\r\n",
       "<text text-anchor=\"start\" x=\"133\" y=\"-217.3\" font-family=\"Helvetica,sans-Serif\" font-size=\"14.00\">samples = 41</text>\r\n",
       "<text text-anchor=\"start\" x=\"129.5\" y=\"-202.3\" font-family=\"Helvetica,sans-Serif\" font-size=\"14.00\">value = 10.356</text>\r\n",
       "</g>\r\n",
       "<!-- 1&#45;&gt;10 -->\r\n",
       "<g id=\"edge3\" class=\"edge\">\r\n",
       "<title>1:&#45;&gt;10:</title>\r\n",
       "<path fill=\"none\" stroke=\"black\" d=\"M176.5,-288.99C176.5,-279.09 176.5,-268.04 176.5,-257.82\"/>\r\n",
       "<polygon fill=\"black\" stroke=\"black\" points=\"180,-257.56 176.5,-247.56 173,-257.56 180,-257.56\"/>\r\n",
       "</g>\r\n",
       "<!-- 3 -->\r\n",
       "<g id=\"node6\" class=\"node\">\r\n",
       "<title>3</title>\r\n",
       "<path fill=\"#ffffff\" stroke=\"black\" d=\"M341,-247.5C341,-247.5 262,-247.5 262,-247.5 256,-247.5 250,-241.5 250,-235.5 250,-235.5 250,-206.5 250,-206.5 250,-200.5 256,-194.5 262,-194.5 262,-194.5 341,-194.5 341,-194.5 347,-194.5 353,-200.5 353,-206.5 353,-206.5 353,-235.5 353,-235.5 353,-241.5 347,-247.5 341,-247.5\"/>\r\n",
       "<text text-anchor=\"start\" x=\"265\" y=\"-232.3\" font-family=\"Helvetica,sans-Serif\" font-size=\"14.00\">mse = 3.94</text>\r\n",
       "<text text-anchor=\"start\" x=\"258\" y=\"-217.3\" font-family=\"Helvetica,sans-Serif\" font-size=\"14.00\">samples = 64</text>\r\n",
       "<text text-anchor=\"start\" x=\"258.5\" y=\"-202.3\" font-family=\"Helvetica,sans-Serif\" font-size=\"14.00\">value = 5.013</text>\r\n",
       "</g>\r\n",
       "<!-- 2&#45;&gt;3 -->\r\n",
       "<g id=\"edge5\" class=\"edge\">\r\n",
       "<title>2:&#45;&gt;3:</title>\r\n",
       "<path fill=\"none\" stroke=\"black\" d=\"M301.5,-288.99C301.5,-279.09 301.5,-268.04 301.5,-257.82\"/>\r\n",
       "<polygon fill=\"black\" stroke=\"black\" points=\"305,-257.56 301.5,-247.56 298,-257.56 305,-257.56\"/>\r\n",
       "</g>\r\n",
       "<!-- 4 -->\r\n",
       "<g id=\"node7\" class=\"node\">\r\n",
       "<title>4</title>\r\n",
       "<path fill=\"#f3c4a3\" stroke=\"black\" d=\"M470,-253C470,-253 383,-253 383,-253 377,-253 371,-247 371,-241 371,-241 371,-201 371,-201 371,-195 377,-189 383,-189 383,-189 470,-189 470,-189 476,-189 482,-195 482,-201 482,-201 482,-241 482,-241 482,-247 476,-253 470,-253\"/>\r\n",
       "<text text-anchor=\"start\" x=\"400\" y=\"-238.8\" font-family=\"Helvetica,sans-Serif\" font-size=\"14.00\">X</text>\r\n",
       "<text text-anchor=\"start\" x=\"410\" y=\"-238.8\" font-family=\"Helvetica,sans-Serif\" baseline-shift=\"sub\" font-size=\"14.00\">2</text>\r\n",
       "<text text-anchor=\"start\" x=\"417\" y=\"-238.8\" font-family=\"Helvetica,sans-Serif\" font-size=\"14.00\"> ≤ 6.5</text>\r\n",
       "<text text-anchor=\"start\" x=\"386\" y=\"-224.8\" font-family=\"Helvetica,sans-Serif\" font-size=\"14.00\">mse = 5.681</text>\r\n",
       "<text text-anchor=\"start\" x=\"379\" y=\"-210.8\" font-family=\"Helvetica,sans-Serif\" font-size=\"14.00\">samples = 202</text>\r\n",
       "<text text-anchor=\"start\" x=\"383.5\" y=\"-196.8\" font-family=\"Helvetica,sans-Serif\" font-size=\"14.00\">value = 7.508</text>\r\n",
       "</g>\r\n",
       "<!-- 2&#45;&gt;4 -->\r\n",
       "<g id=\"edge6\" class=\"edge\">\r\n",
       "<title>2:&#45;&gt;4:</title>\r\n",
       "<path fill=\"none\" stroke=\"black\" d=\"M341.05,-288.99C353.02,-279.61 366.29,-269.2 378.74,-259.44\"/>\r\n",
       "<polygon fill=\"black\" stroke=\"black\" points=\"381.07,-262.07 386.78,-253.14 376.75,-256.56 381.07,-262.07\"/>\r\n",
       "</g>\r\n",
       "<!-- 5 -->\r\n",
       "<g id=\"node8\" class=\"node\">\r\n",
       "<title>5</title>\r\n",
       "<path fill=\"#f8dbc7\" stroke=\"black\" d=\"M407,-147.5C407,-147.5 320,-147.5 320,-147.5 314,-147.5 308,-141.5 308,-135.5 308,-135.5 308,-106.5 308,-106.5 308,-100.5 314,-94.5 320,-94.5 320,-94.5 407,-94.5 407,-94.5 413,-94.5 419,-100.5 419,-106.5 419,-106.5 419,-135.5 419,-135.5 419,-141.5 413,-147.5 407,-147.5\"/>\r\n",
       "<text text-anchor=\"start\" x=\"327\" y=\"-132.3\" font-family=\"Helvetica,sans-Serif\" font-size=\"14.00\">mse = 4.28</text>\r\n",
       "<text text-anchor=\"start\" x=\"316\" y=\"-117.3\" font-family=\"Helvetica,sans-Serif\" font-size=\"14.00\">samples = 103</text>\r\n",
       "<text text-anchor=\"start\" x=\"320.5\" y=\"-102.3\" font-family=\"Helvetica,sans-Serif\" font-size=\"14.00\">value = 6.519</text>\r\n",
       "</g>\r\n",
       "<!-- 4&#45;&gt;5 -->\r\n",
       "<g id=\"edge7\" class=\"edge\">\r\n",
       "<title>4:&#45;&gt;5:</title>\r\n",
       "<path fill=\"none\" stroke=\"black\" d=\"M406.57,-188.99C399.86,-178.57 392.35,-166.88 385.5,-156.22\"/>\r\n",
       "<polygon fill=\"black\" stroke=\"black\" points=\"388.28,-154.08 379.93,-147.56 382.39,-157.86 388.28,-154.08\"/>\r\n",
       "</g>\r\n",
       "<!-- 6 -->\r\n",
       "<g id=\"node9\" class=\"node\">\r\n",
       "<title>6</title>\r\n",
       "<path fill=\"#eeac7c\" stroke=\"black\" d=\"M528,-153C528,-153 449,-153 449,-153 443,-153 437,-147 437,-141 437,-141 437,-101 437,-101 437,-95 443,-89 449,-89 449,-89 528,-89 528,-89 534,-89 540,-95 540,-101 540,-101 540,-141 540,-141 540,-147 534,-153 528,-153\"/>\r\n",
       "<text text-anchor=\"start\" x=\"462\" y=\"-138.8\" font-family=\"Helvetica,sans-Serif\" font-size=\"14.00\">X</text>\r\n",
       "<text text-anchor=\"start\" x=\"472\" y=\"-138.8\" font-family=\"Helvetica,sans-Serif\" baseline-shift=\"sub\" font-size=\"14.00\">5</text>\r\n",
       "<text text-anchor=\"start\" x=\"479\" y=\"-138.8\" font-family=\"Helvetica,sans-Serif\" font-size=\"14.00\"> ≤ 1.5</text>\r\n",
       "<text text-anchor=\"start\" x=\"448\" y=\"-124.8\" font-family=\"Helvetica,sans-Serif\" font-size=\"14.00\">mse = 5.064</text>\r\n",
       "<text text-anchor=\"start\" x=\"445\" y=\"-110.8\" font-family=\"Helvetica,sans-Serif\" font-size=\"14.00\">samples = 99</text>\r\n",
       "<text text-anchor=\"start\" x=\"445.5\" y=\"-96.8\" font-family=\"Helvetica,sans-Serif\" font-size=\"14.00\">value = 8.537</text>\r\n",
       "</g>\r\n",
       "<!-- 4&#45;&gt;6 -->\r\n",
       "<g id=\"edge8\" class=\"edge\">\r\n",
       "<title>4:&#45;&gt;6:</title>\r\n",
       "<path fill=\"none\" stroke=\"black\" d=\"M446.12,-188.99C451.6,-180.32 457.64,-170.78 463.39,-161.68\"/>\r\n",
       "<polygon fill=\"black\" stroke=\"black\" points=\"466.41,-163.46 468.8,-153.14 460.49,-159.72 466.41,-163.46\"/>\r\n",
       "</g>\r\n",
       "<!-- 7 -->\r\n",
       "<g id=\"node10\" class=\"node\">\r\n",
       "<title>7</title>\r\n",
       "<path fill=\"#e6853f\" stroke=\"black\" d=\"M468.5,-53C468.5,-53 382.5,-53 382.5,-53 376.5,-53 370.5,-47 370.5,-41 370.5,-41 370.5,-12 370.5,-12 370.5,-6 376.5,0 382.5,0 382.5,0 468.5,0 468.5,0 474.5,0 480.5,-6 480.5,-12 480.5,-12 480.5,-41 480.5,-41 480.5,-47 474.5,-53 468.5,-53\"/>\r\n",
       "<text text-anchor=\"start\" x=\"385\" y=\"-37.8\" font-family=\"Helvetica,sans-Serif\" font-size=\"14.00\">mse = 3.762</text>\r\n",
       "<text text-anchor=\"start\" x=\"382\" y=\"-22.8\" font-family=\"Helvetica,sans-Serif\" font-size=\"14.00\">samples = 29</text>\r\n",
       "<text text-anchor=\"start\" x=\"378.5\" y=\"-7.8\" font-family=\"Helvetica,sans-Serif\" font-size=\"14.00\">value = 10.194</text>\r\n",
       "</g>\r\n",
       "<!-- 6&#45;&gt;7 -->\r\n",
       "<g id=\"edge9\" class=\"edge\">\r\n",
       "<title>6:&#45;&gt;7:</title>\r\n",
       "<path fill=\"none\" stroke=\"black\" d=\"M467.35,-88.94C461.33,-80.11 454.75,-70.45 448.63,-61.46\"/>\r\n",
       "<polygon fill=\"black\" stroke=\"black\" points=\"451.45,-59.39 442.93,-53.09 445.67,-63.33 451.45,-59.39\"/>\r\n",
       "</g>\r\n",
       "<!-- 8 -->\r\n",
       "<g id=\"node11\" class=\"node\">\r\n",
       "<title>8</title>\r\n",
       "<path fill=\"#f1bc96\" stroke=\"black\" d=\"M590,-53C590,-53 511,-53 511,-53 505,-53 499,-47 499,-41 499,-41 499,-12 499,-12 499,-6 505,0 511,0 511,0 590,0 590,0 596,0 602,-6 602,-12 602,-12 602,-41 602,-41 602,-47 596,-53 590,-53\"/>\r\n",
       "<text text-anchor=\"start\" x=\"510\" y=\"-37.8\" font-family=\"Helvetica,sans-Serif\" font-size=\"14.00\">mse = 3.993</text>\r\n",
       "<text text-anchor=\"start\" x=\"507\" y=\"-22.8\" font-family=\"Helvetica,sans-Serif\" font-size=\"14.00\">samples = 70</text>\r\n",
       "<text text-anchor=\"start\" x=\"511.5\" y=\"-7.8\" font-family=\"Helvetica,sans-Serif\" font-size=\"14.00\">value = 7.85</text>\r\n",
       "</g>\r\n",
       "<!-- 6&#45;&gt;8 -->\r\n",
       "<g id=\"edge10\" class=\"edge\">\r\n",
       "<title>6:&#45;&gt;8:</title>\r\n",
       "<path fill=\"none\" stroke=\"black\" d=\"M509.32,-88.94C515.24,-80.11 521.71,-70.45 527.74,-61.46\"/>\r\n",
       "<polygon fill=\"black\" stroke=\"black\" points=\"530.69,-63.35 533.35,-53.09 524.87,-59.45 530.69,-63.35\"/>\r\n",
       "</g>\r\n",
       "</g>\r\n",
       "</svg>\r\n"
      ],
      "text/plain": [
       "<graphviz.files.Source at 0x2127afa89a0>"
      ]
     },
     "execution_count": 90,
     "metadata": {},
     "output_type": "execute_result"
    }
   ],
   "source": [
    "#Q2\n",
    "from sklearn import tree\n",
    "dot_data = tree.export_graphviz(regr, out_file=None,\n",
    "                      filled=True, rounded=True,  \n",
    "                      special_characters=True)  \n",
    "graph = graphviz.Source(dot_data)  \n",
    "graph "
   ]
  },
  {
   "cell_type": "code",
   "execution_count": 91,
   "metadata": {},
   "outputs": [
    {
     "data": {
      "text/plain": [
       "Text(0, 0.5, 'y')"
      ]
     },
     "execution_count": 91,
     "metadata": {},
     "output_type": "execute_result"
    },
    {
     "data": {
      "image/png": "[encoded data removed]",
      "text/plain": [
       "<Figure size 432x288 with 1 Axes>"
      ]
     },
     "metadata": {},
     "output_type": "display_data"
    }
   ],
   "source": [
    "#Q3\n",
    "plt.scatter(test_pred, y_test, label='Sal')\n",
    "plt.plot([0, 1], [0, 1], '--k', transform=plt.gca().transAxes)#draws the dotted line\n",
    "plt.xlabel('pred')\n",
    "plt.ylabel('y')"
   ]
  },
  {
   "cell_type": "markdown",
   "metadata": {},
   "source": [
    "## Question\n",
    "Using the same Carseats.csv data set, convert the problem into a Classification problem. Create a new column that maps the sales to High the value is greater than 8. You can use this:\n",
    "\n",
    "```\n",
    "f3['High'] = df2.Sales.map(lambda x: 1 if x>8 else 0)\n",
    "```\n",
    "Map columsn Urban and US into 1 or 0 as well. Create a train and test split on the dataset. Run it through a decision tree classifier.\n",
    "\n",
    "1. Print the classification report\n",
    "1. Print confusion matrix\n",
    "1. Print the decision tree graph\n",
    "\n"
   ]
  },
  {
   "cell_type": "code",
   "execution_count": 105,
   "metadata": {},
   "outputs": [
    {
     "data": {
      "text/html": [
       "<div>\n",
       "<style scoped>\n",
       "    .dataframe tbody tr th:only-of-type {\n",
       "        vertical-align: middle;\n",
       "    }\n",
       "\n",
       "    .dataframe tbody tr th {\n",
       "        vertical-align: top;\n",
       "    }\n",
       "\n",
       "    .dataframe thead th {\n",
       "        text-align: right;\n",
       "    }\n",
       "</style>\n",
       "<table border=\"1\" class=\"dataframe\">\n",
       "  <thead>\n",
       "    <tr style=\"text-align: right;\">\n",
       "      <th></th>\n",
       "      <th>Sales</th>\n",
       "      <th>CompPrice</th>\n",
       "      <th>Income</th>\n",
       "      <th>Advertising</th>\n",
       "      <th>Population</th>\n",
       "      <th>Price</th>\n",
       "      <th>ShelveLoc</th>\n",
       "      <th>Age</th>\n",
       "      <th>Education</th>\n",
       "      <th>Urban</th>\n",
       "      <th>US</th>\n",
       "      <th>High</th>\n",
       "    </tr>\n",
       "  </thead>\n",
       "  <tbody>\n",
       "    <tr>\n",
       "      <th>0</th>\n",
       "      <td>9.50</td>\n",
       "      <td>138</td>\n",
       "      <td>73</td>\n",
       "      <td>11</td>\n",
       "      <td>276</td>\n",
       "      <td>120</td>\n",
       "      <td>0</td>\n",
       "      <td>42</td>\n",
       "      <td>17</td>\n",
       "      <td>1</td>\n",
       "      <td>1</td>\n",
       "      <td>1</td>\n",
       "    </tr>\n",
       "    <tr>\n",
       "      <th>1</th>\n",
       "      <td>11.22</td>\n",
       "      <td>111</td>\n",
       "      <td>48</td>\n",
       "      <td>16</td>\n",
       "      <td>260</td>\n",
       "      <td>83</td>\n",
       "      <td>1</td>\n",
       "      <td>65</td>\n",
       "      <td>10</td>\n",
       "      <td>1</td>\n",
       "      <td>1</td>\n",
       "      <td>1</td>\n",
       "    </tr>\n",
       "    <tr>\n",
       "      <th>2</th>\n",
       "      <td>10.06</td>\n",
       "      <td>113</td>\n",
       "      <td>35</td>\n",
       "      <td>10</td>\n",
       "      <td>269</td>\n",
       "      <td>80</td>\n",
       "      <td>2</td>\n",
       "      <td>59</td>\n",
       "      <td>12</td>\n",
       "      <td>1</td>\n",
       "      <td>1</td>\n",
       "      <td>1</td>\n",
       "    </tr>\n",
       "    <tr>\n",
       "      <th>3</th>\n",
       "      <td>7.40</td>\n",
       "      <td>117</td>\n",
       "      <td>100</td>\n",
       "      <td>4</td>\n",
       "      <td>466</td>\n",
       "      <td>97</td>\n",
       "      <td>2</td>\n",
       "      <td>55</td>\n",
       "      <td>14</td>\n",
       "      <td>1</td>\n",
       "      <td>1</td>\n",
       "      <td>0</td>\n",
       "    </tr>\n",
       "    <tr>\n",
       "      <th>4</th>\n",
       "      <td>4.15</td>\n",
       "      <td>141</td>\n",
       "      <td>64</td>\n",
       "      <td>3</td>\n",
       "      <td>340</td>\n",
       "      <td>128</td>\n",
       "      <td>0</td>\n",
       "      <td>38</td>\n",
       "      <td>13</td>\n",
       "      <td>1</td>\n",
       "      <td>0</td>\n",
       "      <td>0</td>\n",
       "    </tr>\n",
       "  </tbody>\n",
       "</table>\n",
       "</div>"
      ],
      "text/plain": [
       "   Sales  CompPrice  Income  Advertising  Population  Price  ShelveLoc  Age  \\\n",
       "0   9.50        138      73           11         276    120          0   42   \n",
       "1  11.22        111      48           16         260     83          1   65   \n",
       "2  10.06        113      35           10         269     80          2   59   \n",
       "3   7.40        117     100            4         466     97          2   55   \n",
       "4   4.15        141      64            3         340    128          0   38   \n",
       "\n",
       "   Education  Urban  US  High  \n",
       "0         17      1   1     1  \n",
       "1         10      1   1     1  \n",
       "2         12      1   1     1  \n",
       "3         14      1   1     0  \n",
       "4         13      1   0     0  "
      ]
     },
     "execution_count": 105,
     "metadata": {},
     "output_type": "execute_result"
    }
   ],
   "source": [
    "df4 = pd.read_csv('Data/Carseats.csv').drop('Unnamed: 0', axis=1).dropna()\n",
    "\n",
    "df4.Urban = df4.Urban.map({'No': 0, 'Yes': 1})\n",
    "df4.US = df4.US.map({'No': 0, 'Yes': 1})\n",
    "df4.ShelveLoc = pd.factorize(df3.ShelveLoc)[0]\n",
    "\n",
    "df4['High'] = df4.Sales.map(lambda x: 1 if x>8 else 0)\n",
    "\n",
    "df4.head()"
   ]
  },
  {
   "cell_type": "code",
   "execution_count": 106,
   "metadata": {},
   "outputs": [],
   "source": [
    "from sklearn.model_selection import train_test_split\n",
    "X = df4.drop('High', axis=1)\n",
    "y = df4.High\n",
    "\n",
    "X_train, X_test, y_train, y_test = train_test_split(X, y, test_size=0.2, random_state=42)"
   ]
  },
  {
   "cell_type": "code",
   "execution_count": 122,
   "metadata": {},
   "outputs": [
    {
     "data": {
      "text/plain": [
       "DecisionTreeClassifier(max_features=3, max_leaf_nodes=6)"
      ]
     },
     "execution_count": 122,
     "metadata": {},
     "output_type": "execute_result"
    }
   ],
   "source": [
    "clf = DecisionTreeClassifier(max_depth=None, max_leaf_nodes=6, max_features=3)\n",
    "clf.fit(X_train,y_train)"
   ]
  },
  {
   "cell_type": "code",
   "execution_count": 123,
   "metadata": {},
   "outputs": [
    {
     "name": "stdout",
     "output_type": "stream",
     "text": [
      "              precision    recall  f1-score   support\n",
      "\n",
      "           0       0.95      1.00      0.97       193\n",
      "           1       1.00      0.92      0.96       127\n",
      "\n",
      "    accuracy                           0.97       320\n",
      "   macro avg       0.98      0.96      0.97       320\n",
      "weighted avg       0.97      0.97      0.97       320\n",
      "\n",
      "              precision    recall  f1-score   support\n",
      "\n",
      "           0       0.91      1.00      0.96        43\n",
      "           1       1.00      0.89      0.94        37\n",
      "\n",
      "    accuracy                           0.95        80\n",
      "   macro avg       0.96      0.95      0.95        80\n",
      "weighted avg       0.95      0.95      0.95        80\n",
      "\n"
     ]
    }
   ],
   "source": [
    "#Q1\n",
    "#classification report of the training data \n",
    "y_train_pred=clf.predict(X_train)\n",
    "print(classification_report(y_train, y_train_pred))\n",
    "\n",
    "#classification report of the testing data\n",
    "y_test_pred=clf.predict(X_test)\n",
    "print(classification_report(y_test, y_test_pred))"
   ]
  },
  {
   "cell_type": "code",
   "execution_count": 125,
   "metadata": {
    "scrolled": true
   },
   "outputs": [
    {
     "data": {
      "text/html": [
       "<div>\n",
       "<style scoped>\n",
       "    .dataframe tbody tr th:only-of-type {\n",
       "        vertical-align: middle;\n",
       "    }\n",
       "\n",
       "    .dataframe tbody tr th {\n",
       "        vertical-align: top;\n",
       "    }\n",
       "\n",
       "    .dataframe thead th {\n",
       "        text-align: right;\n",
       "    }\n",
       "</style>\n",
       "<table border=\"1\" class=\"dataframe\">\n",
       "  <thead>\n",
       "    <tr style=\"text-align: right;\">\n",
       "      <th>True</th>\n",
       "      <th>low</th>\n",
       "      <th>High</th>\n",
       "    </tr>\n",
       "    <tr>\n",
       "      <th>Predicted</th>\n",
       "      <th></th>\n",
       "      <th></th>\n",
       "    </tr>\n",
       "  </thead>\n",
       "  <tbody>\n",
       "    <tr>\n",
       "      <th>low</th>\n",
       "      <td>193</td>\n",
       "      <td>10</td>\n",
       "    </tr>\n",
       "    <tr>\n",
       "      <th>High</th>\n",
       "      <td>0</td>\n",
       "      <td>117</td>\n",
       "    </tr>\n",
       "  </tbody>\n",
       "</table>\n",
       "</div>"
      ],
      "text/plain": [
       "True       low  High\n",
       "Predicted           \n",
       "low        193    10\n",
       "High         0   117"
      ]
     },
     "execution_count": 125,
     "metadata": {},
     "output_type": "execute_result"
    }
   ],
   "source": [
    "#Q2\n",
    "#confusion matrix of the training data \n",
    "train_cm = pd.DataFrame(confusion_matrix(y_train, y_train_pred).T, index=['low', 'High'], columns=['low', 'High'])\n",
    "train_cm.index.name = 'Predicted'\n",
    "train_cm.columns.name = 'True'\n",
    "train_cm"
   ]
  },
  {
   "cell_type": "code",
   "execution_count": 128,
   "metadata": {},
   "outputs": [
    {
     "data": {
      "text/html": [
       "<div>\n",
       "<style scoped>\n",
       "    .dataframe tbody tr th:only-of-type {\n",
       "        vertical-align: middle;\n",
       "    }\n",
       "\n",
       "    .dataframe tbody tr th {\n",
       "        vertical-align: top;\n",
       "    }\n",
       "\n",
       "    .dataframe thead th {\n",
       "        text-align: right;\n",
       "    }\n",
       "</style>\n",
       "<table border=\"1\" class=\"dataframe\">\n",
       "  <thead>\n",
       "    <tr style=\"text-align: right;\">\n",
       "      <th>True</th>\n",
       "      <th>low</th>\n",
       "      <th>High</th>\n",
       "    </tr>\n",
       "    <tr>\n",
       "      <th>Predicted</th>\n",
       "      <th></th>\n",
       "      <th></th>\n",
       "    </tr>\n",
       "  </thead>\n",
       "  <tbody>\n",
       "    <tr>\n",
       "      <th>low</th>\n",
       "      <td>43</td>\n",
       "      <td>4</td>\n",
       "    </tr>\n",
       "    <tr>\n",
       "      <th>High</th>\n",
       "      <td>0</td>\n",
       "      <td>33</td>\n",
       "    </tr>\n",
       "  </tbody>\n",
       "</table>\n",
       "</div>"
      ],
      "text/plain": [
       "True       low  High\n",
       "Predicted           \n",
       "low         43     4\n",
       "High         0    33"
      ]
     },
     "execution_count": 128,
     "metadata": {},
     "output_type": "execute_result"
    }
   ],
   "source": [
    "#Q2\n",
    "#confusion matrix of the testing data \n",
    "test_cm = pd.DataFrame(confusion_matrix(y_test, y_test_pred).T, index=['low', 'High'], columns=['low', 'High'])\n",
    "test_cm.index.name = 'Predicted'\n",
    "test_cm.columns.name = 'True'\n",
    "test_cm"
   ]
  },
  {
   "cell_type": "code",
   "execution_count": 129,
   "metadata": {},
   "outputs": [
    {
     "data": {
      "image/svg+xml": [
       "<?xml version=\"1.0\" encoding=\"UTF-8\" standalone=\"no\"?>\r\n",
       "<!DOCTYPE svg PUBLIC \"-//W3C//DTD SVG 1.1//EN\"\r\n",
       " \"http://www.w3.org/Graphics/SVG/1.1/DTD/svg11.dtd\">\r\n",
       "<!-- Generated by graphviz version 2.44.2~dev.20201112.1525 (20201112.1525)\r\n",
       " -->\r\n",
       "<!-- Title: Tree Pages: 1 -->\r\n",
       "<svg width=\"619pt\" height=\"361pt\"\r\n",
       " viewBox=\"0.00 0.00 619.00 361.00\" xmlns=\"http://www.w3.org/2000/svg\" xmlns:xlink=\"http://www.w3.org/1999/xlink\">\r\n",
       "<g id=\"graph0\" class=\"graph\" transform=\"scale(1 1) rotate(0) translate(4 357)\">\r\n",
       "<title>Tree</title>\r\n",
       "<polygon fill=\"white\" stroke=\"transparent\" points=\"-4,4 -4,-357 615,-357 615,4 -4,4\"/>\r\n",
       "<!-- 0 -->\r\n",
       "<g id=\"node1\" class=\"node\">\r\n",
       "<title>0</title>\r\n",
       "<path fill=\"#f6d4bb\" stroke=\"black\" d=\"M292.5,-353C292.5,-353 186.5,-353 186.5,-353 180.5,-353 174.5,-347 174.5,-341 174.5,-341 174.5,-301 174.5,-301 174.5,-295 180.5,-289 186.5,-289 186.5,-289 292.5,-289 292.5,-289 298.5,-289 304.5,-295 304.5,-301 304.5,-301 304.5,-341 304.5,-341 304.5,-347 298.5,-353 292.5,-353\"/>\r\n",
       "<text text-anchor=\"start\" x=\"213\" y=\"-338.8\" font-family=\"Helvetica,sans-Serif\" font-size=\"14.00\">X</text>\r\n",
       "<text text-anchor=\"start\" x=\"223\" y=\"-338.8\" font-family=\"Helvetica,sans-Serif\" baseline-shift=\"sub\" font-size=\"14.00\">6</text>\r\n",
       "<text text-anchor=\"start\" x=\"230\" y=\"-338.8\" font-family=\"Helvetica,sans-Serif\" font-size=\"14.00\"> ≤ 0.5</text>\r\n",
       "<text text-anchor=\"start\" x=\"202\" y=\"-324.8\" font-family=\"Helvetica,sans-Serif\" font-size=\"14.00\">gini = 0.479</text>\r\n",
       "<text text-anchor=\"start\" x=\"192\" y=\"-310.8\" font-family=\"Helvetica,sans-Serif\" font-size=\"14.00\">samples = 320</text>\r\n",
       "<text text-anchor=\"start\" x=\"182.5\" y=\"-296.8\" font-family=\"Helvetica,sans-Serif\" font-size=\"14.00\">value = [193, 127]</text>\r\n",
       "</g>\r\n",
       "<!-- 1 -->\r\n",
       "<g id=\"node2\" class=\"node\">\r\n",
       "<title>1</title>\r\n",
       "<path fill=\"#e99457\" stroke=\"black\" d=\"M214,-253C214,-253 125,-253 125,-253 119,-253 113,-247 113,-241 113,-241 113,-201 113,-201 113,-195 119,-189 125,-189 125,-189 214,-189 214,-189 220,-189 226,-195 226,-201 226,-201 226,-241 226,-241 226,-247 220,-253 214,-253\"/>\r\n",
       "<text text-anchor=\"start\" x=\"139\" y=\"-238.8\" font-family=\"Helvetica,sans-Serif\" font-size=\"14.00\">X</text>\r\n",
       "<text text-anchor=\"start\" x=\"149\" y=\"-238.8\" font-family=\"Helvetica,sans-Serif\" baseline-shift=\"sub\" font-size=\"14.00\">7</text>\r\n",
       "<text text-anchor=\"start\" x=\"156\" y=\"-238.8\" font-family=\"Helvetica,sans-Serif\" font-size=\"14.00\"> ≤ 30.5</text>\r\n",
       "<text text-anchor=\"start\" x=\"132\" y=\"-224.8\" font-family=\"Helvetica,sans-Serif\" font-size=\"14.00\">gini = 0.226</text>\r\n",
       "<text text-anchor=\"start\" x=\"126\" y=\"-210.8\" font-family=\"Helvetica,sans-Serif\" font-size=\"14.00\">samples = 77</text>\r\n",
       "<text text-anchor=\"start\" x=\"121\" y=\"-196.8\" font-family=\"Helvetica,sans-Serif\" font-size=\"14.00\">value = [67, 10]</text>\r\n",
       "</g>\r\n",
       "<!-- 0&#45;&gt;1 -->\r\n",
       "<g id=\"edge1\" class=\"edge\">\r\n",
       "<title>0:&#45;&gt;1:</title>\r\n",
       "<path fill=\"none\" stroke=\"black\" d=\"M217.35,-288.99C211.1,-280.23 204.2,-270.58 197.65,-261.4\"/>\r\n",
       "<polygon fill=\"black\" stroke=\"black\" points=\"200.41,-259.25 191.74,-253.14 194.71,-263.31 200.41,-259.25\"/>\r\n",
       "<text text-anchor=\"middle\" x=\"187.63\" y=\"-274.1\" font-family=\"Helvetica,sans-Serif\" font-size=\"14.00\">True</text>\r\n",
       "</g>\r\n",
       "<!-- 2 -->\r\n",
       "<g id=\"node5\" class=\"node\">\r\n",
       "<title>2</title>\r\n",
       "<path fill=\"#fdf6f1\" stroke=\"black\" d=\"M362.5,-253C362.5,-253 256.5,-253 256.5,-253 250.5,-253 244.5,-247 244.5,-241 244.5,-241 244.5,-201 244.5,-201 244.5,-195 250.5,-189 256.5,-189 256.5,-189 362.5,-189 362.5,-189 368.5,-189 374.5,-195 374.5,-201 374.5,-201 374.5,-241 374.5,-241 374.5,-247 368.5,-253 362.5,-253\"/>\r\n",
       "<text text-anchor=\"start\" x=\"283\" y=\"-238.8\" font-family=\"Helvetica,sans-Serif\" font-size=\"14.00\">X</text>\r\n",
       "<text text-anchor=\"start\" x=\"293\" y=\"-238.8\" font-family=\"Helvetica,sans-Serif\" baseline-shift=\"sub\" font-size=\"14.00\">3</text>\r\n",
       "<text text-anchor=\"start\" x=\"300\" y=\"-238.8\" font-family=\"Helvetica,sans-Serif\" font-size=\"14.00\"> ≤ 6.5</text>\r\n",
       "<text text-anchor=\"start\" x=\"272\" y=\"-224.8\" font-family=\"Helvetica,sans-Serif\" font-size=\"14.00\">gini = 0.499</text>\r\n",
       "<text text-anchor=\"start\" x=\"262\" y=\"-210.8\" font-family=\"Helvetica,sans-Serif\" font-size=\"14.00\">samples = 243</text>\r\n",
       "<text text-anchor=\"start\" x=\"252.5\" y=\"-196.8\" font-family=\"Helvetica,sans-Serif\" font-size=\"14.00\">value = [126, 117]</text>\r\n",
       "</g>\r\n",
       "<!-- 0&#45;&gt;2 -->\r\n",
       "<g id=\"edge4\" class=\"edge\">\r\n",
       "<title>0:&#45;&gt;2:</title>\r\n",
       "<path fill=\"none\" stroke=\"black\" d=\"M261.65,-288.99C267.9,-280.23 274.8,-270.58 281.35,-261.4\"/>\r\n",
       "<polygon fill=\"black\" stroke=\"black\" points=\"284.29,-263.31 287.26,-253.14 278.59,-259.25 284.29,-263.31\"/>\r\n",
       "<text text-anchor=\"middle\" x=\"291.37\" y=\"-274.1\" font-family=\"Helvetica,sans-Serif\" font-size=\"14.00\">False</text>\r\n",
       "</g>\r\n",
       "<!-- 9 -->\r\n",
       "<g id=\"node3\" class=\"node\">\r\n",
       "<title>9</title>\r\n",
       "<path fill=\"#f4c9aa\" stroke=\"black\" d=\"M91,-147.5C91,-147.5 12,-147.5 12,-147.5 6,-147.5 0,-141.5 0,-135.5 0,-135.5 0,-106.5 0,-106.5 0,-100.5 6,-94.5 12,-94.5 12,-94.5 91,-94.5 91,-94.5 97,-94.5 103,-100.5 103,-106.5 103,-106.5 103,-135.5 103,-135.5 103,-141.5 97,-147.5 91,-147.5\"/>\r\n",
       "<text text-anchor=\"start\" x=\"14\" y=\"-132.3\" font-family=\"Helvetica,sans-Serif\" font-size=\"14.00\">gini = 0.463</text>\r\n",
       "<text text-anchor=\"start\" x=\"8\" y=\"-117.3\" font-family=\"Helvetica,sans-Serif\" font-size=\"14.00\">samples = 11</text>\r\n",
       "<text text-anchor=\"start\" x=\"11\" y=\"-102.3\" font-family=\"Helvetica,sans-Serif\" font-size=\"14.00\">value = [7, 4]</text>\r\n",
       "</g>\r\n",
       "<!-- 1&#45;&gt;9 -->\r\n",
       "<g id=\"edge2\" class=\"edge\">\r\n",
       "<title>1:&#45;&gt;9:</title>\r\n",
       "<path fill=\"none\" stroke=\"black\" d=\"M132.16,-188.99C118.73,-177.84 103.56,-165.23 90.02,-154\"/>\r\n",
       "<polygon fill=\"black\" stroke=\"black\" points=\"92.2,-151.25 82.27,-147.56 87.73,-156.64 92.2,-151.25\"/>\r\n",
       "</g>\r\n",
       "<!-- 10 -->\r\n",
       "<g id=\"node4\" class=\"node\">\r\n",
       "<title>10</title>\r\n",
       "<path fill=\"#e88e4d\" stroke=\"black\" d=\"M214,-147.5C214,-147.5 133,-147.5 133,-147.5 127,-147.5 121,-141.5 121,-135.5 121,-135.5 121,-106.5 121,-106.5 121,-100.5 127,-94.5 133,-94.5 133,-94.5 214,-94.5 214,-94.5 220,-94.5 226,-100.5 226,-106.5 226,-106.5 226,-135.5 226,-135.5 226,-141.5 220,-147.5 214,-147.5\"/>\r\n",
       "<text text-anchor=\"start\" x=\"136\" y=\"-132.3\" font-family=\"Helvetica,sans-Serif\" font-size=\"14.00\">gini = 0.165</text>\r\n",
       "<text text-anchor=\"start\" x=\"130\" y=\"-117.3\" font-family=\"Helvetica,sans-Serif\" font-size=\"14.00\">samples = 66</text>\r\n",
       "<text text-anchor=\"start\" x=\"129\" y=\"-102.3\" font-family=\"Helvetica,sans-Serif\" font-size=\"14.00\">value = [60, 6]</text>\r\n",
       "</g>\r\n",
       "<!-- 1&#45;&gt;10 -->\r\n",
       "<g id=\"edge3\" class=\"edge\">\r\n",
       "<title>1:&#45;&gt;10:</title>\r\n",
       "<path fill=\"none\" stroke=\"black\" d=\"M170.77,-188.99C171.17,-179.09 171.62,-168.04 172.04,-157.82\"/>\r\n",
       "<polygon fill=\"black\" stroke=\"black\" points=\"175.55,-157.69 172.46,-147.56 168.55,-157.41 175.55,-157.69\"/>\r\n",
       "</g>\r\n",
       "<!-- 3 -->\r\n",
       "<g id=\"node6\" class=\"node\">\r\n",
       "<title>3</title>\r\n",
       "<path fill=\"#f2bf9a\" stroke=\"black\" d=\"M351,-153C351,-153 262,-153 262,-153 256,-153 250,-147 250,-141 250,-141 250,-101 250,-101 250,-95 256,-89 262,-89 262,-89 351,-89 351,-89 357,-89 363,-95 363,-101 363,-101 363,-141 363,-141 363,-147 357,-153 351,-153\"/>\r\n",
       "<text text-anchor=\"start\" x=\"276\" y=\"-138.8\" font-family=\"Helvetica,sans-Serif\" font-size=\"14.00\">X</text>\r\n",
       "<text text-anchor=\"start\" x=\"286\" y=\"-138.8\" font-family=\"Helvetica,sans-Serif\" baseline-shift=\"sub\" font-size=\"14.00\">0</text>\r\n",
       "<text text-anchor=\"start\" x=\"293\" y=\"-138.8\" font-family=\"Helvetica,sans-Serif\" font-size=\"14.00\"> ≤ 8.03</text>\r\n",
       "<text text-anchor=\"start\" x=\"269\" y=\"-124.8\" font-family=\"Helvetica,sans-Serif\" font-size=\"14.00\">gini = 0.441</text>\r\n",
       "<text text-anchor=\"start\" x=\"259\" y=\"-110.8\" font-family=\"Helvetica,sans-Serif\" font-size=\"14.00\">samples = 128</text>\r\n",
       "<text text-anchor=\"start\" x=\"258\" y=\"-96.8\" font-family=\"Helvetica,sans-Serif\" font-size=\"14.00\">value = [86, 42]</text>\r\n",
       "</g>\r\n",
       "<!-- 2&#45;&gt;3 -->\r\n",
       "<g id=\"edge5\" class=\"edge\">\r\n",
       "<title>2:&#45;&gt;3:</title>\r\n",
       "<path fill=\"none\" stroke=\"black\" d=\"M308.55,-188.99C308.3,-180.86 308.03,-171.96 307.77,-163.38\"/>\r\n",
       "<polygon fill=\"black\" stroke=\"black\" points=\"311.26,-163.03 307.45,-153.14 304.26,-163.24 311.26,-163.03\"/>\r\n",
       "</g>\r\n",
       "<!-- 4 -->\r\n",
       "<g id=\"node9\" class=\"node\">\r\n",
       "<title>4</title>\r\n",
       "<path fill=\"#a3d1f3\" stroke=\"black\" d=\"M482,-153C482,-153 393,-153 393,-153 387,-153 381,-147 381,-141 381,-141 381,-101 381,-101 381,-95 387,-89 393,-89 393,-89 482,-89 482,-89 488,-89 494,-95 494,-101 494,-101 494,-141 494,-141 494,-147 488,-153 482,-153\"/>\r\n",
       "<text text-anchor=\"start\" x=\"403\" y=\"-138.8\" font-family=\"Helvetica,sans-Serif\" font-size=\"14.00\">X</text>\r\n",
       "<text text-anchor=\"start\" x=\"413\" y=\"-138.8\" font-family=\"Helvetica,sans-Serif\" baseline-shift=\"sub\" font-size=\"14.00\">0</text>\r\n",
       "<text text-anchor=\"start\" x=\"420\" y=\"-138.8\" font-family=\"Helvetica,sans-Serif\" font-size=\"14.00\"> ≤ 7.915</text>\r\n",
       "<text text-anchor=\"start\" x=\"400\" y=\"-124.8\" font-family=\"Helvetica,sans-Serif\" font-size=\"14.00\">gini = 0.454</text>\r\n",
       "<text text-anchor=\"start\" x=\"390\" y=\"-110.8\" font-family=\"Helvetica,sans-Serif\" font-size=\"14.00\">samples = 115</text>\r\n",
       "<text text-anchor=\"start\" x=\"389\" y=\"-96.8\" font-family=\"Helvetica,sans-Serif\" font-size=\"14.00\">value = [40, 75]</text>\r\n",
       "</g>\r\n",
       "<!-- 2&#45;&gt;4 -->\r\n",
       "<g id=\"edge8\" class=\"edge\">\r\n",
       "<title>2:&#45;&gt;4:</title>\r\n",
       "<path fill=\"none\" stroke=\"black\" d=\"M350,-188.99C362.26,-179.61 375.85,-169.2 388.59,-159.44\"/>\r\n",
       "<polygon fill=\"black\" stroke=\"black\" points=\"391.01,-162 396.82,-153.14 386.76,-156.44 391.01,-162\"/>\r\n",
       "</g>\r\n",
       "<!-- 5 -->\r\n",
       "<g id=\"node7\" class=\"node\">\r\n",
       "<title>5</title>\r\n",
       "<path fill=\"#e58139\" stroke=\"black\" d=\"M226,-53C226,-53 145,-53 145,-53 139,-53 133,-47 133,-41 133,-41 133,-12 133,-12 133,-6 139,0 145,0 145,0 226,0 226,0 232,0 238,-6 238,-12 238,-12 238,-41 238,-41 238,-47 232,-53 226,-53\"/>\r\n",
       "<text text-anchor=\"start\" x=\"156.5\" y=\"-37.8\" font-family=\"Helvetica,sans-Serif\" font-size=\"14.00\">gini = 0.0</text>\r\n",
       "<text text-anchor=\"start\" x=\"142\" y=\"-22.8\" font-family=\"Helvetica,sans-Serif\" font-size=\"14.00\">samples = 86</text>\r\n",
       "<text text-anchor=\"start\" x=\"141\" y=\"-7.8\" font-family=\"Helvetica,sans-Serif\" font-size=\"14.00\">value = [86, 0]</text>\r\n",
       "</g>\r\n",
       "<!-- 3&#45;&gt;5 -->\r\n",
       "<g id=\"edge6\" class=\"edge\">\r\n",
       "<title>3:&#45;&gt;5:</title>\r\n",
       "<path fill=\"none\" stroke=\"black\" d=\"M265.87,-88.94C253.37,-79.38 239.59,-68.85 227.03,-59.25\"/>\r\n",
       "<polygon fill=\"black\" stroke=\"black\" points=\"229.05,-56.38 218.98,-53.09 224.79,-61.94 229.05,-56.38\"/>\r\n",
       "</g>\r\n",
       "<!-- 6 -->\r\n",
       "<g id=\"node8\" class=\"node\">\r\n",
       "<title>6</title>\r\n",
       "<path fill=\"#399de5\" stroke=\"black\" d=\"M349,-53C349,-53 268,-53 268,-53 262,-53 256,-47 256,-41 256,-41 256,-12 256,-12 256,-6 262,0 268,0 268,0 349,0 349,0 355,0 361,-6 361,-12 361,-12 361,-41 361,-41 361,-47 355,-53 349,-53\"/>\r\n",
       "<text text-anchor=\"start\" x=\"279.5\" y=\"-37.8\" font-family=\"Helvetica,sans-Serif\" font-size=\"14.00\">gini = 0.0</text>\r\n",
       "<text text-anchor=\"start\" x=\"265\" y=\"-22.8\" font-family=\"Helvetica,sans-Serif\" font-size=\"14.00\">samples = 42</text>\r\n",
       "<text text-anchor=\"start\" x=\"264\" y=\"-7.8\" font-family=\"Helvetica,sans-Serif\" font-size=\"14.00\">value = [0, 42]</text>\r\n",
       "</g>\r\n",
       "<!-- 3&#45;&gt;6 -->\r\n",
       "<g id=\"edge7\" class=\"edge\">\r\n",
       "<title>3:&#45;&gt;6:</title>\r\n",
       "<path fill=\"none\" stroke=\"black\" d=\"M307.17,-88.94C307.35,-80.66 307.55,-71.64 307.73,-63.13\"/>\r\n",
       "<polygon fill=\"black\" stroke=\"black\" points=\"311.23,-63.16 307.95,-53.09 304.23,-63.01 311.23,-63.16\"/>\r\n",
       "</g>\r\n",
       "<!-- 7 -->\r\n",
       "<g id=\"node10\" class=\"node\">\r\n",
       "<title>7</title>\r\n",
       "<path fill=\"#e58139\" stroke=\"black\" d=\"M476,-53C476,-53 395,-53 395,-53 389,-53 383,-47 383,-41 383,-41 383,-12 383,-12 383,-6 389,0 395,0 395,0 476,0 476,0 482,0 488,-6 488,-12 488,-12 488,-41 488,-41 488,-47 482,-53 476,-53\"/>\r\n",
       "<text text-anchor=\"start\" x=\"406.5\" y=\"-37.8\" font-family=\"Helvetica,sans-Serif\" font-size=\"14.00\">gini = 0.0</text>\r\n",
       "<text text-anchor=\"start\" x=\"392\" y=\"-22.8\" font-family=\"Helvetica,sans-Serif\" font-size=\"14.00\">samples = 40</text>\r\n",
       "<text text-anchor=\"start\" x=\"391\" y=\"-7.8\" font-family=\"Helvetica,sans-Serif\" font-size=\"14.00\">value = [40, 0]</text>\r\n",
       "</g>\r\n",
       "<!-- 4&#45;&gt;7 -->\r\n",
       "<g id=\"edge9\" class=\"edge\">\r\n",
       "<title>4:&#45;&gt;7:</title>\r\n",
       "<path fill=\"none\" stroke=\"black\" d=\"M436.83,-88.94C436.65,-80.66 436.45,-71.64 436.27,-63.13\"/>\r\n",
       "<polygon fill=\"black\" stroke=\"black\" points=\"439.77,-63.01 436.05,-53.09 432.77,-63.16 439.77,-63.01\"/>\r\n",
       "</g>\r\n",
       "<!-- 8 -->\r\n",
       "<g id=\"node11\" class=\"node\">\r\n",
       "<title>8</title>\r\n",
       "<path fill=\"#399de5\" stroke=\"black\" d=\"M599,-53C599,-53 518,-53 518,-53 512,-53 506,-47 506,-41 506,-41 506,-12 506,-12 506,-6 512,0 518,0 518,0 599,0 599,0 605,0 611,-6 611,-12 611,-12 611,-41 611,-41 611,-47 605,-53 599,-53\"/>\r\n",
       "<text text-anchor=\"start\" x=\"529.5\" y=\"-37.8\" font-family=\"Helvetica,sans-Serif\" font-size=\"14.00\">gini = 0.0</text>\r\n",
       "<text text-anchor=\"start\" x=\"515\" y=\"-22.8\" font-family=\"Helvetica,sans-Serif\" font-size=\"14.00\">samples = 75</text>\r\n",
       "<text text-anchor=\"start\" x=\"514\" y=\"-7.8\" font-family=\"Helvetica,sans-Serif\" font-size=\"14.00\">value = [0, 75]</text>\r\n",
       "</g>\r\n",
       "<!-- 4&#45;&gt;8 -->\r\n",
       "<g id=\"edge10\" class=\"edge\">\r\n",
       "<title>4:&#45;&gt;8:</title>\r\n",
       "<path fill=\"none\" stroke=\"black\" d=\"M478.13,-88.94C490.63,-79.38 504.41,-68.85 516.97,-59.25\"/>\r\n",
       "<polygon fill=\"black\" stroke=\"black\" points=\"519.21,-61.94 525.02,-53.09 514.95,-56.38 519.21,-61.94\"/>\r\n",
       "</g>\r\n",
       "</g>\r\n",
       "</svg>\r\n"
      ],
      "text/plain": [
       "<graphviz.files.Source at 0x2127b1be460>"
      ]
     },
     "execution_count": 129,
     "metadata": {},
     "output_type": "execute_result"
    }
   ],
   "source": [
    "#Q3\n",
    "from sklearn import tree\n",
    "dot_data = tree.export_graphviz(clf, out_file=None,\n",
    "                      filled=True, rounded=True,  \n",
    "                      special_characters=True)  \n",
    "graph = graphviz.Source(dot_data)  \n",
    "graph"
   ]
  },
  {
   "cell_type": "markdown",
   "metadata": {},
   "source": [
    "### Random Tree Classifier\n",
    "\n",
    "Digits Classification demonstration"
   ]
  },
  {
   "cell_type": "code",
   "execution_count": 3,
   "metadata": {},
   "outputs": [
    {
     "data": {
      "text/plain": [
       "dict_keys(['data', 'target', 'frame', 'feature_names', 'target_names', 'images', 'DESCR'])"
      ]
     },
     "execution_count": 3,
     "metadata": {},
     "output_type": "execute_result"
    }
   ],
   "source": [
    "#source: Jake VanderPlas\n",
    "from sklearn.datasets import load_digits\n",
    "import matplotlib.pyplot as plt\n",
    "digits = load_digits()\n",
    "digits.keys()"
   ]
  },
  {
   "cell_type": "code",
   "execution_count": 14,
   "metadata": {},
   "outputs": [
    {
     "data": {
      "image/png": "[encoded data removed]",
      "text/plain": [
       "<Figure size 432x432 with 64 Axes>"
      ]
     },
     "metadata": {},
     "output_type": "display_data"
    }
   ],
   "source": [
    "# set up the figure\n",
    "fig = plt.figure(figsize=(6, 6))  # figure size in inches\n",
    "fig.subplots_adjust(left=0, right=1, bottom=0, top=1, hspace=0.05, wspace=0.05)\n",
    "\n",
    "# plot the digits: each image is 8x8 pixels\n",
    "for i in range(64):\n",
    "    ax = fig.add_subplot(8, 8, i + 1, xticks=[], yticks=[])\n",
    "    ax.imshow(digits.images[i], cmap=plt.cm.binary, interpolation='nearest')\n",
    "    \n",
    "    # label the image with the target value\n",
    "    ax.text(0, 7, str(digits.target[i]))\n"
   ]
  },
  {
   "cell_type": "code",
   "execution_count": 8,
   "metadata": {},
   "outputs": [],
   "source": [
    "from sklearn.model_selection  import train_test_split\n",
    "from sklearn.ensemble import RandomForestClassifier\n",
    "\n",
    "Xtrain, Xtest, ytrain, ytest = train_test_split(digits.data, digits.target,\n",
    "                                                random_state=0)\n",
    "model = RandomForestClassifier(n_estimators=1000) # this is the number of trees \n",
    "model.fit(Xtrain, ytrain)\n",
    "ypred = model.predict(Xtest)"
   ]
  },
  {
   "cell_type": "code",
   "execution_count": 9,
   "metadata": {},
   "outputs": [
    {
     "name": "stdout",
     "output_type": "stream",
     "text": [
      "              precision    recall  f1-score   support\n",
      "\n",
      "           0       1.00      0.97      0.99        38\n",
      "           1       0.98      0.95      0.97        44\n",
      "           2       0.95      1.00      0.98        42\n",
      "           3       0.98      0.98      0.98        45\n",
      "           4       0.97      1.00      0.99        37\n",
      "           5       0.98      0.96      0.97        49\n",
      "           6       1.00      1.00      1.00        52\n",
      "           7       1.00      0.96      0.98        50\n",
      "           8       0.94      0.98      0.96        46\n",
      "           9       0.98      0.98      0.98        47\n",
      "\n",
      "    accuracy                           0.98       450\n",
      "   macro avg       0.98      0.98      0.98       450\n",
      "weighted avg       0.98      0.98      0.98       450\n",
      "\n"
     ]
    }
   ],
   "source": [
    "from sklearn import metrics\n",
    "print(metrics.classification_report(ypred, ytest))"
   ]
  },
  {
   "cell_type": "code",
   "execution_count": 11,
   "metadata": {},
   "outputs": [
    {
     "data": {
      "image/png": "[encoded data removed]",
      "text/plain": [
       "<Figure size 432x288 with 1 Axes>"
      ]
     },
     "metadata": {
      "needs_background": "light"
     },
     "output_type": "display_data"
    }
   ],
   "source": [
    "from sklearn.metrics import confusion_matrix\n",
    "import seaborn as sns\n",
    "\n",
    "mat = confusion_matrix(ytest, ypred)\n",
    "sns.heatmap(mat.T, square=True, annot=True, fmt='d', cbar=False)\n",
    "plt.xlabel('true label')\n",
    "plt.ylabel('predicted label');"
   ]
  },
  {
   "cell_type": "code",
   "execution_count": null,
   "metadata": {},
   "outputs": [],
   "source": []
  }
 ],
 "metadata": {
  "kernelspec": {
   "display_name": "Python 3",
   "language": "python",
   "name": "python3"
  },
  "language_info": {
   "codemirror_mode": {
    "name": "ipython",
    "version": 3
   },
   "file_extension": ".py",
   "mimetype": "text/x-python",
   "name": "python",
   "nbconvert_exporter": "python",
   "pygments_lexer": "ipython3",
   "version": "3.8.8"
  }
 },
 "nbformat": 4,
 "nbformat_minor": 2
}
